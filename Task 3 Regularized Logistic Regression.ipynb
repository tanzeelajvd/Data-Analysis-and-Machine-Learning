{
 "cells": [
  {
   "cell_type": "raw",
   "id": "d24fc445-6256-488d-a04e-aef3db62239d",
   "metadata": {},
   "source": [
    "---\n",
    "title: \"Task 3\"\n",
    "subtitle: \"Regularized Logistic Regression\"\n",
    "author: \"Tanzeela Javid Kaloo\"\n",
    "date: \"April 18, 2023\"\n",
    "---"
   ]
  },
  {
   "cell_type": "markdown",
   "id": "db8c59b9-c0c7-49f6-bd1a-80b81ce2122c",
   "metadata": {},
   "source": [
    "**Task 3:** Find a data set which is suitable for binary classification (there is no limit on the number of features or type of the features). Then, apply logistic regression with l1 norm, l2 norm, and elastic-net to this data set to find the best performing model with respect to a classification metric. Explain the reason (give support) why you picked that model as the final one.\n"
   ]
  },
  {
   "cell_type": "code",
   "execution_count": 1,
   "id": "2e39414c-d143-44b6-8cf9-9cc5602b6cd1",
   "metadata": {},
   "outputs": [],
   "source": [
    "import warnings\n",
    "\n",
    "# Ignore all warnings\n",
    "warnings.filterwarnings(\"ignore\")"
   ]
  },
  {
   "cell_type": "markdown",
   "id": "6e826e6a-eeaf-4e4e-85f1-353138428d45",
   "metadata": {},
   "source": [
    "## Binary Classification using Logistic Regression\n",
    "\n",
    "**To perform binary classification using logistic regression and choose the best performing model we'll follow the below sequence**:\n",
    "\n",
    "1. `Find a suitable dataset` for binary classification. This can be any dataset that has a binary target variable and a set of features that can be used to predict the target variable.\n",
    "2. `Split the data into training and testing sets`. This allows you to evaluate the performance of the logistic regression models on unseen data.\n",
    "3. `Prepare the data by cleaning and preprocessing it`. This might involve steps such as imputing missing values, scaling the data, and encoding categorical variables.\n",
    "4. `Define a hyperparameter grid to search over during model training`. This can include regularization penalties, solver algorithms, and other hyperparameters that affect model performance.\n",
    "5. `Train a logistic regression model with L1 regularization on the training data using cross-validation`. This will produce a set of models with different hyperparameter settings that can be compared based on a chosen evaluation metric.\n",
    "6.` Train a logistic regression model with L2 regularization using cross-validation`. This will produce another set of models that can be compared to the L1 models.\n",
    "7. `Train a logistic regression model with elastic-net regularization using cross-validation`. This will produce a third set of models that can be compared to the L1 and L2 models.\n",
    "8. `Evaluate the performance of each model using the testing data and the chosen evaluation metric`. This can include metrics such as accuracy, precision, recall, and F1 score.\n",
    "9. `Choose the best performing model based on the evaluation metric`. This might involve comparing the mean and variance of the metric across multiple runs of the cross-validation process, or using statistical tests to determine whether the difference between the models is statistically significant.\n",
    "10. `Explaination of the Model`. This might involve discussing the relative strengths and weaknesses of the L1, L2, and elastic-net models, or analyzing the coefficients of the final model to identify the most important features for predicting the target variable.\n",
    "11. `Write the conclusion` of the above experiment."
   ]
  },
  {
   "cell_type": "code",
   "execution_count": 2,
   "id": "9c85a77b-d4c9-445a-a7b9-68a49fd44094",
   "metadata": {},
   "outputs": [],
   "source": [
    "# Importing necesarry Libraries\n",
    "\n",
    "import numpy as np\n",
    "import pandas as pd\n",
    "import matplotlib.pyplot as plt\n",
    "from sklearn.linear_model import LogisticRegression, ElasticNetCV\n",
    "from sklearn.pipeline import make_pipeline, Pipeline\n",
    "from sklearn.preprocessing import StandardScaler\n",
    "from sklearn.model_selection import train_test_split, StratifiedKFold, GridSearchCV\n",
    "from sklearn.metrics import roc_auc_score, ConfusionMatrixDisplay, classification_report, RocCurveDisplay, roc_curve, confusion_matrix, auc"
   ]
  },
  {
   "cell_type": "markdown",
   "id": "115a4527-c401-4e9c-834d-c523121219dc",
   "metadata": {},
   "source": [
    "### The following libraries and modules are imported for performing logistic regression and hyperparameter tuning using cross-validation:\n",
    "\n",
    "- `numpy` is imported as `np` for numerical computations.\n",
    "- `LogisticRegression` from `sklearn.linear_model` is imported to perform logistic regression.\n",
    "- `train_test_split` from `sklearn.model_selection` is imported to split the data into training and testing sets.\n",
    "- `roc_auc_score` from `sklearn.metrics` is imported to compute the ROC AUC score for binary classification.\n",
    "- `make_pipeline` from `sklearn.pipeline` is imported to create a pipeline of preprocessing and modeling steps.\n",
    "- `StandardScaler` from `sklearn.preprocessing` is imported to standardize the input features.\n",
    "- `ElasticNetCV` from `sklearn.linear_model` is imported to perform logistic regression with L1 and L2 regularization.\n",
    "- `StratifiedKFold` from `sklearn.model_selection` is imported to perform stratified cross-validation.\n",
    "- `GridSearchCV` from `sklearn.model_selection` is imported to perform grid search over hyperparameters."
   ]
  },
  {
   "cell_type": "markdown",
   "id": "77adf5e5-a8a8-4110-a046-0a95b589c77a",
   "metadata": {},
   "source": [
    "# Data Set Description\n",
    "## Step 1. Statlog (Australian Credit Approval) Dataset \n",
    "\n",
    "This file concerns credit card applications.  All attribute names and values have been changed to meaningless symbols to protect confidentiality of the data.\n",
    "  \n",
    "This dataset is interesting because there is a good mix of attributes -- `continuous`, `nominal with small numbers of values`, and `nominal with larger numbers of values`.  There are also a few missing values.\n",
    "\n",
    "**Attribute Information**\n",
    "\n",
    "- `A1`: 0,1    CATEGORICAL (formerly: a,b)\n",
    "- `A2`: continuous.\n",
    "- `A3`: continuous.\n",
    "- `A4`: 1,2,3    CATEGORICAL  (formerly: p,g,gg)\n",
    "- `A5`: 1, 2,3,4,5, 6,7,8,9,10,11,12,13,14    CATEGORICAL (formerly: ff,d,i,k,j,aa,m,c,w, e, q, r,cc, x)\n",
    "- `A6`: 1, 2,3, 4,5,6,7,8,9    CATEGORICAL (formerly: ff,dd,j,bb,v,n,o,h,z)\n",
    "- `A7`: continuous.\n",
    "- `A8`: 1, 0    CATEGORICAL (formerly: t, f)\n",
    "- `A9`: 1, 0 CATEGORICAL (formerly: t, f)\n",
    "- `A10`:  continuous.\n",
    "- `A11`:  1, 0 CATEGORICAL (formerly t, f)\n",
    "- `A12`:  1, 2, 3    CATEGORICAL (formerly: s, g, p) \n",
    "- `A13`:  continuous.\n",
    "- `A14`:  continuous.\n",
    "\n",
    "\n",
    "**Class Attribute**\n",
    "- `A15`:   1,2  class attribute (formerly: +,-)  \n",
    "\n",
    "\n",
    "**For more details check:** https://archive-beta.ics.uci.edu/dataset/143/statlog+australian+credit+approval"
   ]
  },
  {
   "cell_type": "code",
   "execution_count": 3,
   "id": "9ce237e5-e41c-48fd-89c1-f092a17296fe",
   "metadata": {
    "tags": []
   },
   "outputs": [
    {
     "data": {
      "text/html": [
       "<div>\n",
       "<style scoped>\n",
       "    .dataframe tbody tr th:only-of-type {\n",
       "        vertical-align: middle;\n",
       "    }\n",
       "\n",
       "    .dataframe tbody tr th {\n",
       "        vertical-align: top;\n",
       "    }\n",
       "\n",
       "    .dataframe thead th {\n",
       "        text-align: right;\n",
       "    }\n",
       "</style>\n",
       "<table border=\"1\" class=\"dataframe\">\n",
       "  <thead>\n",
       "    <tr style=\"text-align: right;\">\n",
       "      <th></th>\n",
       "      <th>0</th>\n",
       "      <th>1</th>\n",
       "      <th>2</th>\n",
       "      <th>3</th>\n",
       "      <th>4</th>\n",
       "      <th>5</th>\n",
       "      <th>6</th>\n",
       "      <th>7</th>\n",
       "      <th>8</th>\n",
       "      <th>9</th>\n",
       "      <th>10</th>\n",
       "      <th>11</th>\n",
       "      <th>12</th>\n",
       "      <th>13</th>\n",
       "      <th>14</th>\n",
       "    </tr>\n",
       "  </thead>\n",
       "  <tbody>\n",
       "    <tr>\n",
       "      <th>0</th>\n",
       "      <td>1</td>\n",
       "      <td>22.08</td>\n",
       "      <td>11.46</td>\n",
       "      <td>2</td>\n",
       "      <td>4</td>\n",
       "      <td>4</td>\n",
       "      <td>1.585</td>\n",
       "      <td>0</td>\n",
       "      <td>0</td>\n",
       "      <td>0</td>\n",
       "      <td>1</td>\n",
       "      <td>2</td>\n",
       "      <td>100</td>\n",
       "      <td>1213</td>\n",
       "      <td>0</td>\n",
       "    </tr>\n",
       "    <tr>\n",
       "      <th>1</th>\n",
       "      <td>0</td>\n",
       "      <td>22.67</td>\n",
       "      <td>7.00</td>\n",
       "      <td>2</td>\n",
       "      <td>8</td>\n",
       "      <td>4</td>\n",
       "      <td>0.165</td>\n",
       "      <td>0</td>\n",
       "      <td>0</td>\n",
       "      <td>0</td>\n",
       "      <td>0</td>\n",
       "      <td>2</td>\n",
       "      <td>160</td>\n",
       "      <td>1</td>\n",
       "      <td>0</td>\n",
       "    </tr>\n",
       "    <tr>\n",
       "      <th>2</th>\n",
       "      <td>0</td>\n",
       "      <td>29.58</td>\n",
       "      <td>1.75</td>\n",
       "      <td>1</td>\n",
       "      <td>4</td>\n",
       "      <td>4</td>\n",
       "      <td>1.250</td>\n",
       "      <td>0</td>\n",
       "      <td>0</td>\n",
       "      <td>0</td>\n",
       "      <td>1</td>\n",
       "      <td>2</td>\n",
       "      <td>280</td>\n",
       "      <td>1</td>\n",
       "      <td>0</td>\n",
       "    </tr>\n",
       "    <tr>\n",
       "      <th>3</th>\n",
       "      <td>0</td>\n",
       "      <td>21.67</td>\n",
       "      <td>11.50</td>\n",
       "      <td>1</td>\n",
       "      <td>5</td>\n",
       "      <td>3</td>\n",
       "      <td>0.000</td>\n",
       "      <td>1</td>\n",
       "      <td>1</td>\n",
       "      <td>11</td>\n",
       "      <td>1</td>\n",
       "      <td>2</td>\n",
       "      <td>0</td>\n",
       "      <td>1</td>\n",
       "      <td>1</td>\n",
       "    </tr>\n",
       "    <tr>\n",
       "      <th>4</th>\n",
       "      <td>1</td>\n",
       "      <td>20.17</td>\n",
       "      <td>8.17</td>\n",
       "      <td>2</td>\n",
       "      <td>6</td>\n",
       "      <td>4</td>\n",
       "      <td>1.960</td>\n",
       "      <td>1</td>\n",
       "      <td>1</td>\n",
       "      <td>14</td>\n",
       "      <td>0</td>\n",
       "      <td>2</td>\n",
       "      <td>60</td>\n",
       "      <td>159</td>\n",
       "      <td>1</td>\n",
       "    </tr>\n",
       "  </tbody>\n",
       "</table>\n",
       "</div>"
      ],
      "text/plain": [
       "   0      1      2   3   4   5      6   7   8   9   10  11   12    13  14\n",
       "0   1  22.08  11.46   2   4   4  1.585   0   0   0   1   2  100  1213   0\n",
       "1   0  22.67   7.00   2   8   4  0.165   0   0   0   0   2  160     1   0\n",
       "2   0  29.58   1.75   1   4   4  1.250   0   0   0   1   2  280     1   0\n",
       "3   0  21.67  11.50   1   5   3  0.000   1   1  11   1   2    0     1   1\n",
       "4   1  20.17   8.17   2   6   4  1.960   1   1  14   0   2   60   159   1"
      ]
     },
     "execution_count": 3,
     "metadata": {},
     "output_type": "execute_result"
    }
   ],
   "source": [
    "# Load Data\n",
    "aus_df = pd.read_csv(\"datasets/australian.csv\", header=None )\n",
    "aus_df.head()"
   ]
  },
  {
   "cell_type": "markdown",
   "id": "c72e0c75-595b-450c-a03f-f9066e7ed997",
   "metadata": {},
   "source": [
    "We need to add an index row to the dataset, and we will label it with the column names A1 through A15."
   ]
  },
  {
   "cell_type": "code",
   "execution_count": 4,
   "id": "611a3fdc-ccf6-4c1b-9440-9905ffbe00bb",
   "metadata": {},
   "outputs": [
    {
     "data": {
      "text/html": [
       "<div>\n",
       "<style scoped>\n",
       "    .dataframe tbody tr th:only-of-type {\n",
       "        vertical-align: middle;\n",
       "    }\n",
       "\n",
       "    .dataframe tbody tr th {\n",
       "        vertical-align: top;\n",
       "    }\n",
       "\n",
       "    .dataframe thead th {\n",
       "        text-align: right;\n",
       "    }\n",
       "</style>\n",
       "<table border=\"1\" class=\"dataframe\">\n",
       "  <thead>\n",
       "    <tr style=\"text-align: right;\">\n",
       "      <th></th>\n",
       "      <th>A1</th>\n",
       "      <th>A2</th>\n",
       "      <th>A3</th>\n",
       "      <th>A4</th>\n",
       "      <th>A5</th>\n",
       "      <th>A6</th>\n",
       "      <th>A7</th>\n",
       "      <th>A8</th>\n",
       "      <th>A9</th>\n",
       "      <th>A10</th>\n",
       "      <th>A11</th>\n",
       "      <th>A12</th>\n",
       "      <th>A13</th>\n",
       "      <th>A14</th>\n",
       "      <th>A15</th>\n",
       "    </tr>\n",
       "  </thead>\n",
       "  <tbody>\n",
       "    <tr>\n",
       "      <th>0</th>\n",
       "      <td>1</td>\n",
       "      <td>22.08</td>\n",
       "      <td>11.46</td>\n",
       "      <td>2</td>\n",
       "      <td>4</td>\n",
       "      <td>4</td>\n",
       "      <td>1.585</td>\n",
       "      <td>0</td>\n",
       "      <td>0</td>\n",
       "      <td>0</td>\n",
       "      <td>1</td>\n",
       "      <td>2</td>\n",
       "      <td>100</td>\n",
       "      <td>1213</td>\n",
       "      <td>0</td>\n",
       "    </tr>\n",
       "    <tr>\n",
       "      <th>1</th>\n",
       "      <td>0</td>\n",
       "      <td>22.67</td>\n",
       "      <td>7.00</td>\n",
       "      <td>2</td>\n",
       "      <td>8</td>\n",
       "      <td>4</td>\n",
       "      <td>0.165</td>\n",
       "      <td>0</td>\n",
       "      <td>0</td>\n",
       "      <td>0</td>\n",
       "      <td>0</td>\n",
       "      <td>2</td>\n",
       "      <td>160</td>\n",
       "      <td>1</td>\n",
       "      <td>0</td>\n",
       "    </tr>\n",
       "    <tr>\n",
       "      <th>2</th>\n",
       "      <td>0</td>\n",
       "      <td>29.58</td>\n",
       "      <td>1.75</td>\n",
       "      <td>1</td>\n",
       "      <td>4</td>\n",
       "      <td>4</td>\n",
       "      <td>1.250</td>\n",
       "      <td>0</td>\n",
       "      <td>0</td>\n",
       "      <td>0</td>\n",
       "      <td>1</td>\n",
       "      <td>2</td>\n",
       "      <td>280</td>\n",
       "      <td>1</td>\n",
       "      <td>0</td>\n",
       "    </tr>\n",
       "    <tr>\n",
       "      <th>3</th>\n",
       "      <td>0</td>\n",
       "      <td>21.67</td>\n",
       "      <td>11.50</td>\n",
       "      <td>1</td>\n",
       "      <td>5</td>\n",
       "      <td>3</td>\n",
       "      <td>0.000</td>\n",
       "      <td>1</td>\n",
       "      <td>1</td>\n",
       "      <td>11</td>\n",
       "      <td>1</td>\n",
       "      <td>2</td>\n",
       "      <td>0</td>\n",
       "      <td>1</td>\n",
       "      <td>1</td>\n",
       "    </tr>\n",
       "    <tr>\n",
       "      <th>4</th>\n",
       "      <td>1</td>\n",
       "      <td>20.17</td>\n",
       "      <td>8.17</td>\n",
       "      <td>2</td>\n",
       "      <td>6</td>\n",
       "      <td>4</td>\n",
       "      <td>1.960</td>\n",
       "      <td>1</td>\n",
       "      <td>1</td>\n",
       "      <td>14</td>\n",
       "      <td>0</td>\n",
       "      <td>2</td>\n",
       "      <td>60</td>\n",
       "      <td>159</td>\n",
       "      <td>1</td>\n",
       "    </tr>\n",
       "  </tbody>\n",
       "</table>\n",
       "</div>"
      ],
      "text/plain": [
       "   A1     A2     A3  A4  A5  A6     A7  A8  A9  A10  A11  A12  A13   A14  A15\n",
       "0   1  22.08  11.46   2   4   4  1.585   0   0    0    1    2  100  1213    0\n",
       "1   0  22.67   7.00   2   8   4  0.165   0   0    0    0    2  160     1    0\n",
       "2   0  29.58   1.75   1   4   4  1.250   0   0    0    1    2  280     1    0\n",
       "3   0  21.67  11.50   1   5   3  0.000   1   1   11    1    2    0     1    1\n",
       "4   1  20.17   8.17   2   6   4  1.960   1   1   14    0    2   60   159    1"
      ]
     },
     "execution_count": 4,
     "metadata": {},
     "output_type": "execute_result"
    }
   ],
   "source": [
    "aus_df.columns = [\"A1\", \"A2\", \"A3\", \"A4\", \"A5\", \"A6\", \"A7\", \"A8\", \"A9\",\n",
    "                  \"A10\", \"A11\", \"A12\", \"A13\", \"A14\", \"A15\"]\n",
    "aus_df.head()"
   ]
  },
  {
   "cell_type": "code",
   "execution_count": 5,
   "id": "902982a9-d47b-471b-892b-173cddd55222",
   "metadata": {},
   "outputs": [
    {
     "name": "stdout",
     "output_type": "stream",
     "text": [
      "<class 'pandas.core.frame.DataFrame'>\n",
      "RangeIndex: 690 entries, 0 to 689\n",
      "Data columns (total 15 columns):\n",
      " #   Column  Non-Null Count  Dtype  \n",
      "---  ------  --------------  -----  \n",
      " 0   A1      690 non-null    int64  \n",
      " 1   A2      690 non-null    float64\n",
      " 2   A3      690 non-null    float64\n",
      " 3   A4      690 non-null    int64  \n",
      " 4   A5      690 non-null    int64  \n",
      " 5   A6      690 non-null    int64  \n",
      " 6   A7      690 non-null    float64\n",
      " 7   A8      690 non-null    int64  \n",
      " 8   A9      690 non-null    int64  \n",
      " 9   A10     690 non-null    int64  \n",
      " 10  A11     690 non-null    int64  \n",
      " 11  A12     690 non-null    int64  \n",
      " 12  A13     690 non-null    int64  \n",
      " 13  A14     690 non-null    int64  \n",
      " 14  A15     690 non-null    int64  \n",
      "dtypes: float64(3), int64(12)\n",
      "memory usage: 81.0 KB\n"
     ]
    }
   ],
   "source": [
    "aus_df.info()"
   ]
  },
  {
   "cell_type": "markdown",
   "id": "2de3da5b-a206-43a4-bd29-3767147eeab6",
   "metadata": {},
   "source": [
    "The dataset has `690 rows` and `15 columns`. The columns are labeled A1 through A15 and have different data types, including object, float64, and int64.\n",
    "\n",
    "The non-null count for each column is 690, indicating that there are no missing values in the Dataset."
   ]
  },
  {
   "cell_type": "markdown",
   "id": "6584a6e6-e1ca-4d6f-897c-cdf224ed9ada",
   "metadata": {},
   "source": [
    "## Step 2. Splitting Data Set\n",
    "\n",
    "- `train_test_split` function from `sklearn.model_selection` module is used to split the data into training and test sets.\n",
    "- The training set consists of 80% of the data, and the test set consists of 20% of the data.\n",
    "- The random state is set to 42 for reproducibility.\n",
    "- The input features for the training set are stored in `X_train`.\n",
    "- The target variable for the training set is stored in `y_train`.\n",
    "- The input features for the test set are stored in `X_test`.\n",
    "- The target variable for the test set is stored in `y_test`.\n"
   ]
  },
  {
   "cell_type": "code",
   "execution_count": 6,
   "id": "3b7c578d-65d6-4bea-b221-f22b462971dd",
   "metadata": {
    "tags": []
   },
   "outputs": [],
   "source": [
    "#split the data set as train_val and test names\n",
    "X = aus_df.drop(columns=['A15'], axis=1)\n",
    "y = aus_df[['A15']]\n",
    "\n",
    "#Split DataSet\n",
    "X_train, X_test, y_train, y_test = train_test_split(X, y, test_size=0.20, random_state=1300, stratify = y)"
   ]
  },
  {
   "cell_type": "code",
   "execution_count": 7,
   "id": "77397d0a-c1b0-4065-b6dc-7dee8a271823",
   "metadata": {},
   "outputs": [
    {
     "name": "stdout",
     "output_type": "stream",
     "text": [
      "(552, 14)\n",
      "(138, 14)\n"
     ]
    }
   ],
   "source": [
    "print(X_train.shape)\n",
    "print(X_test.shape)"
   ]
  },
  {
   "cell_type": "markdown",
   "id": "71a02c39-cbdd-4d8d-a0fd-8975049bed39",
   "metadata": {},
   "source": [
    "## Step (3 + 4). Data Preprocessing + Define a Hyperparameter Grid\n",
    "\n",
    "### Step 3. Data Preprocessing\n",
    "\n",
    "The following steps are performed to create a pipeline with StandardScaler as preprocessing step and logistic regression model as classification model: \n",
    "**Three pipelines are defined for logistic regression models with different types of regularization:**\n",
    "\n",
    "1. The first pipeline uses L1 norm regularization.\n",
    "2. The second pipeline uses L2 norm regularization.\n",
    "3. The third pipeline uses ElasticNet regularization, which is a combination of L1 and L2 regularization.\n",
    "\n",
    "**Each pipeline has two main steps:**\n",
    "\n",
    "`StandardScaler`: This is a preprocessing step that scales the features to have zero mean and unit variance. Scaling the features can help the model perform better and converge faster by putting all features on the same scale.\n",
    "`LogisticRegression (or ElasticNetCV)`: This is the main step that defines the logistic regression model. It estimates the coefficients of the model that best predict the outcome variable based on the input features. The different types of regularization affect how the coefficients are estimated, which can help prevent overfitting and improve the generalization performance of the model.\n",
    "\n",
    "**Some additional details about the three pipelines:**\n",
    "\n",
    "- The first pipeline uses L1 norm regularization, which is also known as Lasso regularization. It encourages the model to have sparse coefficients, meaning that some coefficients will be exactly zero, effectively performing feature selection.\n",
    "- The second pipeline uses L2 norm regularization, which is also known as Ridge regularization. It encourages the model to have small, non-zero coefficients, effectively reducing the impact of multicollinearity and improving the stability of the model.\n",
    "- The third pipeline uses ElasticNet regularization, which combines the benefits of L1 and L2 regularization. It encourages the model to have sparse coefficients while also reducing the impact of multicollinearity. The parameters l1_ratio and alphas control the balance between L1 and L2 regularization and the strength of the regularization, respectively. The ElasticNetCV function automatically tunes these parameters using cross-validation.\n",
    "\n",
    "### Step 4. Define a Hyperparameter Grid\n",
    "\n",
    "The following steps are performed to perform hyperparameter tuning for the logistic regression model:\n",
    "**Three grid search cross-validation procedures are defined to tune the hyperparameters of three different logistic regression models:**\n",
    "\n",
    "- The first grid search procedure is for the linear regression model with `L1 norm` regularization (lasso regression). The hyperparameters to tune are the penalty parameter (penalty) and the` regularization strength` (C). The penalty parameter is set to '`l1`' to use L1 norm regularization. The C parameter is varied over a range of values from 10^-4 to 10^4. The performance metric used for evaluation is accuracy, and the cross-validation procedure used is StratifiedKFold with 6 splits.\n",
    "\n",
    "- The second grid search procedure is for the linear regression model with `L2 norm `regularization (ridge regression). The hyperparameter to tune is the `regularization strength` (C), which is varied over a range of values from 10^0.1 to 10^0.9. The performance metric and cross-validation procedure are the same as in the first grid search procedure.\n",
    "\n",
    "- The third grid search procedure is for the linear regression model with `ElasticNet` regularization. The hyperparameters to tune are the L1/L2 ratio (`l1_ratio`) and the regularization strength (alphas). The L1/L2 ratio is varied over a range of values from 0.001 to 0.009, and the regularization strength is varied over two sets of values: from 0.01 to 10.0, and from 0.01 to 0.9. The `ElasticNetCV` function is used for regularization, and the performance metric and cross-validation procedure are the same as in the first two grid search procedures.\n",
    "\n",
    "Each grid search procedure uses `GridSearchCV` from `scikit-learn` to perform the cross-validation and hyperparameter tuning. The estimator parameter specifies the pipeline object that defines the model, and the `param_grid` parameter specifies the grid of hyperparameters to search. The `scoring parameter` specifies the performance metric to optimize, and the `cv parameter` specifies the cross-validation procedure to use. The `return_train_score` and `error_score` parameters control whether to return the training scores and how to handle errors during fitting, respectively.\n",
    "\n",
    "- **Model with L1 Regularization**"
   ]
  },
  {
   "cell_type": "code",
   "execution_count": 8,
   "id": "0cdaffce-05f1-4855-9176-382bb0614adb",
   "metadata": {},
   "outputs": [],
   "source": [
    "# Define pipeline for Logistic Regression Model with L1 norm regularization\n",
    "logreg_l1 = make_pipeline(StandardScaler(), LogisticRegression(solver='liblinear'))\n",
    "\n",
    "# Define grid of hyperparameters for Linear Regression Model with L1 norm Regularization\n",
    "param_grid_l1 = {'logisticregression__penalty' : ['l1'],\n",
    "               'logisticregression__C' : np.logspace(-4, 4, 20)\n",
    "               }\n",
    "kcv = StratifiedKFold(n_splits=6, shuffle=True, random_state=12) \n",
    "logreg_l1 = GridSearchCV(estimator = logreg_l1, param_grid = param_grid_l1, scoring='accuracy', cv = kcv, return_train_score=True)"
   ]
  },
  {
   "cell_type": "markdown",
   "id": "607afe34-49f9-4294-8f0b-98f5e5d088e5",
   "metadata": {},
   "source": [
    "- **Model with L2 Regularization**"
   ]
  },
  {
   "cell_type": "code",
   "execution_count": 9,
   "id": "840b9ed8-93f4-4a9b-86b1-6ca7c6a5298b",
   "metadata": {},
   "outputs": [],
   "source": [
    "# Define pipeline for Logistic Regression Model with L2 norm regularization\n",
    "logreg_l2 = make_pipeline(StandardScaler(), LogisticRegression(penalty = 'l2', solver='liblinear'))\n",
    "\n",
    "# Define grid of hyperparameters for Linear Regression Model with L2 norm Regularization\n",
    "param_grid_l2 = {'logisticregression__C' : np.logspace(0.1,0.9,20) \n",
    "               }\n",
    "kcv = StratifiedKFold(n_splits=6, shuffle=True, random_state=1100) \n",
    "logreg_l2 = GridSearchCV(estimator = logreg_l2, param_grid = param_grid_l2, scoring='accuracy', \n",
    "                         cv = kcv, return_train_score=True, error_score='raise') "
   ]
  },
  {
   "cell_type": "markdown",
   "id": "6de54480-a712-4491-b94d-b489b2c35ea1",
   "metadata": {},
   "source": [
    "- **Model with ElasticNet Regularization**"
   ]
  },
  {
   "cell_type": "code",
   "execution_count": 10,
   "id": "ca4d53e6-fb6a-4f7d-b180-73e3f721d7bd",
   "metadata": {},
   "outputs": [],
   "source": [
    "# Define pipeline for Logistic Regression Model with ElasticNet regularization\n",
    "logreg_en = Pipeline([\n",
    "    ('scaler', StandardScaler()),\n",
    "    ('elasticnetcv', ElasticNetCV())\n",
    "])\n",
    "\n",
    "# Define grid of hyperparameters for Linear Regression Model with ElasticNet Regularization\n",
    "param_grid_en = {\n",
    "    'elasticnetcv__l1_ratio': np.linspace(0.001, 0.009, 50),\n",
    "    'elasticnetcv__alphas': [np.linspace(0.01, 10.0, 20), np.linspace(0.01, 0.9, 20)]\n",
    "}\n",
    "\n",
    "kcv = StratifiedKFold(n_splits=6, shuffle=True, random_state=11) \n",
    "\n",
    "# Perform grid search\n",
    "logreg_en = GridSearchCV(logreg_en, param_grid=param_grid_en, cv=kcv, scoring='r2')"
   ]
  },
  {
   "cell_type": "markdown",
   "id": "1381a9d5-fe9c-43d5-9b69-4ba01206b5c3",
   "metadata": {},
   "source": [
    "## Step 5. Train a Logistic Regression Model with L1 Regularization\n",
    "\n",
    "- Fits a logistic regression model with L1 norm regularization on the training data `X_train` and `y_train`\n",
    "- The `fit()` method is called on the `logreg_l1` object, which is an instance of `LogisticRegression` that was previously defined with L1 norm regularization penalty.\n",
    "- This code trains the logistic regression model on the training data to learn the relationship between the features in `X_train` and the corresponding target variable `y_train`\n",
    "- Once trained, the model can be used to make predictions on new data\n"
   ]
  },
  {
   "cell_type": "code",
   "execution_count": 11,
   "id": "49fe037c-928f-452c-b996-50c46fbfe149",
   "metadata": {},
   "outputs": [
    {
     "data": {
      "text/html": [
       "<style>#sk-container-id-1 {color: black;background-color: white;}#sk-container-id-1 pre{padding: 0;}#sk-container-id-1 div.sk-toggleable {background-color: white;}#sk-container-id-1 label.sk-toggleable__label {cursor: pointer;display: block;width: 100%;margin-bottom: 0;padding: 0.3em;box-sizing: border-box;text-align: center;}#sk-container-id-1 label.sk-toggleable__label-arrow:before {content: \"▸\";float: left;margin-right: 0.25em;color: #696969;}#sk-container-id-1 label.sk-toggleable__label-arrow:hover:before {color: black;}#sk-container-id-1 div.sk-estimator:hover label.sk-toggleable__label-arrow:before {color: black;}#sk-container-id-1 div.sk-toggleable__content {max-height: 0;max-width: 0;overflow: hidden;text-align: left;background-color: #f0f8ff;}#sk-container-id-1 div.sk-toggleable__content pre {margin: 0.2em;color: black;border-radius: 0.25em;background-color: #f0f8ff;}#sk-container-id-1 input.sk-toggleable__control:checked~div.sk-toggleable__content {max-height: 200px;max-width: 100%;overflow: auto;}#sk-container-id-1 input.sk-toggleable__control:checked~label.sk-toggleable__label-arrow:before {content: \"▾\";}#sk-container-id-1 div.sk-estimator input.sk-toggleable__control:checked~label.sk-toggleable__label {background-color: #d4ebff;}#sk-container-id-1 div.sk-label input.sk-toggleable__control:checked~label.sk-toggleable__label {background-color: #d4ebff;}#sk-container-id-1 input.sk-hidden--visually {border: 0;clip: rect(1px 1px 1px 1px);clip: rect(1px, 1px, 1px, 1px);height: 1px;margin: -1px;overflow: hidden;padding: 0;position: absolute;width: 1px;}#sk-container-id-1 div.sk-estimator {font-family: monospace;background-color: #f0f8ff;border: 1px dotted black;border-radius: 0.25em;box-sizing: border-box;margin-bottom: 0.5em;}#sk-container-id-1 div.sk-estimator:hover {background-color: #d4ebff;}#sk-container-id-1 div.sk-parallel-item::after {content: \"\";width: 100%;border-bottom: 1px solid gray;flex-grow: 1;}#sk-container-id-1 div.sk-label:hover label.sk-toggleable__label {background-color: #d4ebff;}#sk-container-id-1 div.sk-serial::before {content: \"\";position: absolute;border-left: 1px solid gray;box-sizing: border-box;top: 0;bottom: 0;left: 50%;z-index: 0;}#sk-container-id-1 div.sk-serial {display: flex;flex-direction: column;align-items: center;background-color: white;padding-right: 0.2em;padding-left: 0.2em;position: relative;}#sk-container-id-1 div.sk-item {position: relative;z-index: 1;}#sk-container-id-1 div.sk-parallel {display: flex;align-items: stretch;justify-content: center;background-color: white;position: relative;}#sk-container-id-1 div.sk-item::before, #sk-container-id-1 div.sk-parallel-item::before {content: \"\";position: absolute;border-left: 1px solid gray;box-sizing: border-box;top: 0;bottom: 0;left: 50%;z-index: -1;}#sk-container-id-1 div.sk-parallel-item {display: flex;flex-direction: column;z-index: 1;position: relative;background-color: white;}#sk-container-id-1 div.sk-parallel-item:first-child::after {align-self: flex-end;width: 50%;}#sk-container-id-1 div.sk-parallel-item:last-child::after {align-self: flex-start;width: 50%;}#sk-container-id-1 div.sk-parallel-item:only-child::after {width: 0;}#sk-container-id-1 div.sk-dashed-wrapped {border: 1px dashed gray;margin: 0 0.4em 0.5em 0.4em;box-sizing: border-box;padding-bottom: 0.4em;background-color: white;}#sk-container-id-1 div.sk-label label {font-family: monospace;font-weight: bold;display: inline-block;line-height: 1.2em;}#sk-container-id-1 div.sk-label-container {text-align: center;}#sk-container-id-1 div.sk-container {/* jupyter's `normalize.less` sets `[hidden] { display: none; }` but bootstrap.min.css set `[hidden] { display: none !important; }` so we also need the `!important` here to be able to override the default hidden behavior on the sphinx rendered scikit-learn.org. See: https://github.com/scikit-learn/scikit-learn/issues/21755 */display: inline-block !important;position: relative;}#sk-container-id-1 div.sk-text-repr-fallback {display: none;}</style><div id=\"sk-container-id-1\" class=\"sk-top-container\"><div class=\"sk-text-repr-fallback\"><pre>GridSearchCV(cv=StratifiedKFold(n_splits=6, random_state=12, shuffle=True),\n",
       "             estimator=Pipeline(steps=[(&#x27;standardscaler&#x27;, StandardScaler()),\n",
       "                                       (&#x27;logisticregression&#x27;,\n",
       "                                        LogisticRegression(solver=&#x27;liblinear&#x27;))]),\n",
       "             param_grid={&#x27;logisticregression__C&#x27;: array([1.00000000e-04, 2.63665090e-04, 6.95192796e-04, 1.83298071e-03,\n",
       "       4.83293024e-03, 1.27427499e-02, 3.35981829e-02, 8.85866790e-02,\n",
       "       2.33572147e-01, 6.15848211e-01, 1.62377674e+00, 4.28133240e+00,\n",
       "       1.12883789e+01, 2.97635144e+01, 7.84759970e+01, 2.06913808e+02,\n",
       "       5.45559478e+02, 1.43844989e+03, 3.79269019e+03, 1.00000000e+04]),\n",
       "                         &#x27;logisticregression__penalty&#x27;: [&#x27;l1&#x27;]},\n",
       "             return_train_score=True, scoring=&#x27;accuracy&#x27;)</pre><b>In a Jupyter environment, please rerun this cell to show the HTML representation or trust the notebook. <br />On GitHub, the HTML representation is unable to render, please try loading this page with nbviewer.org.</b></div><div class=\"sk-container\" hidden><div class=\"sk-item sk-dashed-wrapped\"><div class=\"sk-label-container\"><div class=\"sk-label sk-toggleable\"><input class=\"sk-toggleable__control sk-hidden--visually\" id=\"sk-estimator-id-1\" type=\"checkbox\" ><label for=\"sk-estimator-id-1\" class=\"sk-toggleable__label sk-toggleable__label-arrow\">GridSearchCV</label><div class=\"sk-toggleable__content\"><pre>GridSearchCV(cv=StratifiedKFold(n_splits=6, random_state=12, shuffle=True),\n",
       "             estimator=Pipeline(steps=[(&#x27;standardscaler&#x27;, StandardScaler()),\n",
       "                                       (&#x27;logisticregression&#x27;,\n",
       "                                        LogisticRegression(solver=&#x27;liblinear&#x27;))]),\n",
       "             param_grid={&#x27;logisticregression__C&#x27;: array([1.00000000e-04, 2.63665090e-04, 6.95192796e-04, 1.83298071e-03,\n",
       "       4.83293024e-03, 1.27427499e-02, 3.35981829e-02, 8.85866790e-02,\n",
       "       2.33572147e-01, 6.15848211e-01, 1.62377674e+00, 4.28133240e+00,\n",
       "       1.12883789e+01, 2.97635144e+01, 7.84759970e+01, 2.06913808e+02,\n",
       "       5.45559478e+02, 1.43844989e+03, 3.79269019e+03, 1.00000000e+04]),\n",
       "                         &#x27;logisticregression__penalty&#x27;: [&#x27;l1&#x27;]},\n",
       "             return_train_score=True, scoring=&#x27;accuracy&#x27;)</pre></div></div></div><div class=\"sk-parallel\"><div class=\"sk-parallel-item\"><div class=\"sk-item\"><div class=\"sk-label-container\"><div class=\"sk-label sk-toggleable\"><input class=\"sk-toggleable__control sk-hidden--visually\" id=\"sk-estimator-id-2\" type=\"checkbox\" ><label for=\"sk-estimator-id-2\" class=\"sk-toggleable__label sk-toggleable__label-arrow\">estimator: Pipeline</label><div class=\"sk-toggleable__content\"><pre>Pipeline(steps=[(&#x27;standardscaler&#x27;, StandardScaler()),\n",
       "                (&#x27;logisticregression&#x27;, LogisticRegression(solver=&#x27;liblinear&#x27;))])</pre></div></div></div><div class=\"sk-serial\"><div class=\"sk-item\"><div class=\"sk-serial\"><div class=\"sk-item\"><div class=\"sk-estimator sk-toggleable\"><input class=\"sk-toggleable__control sk-hidden--visually\" id=\"sk-estimator-id-3\" type=\"checkbox\" ><label for=\"sk-estimator-id-3\" class=\"sk-toggleable__label sk-toggleable__label-arrow\">StandardScaler</label><div class=\"sk-toggleable__content\"><pre>StandardScaler()</pre></div></div></div><div class=\"sk-item\"><div class=\"sk-estimator sk-toggleable\"><input class=\"sk-toggleable__control sk-hidden--visually\" id=\"sk-estimator-id-4\" type=\"checkbox\" ><label for=\"sk-estimator-id-4\" class=\"sk-toggleable__label sk-toggleable__label-arrow\">LogisticRegression</label><div class=\"sk-toggleable__content\"><pre>LogisticRegression(solver=&#x27;liblinear&#x27;)</pre></div></div></div></div></div></div></div></div></div></div></div></div>"
      ],
      "text/plain": [
       "GridSearchCV(cv=StratifiedKFold(n_splits=6, random_state=12, shuffle=True),\n",
       "             estimator=Pipeline(steps=[('standardscaler', StandardScaler()),\n",
       "                                       ('logisticregression',\n",
       "                                        LogisticRegression(solver='liblinear'))]),\n",
       "             param_grid={'logisticregression__C': array([1.00000000e-04, 2.63665090e-04, 6.95192796e-04, 1.83298071e-03,\n",
       "       4.83293024e-03, 1.27427499e-02, 3.35981829e-02, 8.85866790e-02,\n",
       "       2.33572147e-01, 6.15848211e-01, 1.62377674e+00, 4.28133240e+00,\n",
       "       1.12883789e+01, 2.97635144e+01, 7.84759970e+01, 2.06913808e+02,\n",
       "       5.45559478e+02, 1.43844989e+03, 3.79269019e+03, 1.00000000e+04]),\n",
       "                         'logisticregression__penalty': ['l1']},\n",
       "             return_train_score=True, scoring='accuracy')"
      ]
     },
     "execution_count": 11,
     "metadata": {},
     "output_type": "execute_result"
    }
   ],
   "source": [
    "logreg_l1.fit(X_train, y_train)"
   ]
  },
  {
   "cell_type": "markdown",
   "id": "ba9c70da-5852-49dc-8b10-0800b57e41f9",
   "metadata": {},
   "source": [
    "## Step 6. Train a Logistic Regression Model with L2 Regularization\n",
    "\n",
    "- Fits a logistic regression model with L2 norm regularization on the training data `X_train` and `y_train`.\n",
    "- The `fit()` method is called on the `logreg_l2` object, which is an instance of `LogisticRegression` that was previously defined with L2 norm regularization penalty.\n",
    "- This code trains the logistic regression model on the training data to learn the relationship between the features in `X_train` and the corresponding target variable `y_train`.\n",
    "- Once trained, the model can be used to make predictions on new data.\n"
   ]
  },
  {
   "cell_type": "code",
   "execution_count": 12,
   "id": "509ac9f3-d44c-4dfa-85a9-d6faee9cd868",
   "metadata": {},
   "outputs": [
    {
     "data": {
      "text/html": [
       "<style>#sk-container-id-2 {color: black;background-color: white;}#sk-container-id-2 pre{padding: 0;}#sk-container-id-2 div.sk-toggleable {background-color: white;}#sk-container-id-2 label.sk-toggleable__label {cursor: pointer;display: block;width: 100%;margin-bottom: 0;padding: 0.3em;box-sizing: border-box;text-align: center;}#sk-container-id-2 label.sk-toggleable__label-arrow:before {content: \"▸\";float: left;margin-right: 0.25em;color: #696969;}#sk-container-id-2 label.sk-toggleable__label-arrow:hover:before {color: black;}#sk-container-id-2 div.sk-estimator:hover label.sk-toggleable__label-arrow:before {color: black;}#sk-container-id-2 div.sk-toggleable__content {max-height: 0;max-width: 0;overflow: hidden;text-align: left;background-color: #f0f8ff;}#sk-container-id-2 div.sk-toggleable__content pre {margin: 0.2em;color: black;border-radius: 0.25em;background-color: #f0f8ff;}#sk-container-id-2 input.sk-toggleable__control:checked~div.sk-toggleable__content {max-height: 200px;max-width: 100%;overflow: auto;}#sk-container-id-2 input.sk-toggleable__control:checked~label.sk-toggleable__label-arrow:before {content: \"▾\";}#sk-container-id-2 div.sk-estimator input.sk-toggleable__control:checked~label.sk-toggleable__label {background-color: #d4ebff;}#sk-container-id-2 div.sk-label input.sk-toggleable__control:checked~label.sk-toggleable__label {background-color: #d4ebff;}#sk-container-id-2 input.sk-hidden--visually {border: 0;clip: rect(1px 1px 1px 1px);clip: rect(1px, 1px, 1px, 1px);height: 1px;margin: -1px;overflow: hidden;padding: 0;position: absolute;width: 1px;}#sk-container-id-2 div.sk-estimator {font-family: monospace;background-color: #f0f8ff;border: 1px dotted black;border-radius: 0.25em;box-sizing: border-box;margin-bottom: 0.5em;}#sk-container-id-2 div.sk-estimator:hover {background-color: #d4ebff;}#sk-container-id-2 div.sk-parallel-item::after {content: \"\";width: 100%;border-bottom: 1px solid gray;flex-grow: 1;}#sk-container-id-2 div.sk-label:hover label.sk-toggleable__label {background-color: #d4ebff;}#sk-container-id-2 div.sk-serial::before {content: \"\";position: absolute;border-left: 1px solid gray;box-sizing: border-box;top: 0;bottom: 0;left: 50%;z-index: 0;}#sk-container-id-2 div.sk-serial {display: flex;flex-direction: column;align-items: center;background-color: white;padding-right: 0.2em;padding-left: 0.2em;position: relative;}#sk-container-id-2 div.sk-item {position: relative;z-index: 1;}#sk-container-id-2 div.sk-parallel {display: flex;align-items: stretch;justify-content: center;background-color: white;position: relative;}#sk-container-id-2 div.sk-item::before, #sk-container-id-2 div.sk-parallel-item::before {content: \"\";position: absolute;border-left: 1px solid gray;box-sizing: border-box;top: 0;bottom: 0;left: 50%;z-index: -1;}#sk-container-id-2 div.sk-parallel-item {display: flex;flex-direction: column;z-index: 1;position: relative;background-color: white;}#sk-container-id-2 div.sk-parallel-item:first-child::after {align-self: flex-end;width: 50%;}#sk-container-id-2 div.sk-parallel-item:last-child::after {align-self: flex-start;width: 50%;}#sk-container-id-2 div.sk-parallel-item:only-child::after {width: 0;}#sk-container-id-2 div.sk-dashed-wrapped {border: 1px dashed gray;margin: 0 0.4em 0.5em 0.4em;box-sizing: border-box;padding-bottom: 0.4em;background-color: white;}#sk-container-id-2 div.sk-label label {font-family: monospace;font-weight: bold;display: inline-block;line-height: 1.2em;}#sk-container-id-2 div.sk-label-container {text-align: center;}#sk-container-id-2 div.sk-container {/* jupyter's `normalize.less` sets `[hidden] { display: none; }` but bootstrap.min.css set `[hidden] { display: none !important; }` so we also need the `!important` here to be able to override the default hidden behavior on the sphinx rendered scikit-learn.org. See: https://github.com/scikit-learn/scikit-learn/issues/21755 */display: inline-block !important;position: relative;}#sk-container-id-2 div.sk-text-repr-fallback {display: none;}</style><div id=\"sk-container-id-2\" class=\"sk-top-container\"><div class=\"sk-text-repr-fallback\"><pre>GridSearchCV(cv=StratifiedKFold(n_splits=6, random_state=1100, shuffle=True),\n",
       "             error_score=&#x27;raise&#x27;,\n",
       "             estimator=Pipeline(steps=[(&#x27;standardscaler&#x27;, StandardScaler()),\n",
       "                                       (&#x27;logisticregression&#x27;,\n",
       "                                        LogisticRegression(solver=&#x27;liblinear&#x27;))]),\n",
       "             param_grid={&#x27;logisticregression__C&#x27;: array([1.25892541, 1.38709199, 1.52830673, 1.68389803, 1.85532951,\n",
       "       2.0442138 , 2.2523277 , 2.48162892, 2.73427446, 3.0126409 ,\n",
       "       3.31934682, 3.65727734, 4.02961132, 4.43985126, 4.89185622,\n",
       "       5.38987815, 5.93860187, 6.54318913, 7.2093272 , 7.94328235])},\n",
       "             return_train_score=True, scoring=&#x27;accuracy&#x27;)</pre><b>In a Jupyter environment, please rerun this cell to show the HTML representation or trust the notebook. <br />On GitHub, the HTML representation is unable to render, please try loading this page with nbviewer.org.</b></div><div class=\"sk-container\" hidden><div class=\"sk-item sk-dashed-wrapped\"><div class=\"sk-label-container\"><div class=\"sk-label sk-toggleable\"><input class=\"sk-toggleable__control sk-hidden--visually\" id=\"sk-estimator-id-5\" type=\"checkbox\" ><label for=\"sk-estimator-id-5\" class=\"sk-toggleable__label sk-toggleable__label-arrow\">GridSearchCV</label><div class=\"sk-toggleable__content\"><pre>GridSearchCV(cv=StratifiedKFold(n_splits=6, random_state=1100, shuffle=True),\n",
       "             error_score=&#x27;raise&#x27;,\n",
       "             estimator=Pipeline(steps=[(&#x27;standardscaler&#x27;, StandardScaler()),\n",
       "                                       (&#x27;logisticregression&#x27;,\n",
       "                                        LogisticRegression(solver=&#x27;liblinear&#x27;))]),\n",
       "             param_grid={&#x27;logisticregression__C&#x27;: array([1.25892541, 1.38709199, 1.52830673, 1.68389803, 1.85532951,\n",
       "       2.0442138 , 2.2523277 , 2.48162892, 2.73427446, 3.0126409 ,\n",
       "       3.31934682, 3.65727734, 4.02961132, 4.43985126, 4.89185622,\n",
       "       5.38987815, 5.93860187, 6.54318913, 7.2093272 , 7.94328235])},\n",
       "             return_train_score=True, scoring=&#x27;accuracy&#x27;)</pre></div></div></div><div class=\"sk-parallel\"><div class=\"sk-parallel-item\"><div class=\"sk-item\"><div class=\"sk-label-container\"><div class=\"sk-label sk-toggleable\"><input class=\"sk-toggleable__control sk-hidden--visually\" id=\"sk-estimator-id-6\" type=\"checkbox\" ><label for=\"sk-estimator-id-6\" class=\"sk-toggleable__label sk-toggleable__label-arrow\">estimator: Pipeline</label><div class=\"sk-toggleable__content\"><pre>Pipeline(steps=[(&#x27;standardscaler&#x27;, StandardScaler()),\n",
       "                (&#x27;logisticregression&#x27;, LogisticRegression(solver=&#x27;liblinear&#x27;))])</pre></div></div></div><div class=\"sk-serial\"><div class=\"sk-item\"><div class=\"sk-serial\"><div class=\"sk-item\"><div class=\"sk-estimator sk-toggleable\"><input class=\"sk-toggleable__control sk-hidden--visually\" id=\"sk-estimator-id-7\" type=\"checkbox\" ><label for=\"sk-estimator-id-7\" class=\"sk-toggleable__label sk-toggleable__label-arrow\">StandardScaler</label><div class=\"sk-toggleable__content\"><pre>StandardScaler()</pre></div></div></div><div class=\"sk-item\"><div class=\"sk-estimator sk-toggleable\"><input class=\"sk-toggleable__control sk-hidden--visually\" id=\"sk-estimator-id-8\" type=\"checkbox\" ><label for=\"sk-estimator-id-8\" class=\"sk-toggleable__label sk-toggleable__label-arrow\">LogisticRegression</label><div class=\"sk-toggleable__content\"><pre>LogisticRegression(solver=&#x27;liblinear&#x27;)</pre></div></div></div></div></div></div></div></div></div></div></div></div>"
      ],
      "text/plain": [
       "GridSearchCV(cv=StratifiedKFold(n_splits=6, random_state=1100, shuffle=True),\n",
       "             error_score='raise',\n",
       "             estimator=Pipeline(steps=[('standardscaler', StandardScaler()),\n",
       "                                       ('logisticregression',\n",
       "                                        LogisticRegression(solver='liblinear'))]),\n",
       "             param_grid={'logisticregression__C': array([1.25892541, 1.38709199, 1.52830673, 1.68389803, 1.85532951,\n",
       "       2.0442138 , 2.2523277 , 2.48162892, 2.73427446, 3.0126409 ,\n",
       "       3.31934682, 3.65727734, 4.02961132, 4.43985126, 4.89185622,\n",
       "       5.38987815, 5.93860187, 6.54318913, 7.2093272 , 7.94328235])},\n",
       "             return_train_score=True, scoring='accuracy')"
      ]
     },
     "execution_count": 12,
     "metadata": {},
     "output_type": "execute_result"
    }
   ],
   "source": [
    "logreg_l2.fit(X_train, y_train)"
   ]
  },
  {
   "cell_type": "markdown",
   "id": "9889f093-d0f0-4159-a154-c6225ad692e9",
   "metadata": {
    "tags": []
   },
   "source": [
    "## Step 7. Train a Logistic Regression Model with ElasticNet Regularization\n",
    "\n",
    "- Fits a logistic regression model with elastic-net regularization on the training data `X_train` and `y_train`.\n",
    "- The `fit()` method is called on the `logreg_en` object, which is an instance of `LogisticRegression` that was previously defined with elastic-net regularization penalty.\n",
    "- This code trains the logistic regression model on the training data to learn the relationship between the features in `X_train` and the corresponding target variable `y_train`.\n",
    "- Once trained, the model can be used to make predictions on new data.\n"
   ]
  },
  {
   "cell_type": "code",
   "execution_count": 13,
   "id": "7d5d1cf8-a678-4f6d-accd-850dc8973212",
   "metadata": {},
   "outputs": [
    {
     "data": {
      "text/html": [
       "<style>#sk-container-id-3 {color: black;background-color: white;}#sk-container-id-3 pre{padding: 0;}#sk-container-id-3 div.sk-toggleable {background-color: white;}#sk-container-id-3 label.sk-toggleable__label {cursor: pointer;display: block;width: 100%;margin-bottom: 0;padding: 0.3em;box-sizing: border-box;text-align: center;}#sk-container-id-3 label.sk-toggleable__label-arrow:before {content: \"▸\";float: left;margin-right: 0.25em;color: #696969;}#sk-container-id-3 label.sk-toggleable__label-arrow:hover:before {color: black;}#sk-container-id-3 div.sk-estimator:hover label.sk-toggleable__label-arrow:before {color: black;}#sk-container-id-3 div.sk-toggleable__content {max-height: 0;max-width: 0;overflow: hidden;text-align: left;background-color: #f0f8ff;}#sk-container-id-3 div.sk-toggleable__content pre {margin: 0.2em;color: black;border-radius: 0.25em;background-color: #f0f8ff;}#sk-container-id-3 input.sk-toggleable__control:checked~div.sk-toggleable__content {max-height: 200px;max-width: 100%;overflow: auto;}#sk-container-id-3 input.sk-toggleable__control:checked~label.sk-toggleable__label-arrow:before {content: \"▾\";}#sk-container-id-3 div.sk-estimator input.sk-toggleable__control:checked~label.sk-toggleable__label {background-color: #d4ebff;}#sk-container-id-3 div.sk-label input.sk-toggleable__control:checked~label.sk-toggleable__label {background-color: #d4ebff;}#sk-container-id-3 input.sk-hidden--visually {border: 0;clip: rect(1px 1px 1px 1px);clip: rect(1px, 1px, 1px, 1px);height: 1px;margin: -1px;overflow: hidden;padding: 0;position: absolute;width: 1px;}#sk-container-id-3 div.sk-estimator {font-family: monospace;background-color: #f0f8ff;border: 1px dotted black;border-radius: 0.25em;box-sizing: border-box;margin-bottom: 0.5em;}#sk-container-id-3 div.sk-estimator:hover {background-color: #d4ebff;}#sk-container-id-3 div.sk-parallel-item::after {content: \"\";width: 100%;border-bottom: 1px solid gray;flex-grow: 1;}#sk-container-id-3 div.sk-label:hover label.sk-toggleable__label {background-color: #d4ebff;}#sk-container-id-3 div.sk-serial::before {content: \"\";position: absolute;border-left: 1px solid gray;box-sizing: border-box;top: 0;bottom: 0;left: 50%;z-index: 0;}#sk-container-id-3 div.sk-serial {display: flex;flex-direction: column;align-items: center;background-color: white;padding-right: 0.2em;padding-left: 0.2em;position: relative;}#sk-container-id-3 div.sk-item {position: relative;z-index: 1;}#sk-container-id-3 div.sk-parallel {display: flex;align-items: stretch;justify-content: center;background-color: white;position: relative;}#sk-container-id-3 div.sk-item::before, #sk-container-id-3 div.sk-parallel-item::before {content: \"\";position: absolute;border-left: 1px solid gray;box-sizing: border-box;top: 0;bottom: 0;left: 50%;z-index: -1;}#sk-container-id-3 div.sk-parallel-item {display: flex;flex-direction: column;z-index: 1;position: relative;background-color: white;}#sk-container-id-3 div.sk-parallel-item:first-child::after {align-self: flex-end;width: 50%;}#sk-container-id-3 div.sk-parallel-item:last-child::after {align-self: flex-start;width: 50%;}#sk-container-id-3 div.sk-parallel-item:only-child::after {width: 0;}#sk-container-id-3 div.sk-dashed-wrapped {border: 1px dashed gray;margin: 0 0.4em 0.5em 0.4em;box-sizing: border-box;padding-bottom: 0.4em;background-color: white;}#sk-container-id-3 div.sk-label label {font-family: monospace;font-weight: bold;display: inline-block;line-height: 1.2em;}#sk-container-id-3 div.sk-label-container {text-align: center;}#sk-container-id-3 div.sk-container {/* jupyter's `normalize.less` sets `[hidden] { display: none; }` but bootstrap.min.css set `[hidden] { display: none !important; }` so we also need the `!important` here to be able to override the default hidden behavior on the sphinx rendered scikit-learn.org. See: https://github.com/scikit-learn/scikit-learn/issues/21755 */display: inline-block !important;position: relative;}#sk-container-id-3 div.sk-text-repr-fallback {display: none;}</style><div id=\"sk-container-id-3\" class=\"sk-top-container\"><div class=\"sk-text-repr-fallback\"><pre>GridSearchCV(cv=StratifiedKFold(n_splits=6, random_state=11, shuffle=True),\n",
       "             estimator=Pipeline(steps=[(&#x27;scaler&#x27;, StandardScaler()),\n",
       "                                       (&#x27;elasticnetcv&#x27;, ElasticNetCV())]),\n",
       "             param_grid={&#x27;elasticnetcv__alphas&#x27;: [array([ 0.01      ,  0.53578947,  1.06157895,  1.58736842,  2.11315789,\n",
       "        2.63894737,  3.16473684,  3.69052632,  4.21631579,  4.74210526,\n",
       "        5.26789474,  5.79368421,  6.31947368,  6.8452631...\n",
       "       0.00344898, 0.00361224, 0.00377551, 0.00393878, 0.00410204,\n",
       "       0.00426531, 0.00442857, 0.00459184, 0.0047551 , 0.00491837,\n",
       "       0.00508163, 0.0052449 , 0.00540816, 0.00557143, 0.00573469,\n",
       "       0.00589796, 0.00606122, 0.00622449, 0.00638776, 0.00655102,\n",
       "       0.00671429, 0.00687755, 0.00704082, 0.00720408, 0.00736735,\n",
       "       0.00753061, 0.00769388, 0.00785714, 0.00802041, 0.00818367,\n",
       "       0.00834694, 0.0085102 , 0.00867347, 0.00883673, 0.009     ])},\n",
       "             scoring=&#x27;r2&#x27;)</pre><b>In a Jupyter environment, please rerun this cell to show the HTML representation or trust the notebook. <br />On GitHub, the HTML representation is unable to render, please try loading this page with nbviewer.org.</b></div><div class=\"sk-container\" hidden><div class=\"sk-item sk-dashed-wrapped\"><div class=\"sk-label-container\"><div class=\"sk-label sk-toggleable\"><input class=\"sk-toggleable__control sk-hidden--visually\" id=\"sk-estimator-id-9\" type=\"checkbox\" ><label for=\"sk-estimator-id-9\" class=\"sk-toggleable__label sk-toggleable__label-arrow\">GridSearchCV</label><div class=\"sk-toggleable__content\"><pre>GridSearchCV(cv=StratifiedKFold(n_splits=6, random_state=11, shuffle=True),\n",
       "             estimator=Pipeline(steps=[(&#x27;scaler&#x27;, StandardScaler()),\n",
       "                                       (&#x27;elasticnetcv&#x27;, ElasticNetCV())]),\n",
       "             param_grid={&#x27;elasticnetcv__alphas&#x27;: [array([ 0.01      ,  0.53578947,  1.06157895,  1.58736842,  2.11315789,\n",
       "        2.63894737,  3.16473684,  3.69052632,  4.21631579,  4.74210526,\n",
       "        5.26789474,  5.79368421,  6.31947368,  6.8452631...\n",
       "       0.00344898, 0.00361224, 0.00377551, 0.00393878, 0.00410204,\n",
       "       0.00426531, 0.00442857, 0.00459184, 0.0047551 , 0.00491837,\n",
       "       0.00508163, 0.0052449 , 0.00540816, 0.00557143, 0.00573469,\n",
       "       0.00589796, 0.00606122, 0.00622449, 0.00638776, 0.00655102,\n",
       "       0.00671429, 0.00687755, 0.00704082, 0.00720408, 0.00736735,\n",
       "       0.00753061, 0.00769388, 0.00785714, 0.00802041, 0.00818367,\n",
       "       0.00834694, 0.0085102 , 0.00867347, 0.00883673, 0.009     ])},\n",
       "             scoring=&#x27;r2&#x27;)</pre></div></div></div><div class=\"sk-parallel\"><div class=\"sk-parallel-item\"><div class=\"sk-item\"><div class=\"sk-label-container\"><div class=\"sk-label sk-toggleable\"><input class=\"sk-toggleable__control sk-hidden--visually\" id=\"sk-estimator-id-10\" type=\"checkbox\" ><label for=\"sk-estimator-id-10\" class=\"sk-toggleable__label sk-toggleable__label-arrow\">estimator: Pipeline</label><div class=\"sk-toggleable__content\"><pre>Pipeline(steps=[(&#x27;scaler&#x27;, StandardScaler()), (&#x27;elasticnetcv&#x27;, ElasticNetCV())])</pre></div></div></div><div class=\"sk-serial\"><div class=\"sk-item\"><div class=\"sk-serial\"><div class=\"sk-item\"><div class=\"sk-estimator sk-toggleable\"><input class=\"sk-toggleable__control sk-hidden--visually\" id=\"sk-estimator-id-11\" type=\"checkbox\" ><label for=\"sk-estimator-id-11\" class=\"sk-toggleable__label sk-toggleable__label-arrow\">StandardScaler</label><div class=\"sk-toggleable__content\"><pre>StandardScaler()</pre></div></div></div><div class=\"sk-item\"><div class=\"sk-estimator sk-toggleable\"><input class=\"sk-toggleable__control sk-hidden--visually\" id=\"sk-estimator-id-12\" type=\"checkbox\" ><label for=\"sk-estimator-id-12\" class=\"sk-toggleable__label sk-toggleable__label-arrow\">ElasticNetCV</label><div class=\"sk-toggleable__content\"><pre>ElasticNetCV()</pre></div></div></div></div></div></div></div></div></div></div></div></div>"
      ],
      "text/plain": [
       "GridSearchCV(cv=StratifiedKFold(n_splits=6, random_state=11, shuffle=True),\n",
       "             estimator=Pipeline(steps=[('scaler', StandardScaler()),\n",
       "                                       ('elasticnetcv', ElasticNetCV())]),\n",
       "             param_grid={'elasticnetcv__alphas': [array([ 0.01      ,  0.53578947,  1.06157895,  1.58736842,  2.11315789,\n",
       "        2.63894737,  3.16473684,  3.69052632,  4.21631579,  4.74210526,\n",
       "        5.26789474,  5.79368421,  6.31947368,  6.8452631...\n",
       "       0.00344898, 0.00361224, 0.00377551, 0.00393878, 0.00410204,\n",
       "       0.00426531, 0.00442857, 0.00459184, 0.0047551 , 0.00491837,\n",
       "       0.00508163, 0.0052449 , 0.00540816, 0.00557143, 0.00573469,\n",
       "       0.00589796, 0.00606122, 0.00622449, 0.00638776, 0.00655102,\n",
       "       0.00671429, 0.00687755, 0.00704082, 0.00720408, 0.00736735,\n",
       "       0.00753061, 0.00769388, 0.00785714, 0.00802041, 0.00818367,\n",
       "       0.00834694, 0.0085102 , 0.00867347, 0.00883673, 0.009     ])},\n",
       "             scoring='r2')"
      ]
     },
     "execution_count": 13,
     "metadata": {},
     "output_type": "execute_result"
    }
   ],
   "source": [
    "logreg_en.fit(X_train, y_train)"
   ]
  },
  {
   "cell_type": "markdown",
   "id": "cb25cc4c-2362-4950-9a79-e4056f6d3ff2",
   "metadata": {
    "tags": []
   },
   "source": [
    "## Step 8. Evaluate the Performance of each Model\n",
    "\n",
    "### 1. **Model with L1 Regularization**"
   ]
  },
  {
   "cell_type": "code",
   "execution_count": 14,
   "id": "98c961e8-7929-42b0-800b-a50c683f723d",
   "metadata": {
    "tags": []
   },
   "outputs": [
    {
     "name": "stdout",
     "output_type": "stream",
     "text": [
      "Best Hyperparameters: {'logisticregression__C': 0.615848211066026, 'logisticregression__penalty': 'l1'}\n",
      "Best Score: 0.8858695652173912\n",
      "Metric make_scorer(accuracy_score)\n",
      "Best Score on Validation Data for L1 Regularization\n"
     ]
    },
    {
     "data": {
      "text/html": [
       "<style>#sk-container-id-4 {color: black;background-color: white;}#sk-container-id-4 pre{padding: 0;}#sk-container-id-4 div.sk-toggleable {background-color: white;}#sk-container-id-4 label.sk-toggleable__label {cursor: pointer;display: block;width: 100%;margin-bottom: 0;padding: 0.3em;box-sizing: border-box;text-align: center;}#sk-container-id-4 label.sk-toggleable__label-arrow:before {content: \"▸\";float: left;margin-right: 0.25em;color: #696969;}#sk-container-id-4 label.sk-toggleable__label-arrow:hover:before {color: black;}#sk-container-id-4 div.sk-estimator:hover label.sk-toggleable__label-arrow:before {color: black;}#sk-container-id-4 div.sk-toggleable__content {max-height: 0;max-width: 0;overflow: hidden;text-align: left;background-color: #f0f8ff;}#sk-container-id-4 div.sk-toggleable__content pre {margin: 0.2em;color: black;border-radius: 0.25em;background-color: #f0f8ff;}#sk-container-id-4 input.sk-toggleable__control:checked~div.sk-toggleable__content {max-height: 200px;max-width: 100%;overflow: auto;}#sk-container-id-4 input.sk-toggleable__control:checked~label.sk-toggleable__label-arrow:before {content: \"▾\";}#sk-container-id-4 div.sk-estimator input.sk-toggleable__control:checked~label.sk-toggleable__label {background-color: #d4ebff;}#sk-container-id-4 div.sk-label input.sk-toggleable__control:checked~label.sk-toggleable__label {background-color: #d4ebff;}#sk-container-id-4 input.sk-hidden--visually {border: 0;clip: rect(1px 1px 1px 1px);clip: rect(1px, 1px, 1px, 1px);height: 1px;margin: -1px;overflow: hidden;padding: 0;position: absolute;width: 1px;}#sk-container-id-4 div.sk-estimator {font-family: monospace;background-color: #f0f8ff;border: 1px dotted black;border-radius: 0.25em;box-sizing: border-box;margin-bottom: 0.5em;}#sk-container-id-4 div.sk-estimator:hover {background-color: #d4ebff;}#sk-container-id-4 div.sk-parallel-item::after {content: \"\";width: 100%;border-bottom: 1px solid gray;flex-grow: 1;}#sk-container-id-4 div.sk-label:hover label.sk-toggleable__label {background-color: #d4ebff;}#sk-container-id-4 div.sk-serial::before {content: \"\";position: absolute;border-left: 1px solid gray;box-sizing: border-box;top: 0;bottom: 0;left: 50%;z-index: 0;}#sk-container-id-4 div.sk-serial {display: flex;flex-direction: column;align-items: center;background-color: white;padding-right: 0.2em;padding-left: 0.2em;position: relative;}#sk-container-id-4 div.sk-item {position: relative;z-index: 1;}#sk-container-id-4 div.sk-parallel {display: flex;align-items: stretch;justify-content: center;background-color: white;position: relative;}#sk-container-id-4 div.sk-item::before, #sk-container-id-4 div.sk-parallel-item::before {content: \"\";position: absolute;border-left: 1px solid gray;box-sizing: border-box;top: 0;bottom: 0;left: 50%;z-index: -1;}#sk-container-id-4 div.sk-parallel-item {display: flex;flex-direction: column;z-index: 1;position: relative;background-color: white;}#sk-container-id-4 div.sk-parallel-item:first-child::after {align-self: flex-end;width: 50%;}#sk-container-id-4 div.sk-parallel-item:last-child::after {align-self: flex-start;width: 50%;}#sk-container-id-4 div.sk-parallel-item:only-child::after {width: 0;}#sk-container-id-4 div.sk-dashed-wrapped {border: 1px dashed gray;margin: 0 0.4em 0.5em 0.4em;box-sizing: border-box;padding-bottom: 0.4em;background-color: white;}#sk-container-id-4 div.sk-label label {font-family: monospace;font-weight: bold;display: inline-block;line-height: 1.2em;}#sk-container-id-4 div.sk-label-container {text-align: center;}#sk-container-id-4 div.sk-container {/* jupyter's `normalize.less` sets `[hidden] { display: none; }` but bootstrap.min.css set `[hidden] { display: none !important; }` so we also need the `!important` here to be able to override the default hidden behavior on the sphinx rendered scikit-learn.org. See: https://github.com/scikit-learn/scikit-learn/issues/21755 */display: inline-block !important;position: relative;}#sk-container-id-4 div.sk-text-repr-fallback {display: none;}</style><div id=\"sk-container-id-4\" class=\"sk-top-container\"><div class=\"sk-text-repr-fallback\"><pre>Pipeline(steps=[(&#x27;standardscaler&#x27;, StandardScaler()),\n",
       "                (&#x27;logisticregression&#x27;,\n",
       "                 LogisticRegression(C=0.615848211066026, penalty=&#x27;l1&#x27;,\n",
       "                                    solver=&#x27;liblinear&#x27;))])</pre><b>In a Jupyter environment, please rerun this cell to show the HTML representation or trust the notebook. <br />On GitHub, the HTML representation is unable to render, please try loading this page with nbviewer.org.</b></div><div class=\"sk-container\" hidden><div class=\"sk-item sk-dashed-wrapped\"><div class=\"sk-label-container\"><div class=\"sk-label sk-toggleable\"><input class=\"sk-toggleable__control sk-hidden--visually\" id=\"sk-estimator-id-13\" type=\"checkbox\" ><label for=\"sk-estimator-id-13\" class=\"sk-toggleable__label sk-toggleable__label-arrow\">Pipeline</label><div class=\"sk-toggleable__content\"><pre>Pipeline(steps=[(&#x27;standardscaler&#x27;, StandardScaler()),\n",
       "                (&#x27;logisticregression&#x27;,\n",
       "                 LogisticRegression(C=0.615848211066026, penalty=&#x27;l1&#x27;,\n",
       "                                    solver=&#x27;liblinear&#x27;))])</pre></div></div></div><div class=\"sk-serial\"><div class=\"sk-item\"><div class=\"sk-estimator sk-toggleable\"><input class=\"sk-toggleable__control sk-hidden--visually\" id=\"sk-estimator-id-14\" type=\"checkbox\" ><label for=\"sk-estimator-id-14\" class=\"sk-toggleable__label sk-toggleable__label-arrow\">StandardScaler</label><div class=\"sk-toggleable__content\"><pre>StandardScaler()</pre></div></div></div><div class=\"sk-item\"><div class=\"sk-estimator sk-toggleable\"><input class=\"sk-toggleable__control sk-hidden--visually\" id=\"sk-estimator-id-15\" type=\"checkbox\" ><label for=\"sk-estimator-id-15\" class=\"sk-toggleable__label sk-toggleable__label-arrow\">LogisticRegression</label><div class=\"sk-toggleable__content\"><pre>LogisticRegression(C=0.615848211066026, penalty=&#x27;l1&#x27;, solver=&#x27;liblinear&#x27;)</pre></div></div></div></div></div></div></div>"
      ],
      "text/plain": [
       "Pipeline(steps=[('standardscaler', StandardScaler()),\n",
       "                ('logisticregression',\n",
       "                 LogisticRegression(C=0.615848211066026, penalty='l1',\n",
       "                                    solver='liblinear'))])"
      ]
     },
     "execution_count": 14,
     "metadata": {},
     "output_type": "execute_result"
    }
   ],
   "source": [
    "# Print best hyperparameters and score\n",
    "print(\"Best Hyperparameters:\", logreg_l1.best_params_)\n",
    "print(\"Best Score:\", logreg_l1.best_score_)\n",
    "print('Metric', logreg_l1.scorer_)\n",
    "\n",
    "print('Best Score on Validation Data for L1 Regularization')\n",
    "logreg_l1.best_estimator_"
   ]
  },
  {
   "cell_type": "markdown",
   "id": "526abe30-24c2-4849-8700-e41a0c3a1e83",
   "metadata": {},
   "source": [
    "`The best value of C is 0.615848211066026` and the `best score is 0.8858695652173912` with the accuracy_score metric."
   ]
  },
  {
   "cell_type": "code",
   "execution_count": 15,
   "id": "70536649-3efc-4457-8ad3-63d88344dcf4",
   "metadata": {},
   "outputs": [
    {
     "name": "stdout",
     "output_type": "stream",
     "text": [
      "Accuracy on Training Data: 89.31 %\n",
      "Accuracy on Test Data: 81.16 %\n"
     ]
    }
   ],
   "source": [
    "#Evaluate performance of best logistic classifier on Training Data\n",
    "print(\"Accuracy on Training Data: %.2f %%\" % (logreg_l1.score(X_train, y_train)*100))\n",
    "\n",
    "#Evaluate final performance of best logistic classifier on Test Data\n",
    "print(\"Accuracy on Test Data: %.2f %%\" % (logreg_l1.score(X_test, y_test)*100))"
   ]
  },
  {
   "cell_type": "markdown",
   "id": "9c92a3e0-9c85-4e7d-9c59-ee2c175cef08",
   "metadata": {},
   "source": [
    "The logistic regression model with `L1 norm regularization` achieved an `accuracy` of **89.31%** on the training data and an `accuracy` of **81.16%** on the test data. \n",
    "This suggests that the model may be overfitting the training data and not generalizing well to new data."
   ]
  },
  {
   "cell_type": "markdown",
   "id": "bc2949fe-718d-4752-9083-5c35fee9833a",
   "metadata": {},
   "source": [
    "**Confusion Matrix**"
   ]
  },
  {
   "cell_type": "code",
   "execution_count": 16,
   "id": "fcdabb9b-e347-4390-b862-81530c6f6367",
   "metadata": {},
   "outputs": [
    {
     "data": {
      "image/png": "[encoded data removed]",
      "text/plain": [
       "<Figure size 432x288 with 1 Axes>"
      ]
     },
     "metadata": {
      "needs_background": "light"
     },
     "output_type": "display_data"
    }
   ],
   "source": [
    "#display confusion matrix\n",
    "# Threshold = 0.5 (default)\n",
    "cm_l1 = ConfusionMatrixDisplay.from_estimator(logreg_l1.best_estimator_, \n",
    "                                           X_test, y_test, \n",
    "                                           display_labels=[\"Not Approved\",\"Approved\"], \n",
    "                                           cmap=\"Blues\",\n",
    "                                           colorbar=False)       \n",
    "cm_l1.ax_.set_title(\"Confusion Matrix\");\n",
    "plt.show()"
   ]
  },
  {
   "cell_type": "markdown",
   "id": "7ed2b6b4-ef3d-4e6c-ab52-2978b4a51579",
   "metadata": {},
   "source": [
    "**ROC Curve**"
   ]
  },
  {
   "cell_type": "code",
   "execution_count": 17,
   "id": "179b9989-b9bf-4d26-bd16-e425ef48045b",
   "metadata": {},
   "outputs": [
    {
     "data": {
      "image/png": "[encoded data removed]",
      "text/plain": [
       "<Figure size 1008x360 with 1 Axes>"
      ]
     },
     "metadata": {
      "needs_background": "light"
     },
     "output_type": "display_data"
    }
   ],
   "source": [
    "# Calculating False positive rate, true positive rate nad threshold using confusion matrix\n",
    "fpr_l1, tpr_l1, threshold_l1 = roc_curve(y_true = y_test,  y_score = logreg_l1.predict_proba(X_test)[:, 1])\n",
    "\n",
    "#let's find optimum threshold\n",
    "optimal_idx_l1 = np.argmax(tpr_l1 - fpr_l1)\n",
    "optimal_threshold_l1 = threshold_l1[optimal_idx_l1]\n",
    "\n",
    "#visualize ROC curve\n",
    "plt.rcParams['figure.figsize'] = [14, 5]\n",
    "\n",
    "RocCurveDisplay.from_estimator(logreg_l1, X_test, y_test)\n",
    "plt.plot([0, 1], [0, 1], color='orange', linestyle='--')\n",
    "plt.plot(fpr_l1[optimal_idx_l1],tpr_l1[optimal_idx_l1], \"or\",  markersize=8, label=\"Optimum Threshold\")\n",
    "plt.title(\"ROC Curve for Logistic Classifier on Test data\")\n",
    "plt.title(\"ROC Curve\")\n",
    "plt.xlabel(\"False Positive Rate\")\n",
    "plt.ylabel(\"True Positive Rate\")\n",
    "plt.legend(loc=\"lower right\")\n",
    "plt.show();"
   ]
  },
  {
   "cell_type": "markdown",
   "id": "31e8a317-8ab1-4a45-802e-6d7b3f217fef",
   "metadata": {},
   "source": [
    "The `roc_curve()` function is used to calculate the values for `false positive rate`, `true positive rate`, and `threshold`. The optimal threshold is found using `np.argmax()` function by maximizing the difference between `true positive rate` and `false positive rate`.\n",
    "\n",
    "- The plot shows the ROC curve for the logistic classifier on test data with L1 regularization. \n",
    "- The area under the curve (AUC) represents the performance of the model, with a higher AUC indicating better performance."
   ]
  },
  {
   "cell_type": "markdown",
   "id": "bff4a6d0-3ec1-477d-bd9c-5428920575ac",
   "metadata": {},
   "source": [
    "**Metrics values of Linear Regression Model with L1 Norm Regularization**"
   ]
  },
  {
   "cell_type": "code",
   "execution_count": 18,
   "id": "ab935c63-0e25-4df9-a790-fc86940b46fa",
   "metadata": {},
   "outputs": [
    {
     "name": "stdout",
     "output_type": "stream",
     "text": [
      "AUC-ROC: 0.861\n",
      "Accuracy on Test Data: 81.16 %\n"
     ]
    }
   ],
   "source": [
    "## Area Under the Curve\n",
    "auc_l1 = auc(fpr_l1, tpr_l1)\n",
    "print('AUC-ROC: %.3f' % auc_l1)\n",
    "\n",
    "# Accuracy\n",
    "accuracy_l1 = (logreg_l1.score(X_test, y_test)*100)\n",
    "print(\"Accuracy on Test Data: %.2f %%\" % accuracy_l1)"
   ]
  },
  {
   "cell_type": "markdown",
   "id": "3102d748-e386-426f-bd2f-8faad856ac05",
   "metadata": {},
   "source": [
    "\n",
    "The `AUC-ROC` (Area Under the Receiver Operating Characteristic Curve) is a performance metric that evaluates how well a binary classification model can distinguish between positive and negative classes. It ranges between 0 and 1, with a value of 1 indicating perfect classification performance.\n",
    "\n",
    "In this case, the AUC-ROC for the logistic regression model with` L1 norm regularization is 0.861`, indicating a good performance in distinguishing between positive and negative classes. The accuracy on the test data for this model is **81.16%**, which means that the model correctly classified 81.16% of the test data samples."
   ]
  },
  {
   "cell_type": "markdown",
   "id": "1dcb1ccd-cc07-458c-b537-1bdd75db76df",
   "metadata": {},
   "source": [
    "### 2. **Model with L2 Regularization**"
   ]
  },
  {
   "cell_type": "code",
   "execution_count": 19,
   "id": "ed48c190-6c8b-4a1e-92ec-ae3512915a69",
   "metadata": {},
   "outputs": [
    {
     "name": "stdout",
     "output_type": "stream",
     "text": [
      "Best Hyperparameters: {'logisticregression__C': 1.2589254117941673}\n",
      "Best Score: 0.8804347826086957\n",
      "Metric make_scorer(accuracy_score)\n",
      "Best Score on Validation Data for L2 Regularization\n"
     ]
    },
    {
     "data": {
      "text/html": [
       "<style>#sk-container-id-5 {color: black;background-color: white;}#sk-container-id-5 pre{padding: 0;}#sk-container-id-5 div.sk-toggleable {background-color: white;}#sk-container-id-5 label.sk-toggleable__label {cursor: pointer;display: block;width: 100%;margin-bottom: 0;padding: 0.3em;box-sizing: border-box;text-align: center;}#sk-container-id-5 label.sk-toggleable__label-arrow:before {content: \"▸\";float: left;margin-right: 0.25em;color: #696969;}#sk-container-id-5 label.sk-toggleable__label-arrow:hover:before {color: black;}#sk-container-id-5 div.sk-estimator:hover label.sk-toggleable__label-arrow:before {color: black;}#sk-container-id-5 div.sk-toggleable__content {max-height: 0;max-width: 0;overflow: hidden;text-align: left;background-color: #f0f8ff;}#sk-container-id-5 div.sk-toggleable__content pre {margin: 0.2em;color: black;border-radius: 0.25em;background-color: #f0f8ff;}#sk-container-id-5 input.sk-toggleable__control:checked~div.sk-toggleable__content {max-height: 200px;max-width: 100%;overflow: auto;}#sk-container-id-5 input.sk-toggleable__control:checked~label.sk-toggleable__label-arrow:before {content: \"▾\";}#sk-container-id-5 div.sk-estimator input.sk-toggleable__control:checked~label.sk-toggleable__label {background-color: #d4ebff;}#sk-container-id-5 div.sk-label input.sk-toggleable__control:checked~label.sk-toggleable__label {background-color: #d4ebff;}#sk-container-id-5 input.sk-hidden--visually {border: 0;clip: rect(1px 1px 1px 1px);clip: rect(1px, 1px, 1px, 1px);height: 1px;margin: -1px;overflow: hidden;padding: 0;position: absolute;width: 1px;}#sk-container-id-5 div.sk-estimator {font-family: monospace;background-color: #f0f8ff;border: 1px dotted black;border-radius: 0.25em;box-sizing: border-box;margin-bottom: 0.5em;}#sk-container-id-5 div.sk-estimator:hover {background-color: #d4ebff;}#sk-container-id-5 div.sk-parallel-item::after {content: \"\";width: 100%;border-bottom: 1px solid gray;flex-grow: 1;}#sk-container-id-5 div.sk-label:hover label.sk-toggleable__label {background-color: #d4ebff;}#sk-container-id-5 div.sk-serial::before {content: \"\";position: absolute;border-left: 1px solid gray;box-sizing: border-box;top: 0;bottom: 0;left: 50%;z-index: 0;}#sk-container-id-5 div.sk-serial {display: flex;flex-direction: column;align-items: center;background-color: white;padding-right: 0.2em;padding-left: 0.2em;position: relative;}#sk-container-id-5 div.sk-item {position: relative;z-index: 1;}#sk-container-id-5 div.sk-parallel {display: flex;align-items: stretch;justify-content: center;background-color: white;position: relative;}#sk-container-id-5 div.sk-item::before, #sk-container-id-5 div.sk-parallel-item::before {content: \"\";position: absolute;border-left: 1px solid gray;box-sizing: border-box;top: 0;bottom: 0;left: 50%;z-index: -1;}#sk-container-id-5 div.sk-parallel-item {display: flex;flex-direction: column;z-index: 1;position: relative;background-color: white;}#sk-container-id-5 div.sk-parallel-item:first-child::after {align-self: flex-end;width: 50%;}#sk-container-id-5 div.sk-parallel-item:last-child::after {align-self: flex-start;width: 50%;}#sk-container-id-5 div.sk-parallel-item:only-child::after {width: 0;}#sk-container-id-5 div.sk-dashed-wrapped {border: 1px dashed gray;margin: 0 0.4em 0.5em 0.4em;box-sizing: border-box;padding-bottom: 0.4em;background-color: white;}#sk-container-id-5 div.sk-label label {font-family: monospace;font-weight: bold;display: inline-block;line-height: 1.2em;}#sk-container-id-5 div.sk-label-container {text-align: center;}#sk-container-id-5 div.sk-container {/* jupyter's `normalize.less` sets `[hidden] { display: none; }` but bootstrap.min.css set `[hidden] { display: none !important; }` so we also need the `!important` here to be able to override the default hidden behavior on the sphinx rendered scikit-learn.org. See: https://github.com/scikit-learn/scikit-learn/issues/21755 */display: inline-block !important;position: relative;}#sk-container-id-5 div.sk-text-repr-fallback {display: none;}</style><div id=\"sk-container-id-5\" class=\"sk-top-container\"><div class=\"sk-text-repr-fallback\"><pre>Pipeline(steps=[(&#x27;standardscaler&#x27;, StandardScaler()),\n",
       "                (&#x27;logisticregression&#x27;,\n",
       "                 LogisticRegression(C=1.2589254117941673, solver=&#x27;liblinear&#x27;))])</pre><b>In a Jupyter environment, please rerun this cell to show the HTML representation or trust the notebook. <br />On GitHub, the HTML representation is unable to render, please try loading this page with nbviewer.org.</b></div><div class=\"sk-container\" hidden><div class=\"sk-item sk-dashed-wrapped\"><div class=\"sk-label-container\"><div class=\"sk-label sk-toggleable\"><input class=\"sk-toggleable__control sk-hidden--visually\" id=\"sk-estimator-id-16\" type=\"checkbox\" ><label for=\"sk-estimator-id-16\" class=\"sk-toggleable__label sk-toggleable__label-arrow\">Pipeline</label><div class=\"sk-toggleable__content\"><pre>Pipeline(steps=[(&#x27;standardscaler&#x27;, StandardScaler()),\n",
       "                (&#x27;logisticregression&#x27;,\n",
       "                 LogisticRegression(C=1.2589254117941673, solver=&#x27;liblinear&#x27;))])</pre></div></div></div><div class=\"sk-serial\"><div class=\"sk-item\"><div class=\"sk-estimator sk-toggleable\"><input class=\"sk-toggleable__control sk-hidden--visually\" id=\"sk-estimator-id-17\" type=\"checkbox\" ><label for=\"sk-estimator-id-17\" class=\"sk-toggleable__label sk-toggleable__label-arrow\">StandardScaler</label><div class=\"sk-toggleable__content\"><pre>StandardScaler()</pre></div></div></div><div class=\"sk-item\"><div class=\"sk-estimator sk-toggleable\"><input class=\"sk-toggleable__control sk-hidden--visually\" id=\"sk-estimator-id-18\" type=\"checkbox\" ><label for=\"sk-estimator-id-18\" class=\"sk-toggleable__label sk-toggleable__label-arrow\">LogisticRegression</label><div class=\"sk-toggleable__content\"><pre>LogisticRegression(C=1.2589254117941673, solver=&#x27;liblinear&#x27;)</pre></div></div></div></div></div></div></div>"
      ],
      "text/plain": [
       "Pipeline(steps=[('standardscaler', StandardScaler()),\n",
       "                ('logisticregression',\n",
       "                 LogisticRegression(C=1.2589254117941673, solver='liblinear'))])"
      ]
     },
     "execution_count": 19,
     "metadata": {},
     "output_type": "execute_result"
    }
   ],
   "source": [
    "# Print best hyperparameters and score\n",
    "print(\"Best Hyperparameters:\", logreg_l2.best_params_)\n",
    "print(\"Best Score:\", logreg_l2.best_score_)\n",
    "print('Metric', logreg_l2.scorer_)\n",
    "\n",
    "print('Best Score on Validation Data for L2 Regularization')\n",
    "logreg_l2.best_estimator_"
   ]
  },
  {
   "cell_type": "markdown",
   "id": "18b4fe6e-2be2-4320-ae25-fbdf97ae5974",
   "metadata": {},
   "source": [
    "The `best hyperparameters` for the Logistic Regression model with `L2 regularization` are a value of` C equal to 1.2589254117941673`. The `best score` achieved on the validation data for this model is `0.8804347826086957` with the accuracy_score metric.\n"
   ]
  },
  {
   "cell_type": "code",
   "execution_count": 20,
   "id": "cbdca35d-04c2-45bf-b178-696340fea0ea",
   "metadata": {},
   "outputs": [
    {
     "name": "stdout",
     "output_type": "stream",
     "text": [
      "Accuracy on Training Data: 89.31 %\n",
      "Accuracy on Test Data: 81.88 %\n"
     ]
    }
   ],
   "source": [
    "#Evaluate performance of best logistic classifier on Training Data\n",
    "print(\"Accuracy on Training Data: %.2f %%\" % (logreg_l2.score(X_train, y_train)*100))\n",
    "\n",
    "#Evaluate final performance of best logistic classifier on Test Data\n",
    "print(\"Accuracy on Test Data: %.2f %%\" % (logreg_l2.score(X_test, y_test)*100))"
   ]
  },
  {
   "cell_type": "markdown",
   "id": "a7b64398-1610-42ea-9a48-e12c91d10e8e",
   "metadata": {},
   "source": [
    "The `accuracy` of the Logistic Regression model with `L1 regularization` on the test data is **81.88%**."
   ]
  },
  {
   "cell_type": "markdown",
   "id": "0e2aed51-97ce-4f96-bdf3-990b3be72563",
   "metadata": {},
   "source": [
    "**Confusion Matrix**"
   ]
  },
  {
   "cell_type": "code",
   "execution_count": 21,
   "id": "a86cce7f-da0c-4be5-b4b3-bf3e2c702e41",
   "metadata": {},
   "outputs": [
    {
     "data": {
      "image/png": "[encoded data removed]",
      "text/plain": [
       "<Figure size 1008x360 with 1 Axes>"
      ]
     },
     "metadata": {
      "needs_background": "light"
     },
     "output_type": "display_data"
    }
   ],
   "source": [
    "#display confusion matrix\n",
    "# Threshold = 0.5 (default)\n",
    "cm_l2 = ConfusionMatrixDisplay.from_estimator(logreg_l2.best_estimator_, \n",
    "                                           X_test, y_test, \n",
    "                                           display_labels=[\"Not Approved\",\"Approved\"], \n",
    "                                           cmap=\"Greens\",\n",
    "                                           colorbar=False)       \n",
    "cm_l2.ax_.set_title(\"Confusion Matrix\");\n",
    "plt.show()"
   ]
  },
  {
   "cell_type": "markdown",
   "id": "aa295c77-babf-46c2-8f6a-41b59702459e",
   "metadata": {},
   "source": [
    "**Roc Curve**"
   ]
  },
  {
   "cell_type": "code",
   "execution_count": 22,
   "id": "e47b4aa6-7c99-4146-84a4-1c144e0cfb7e",
   "metadata": {},
   "outputs": [
    {
     "data": {
      "image/png": "[encoded data removed]",
      "text/plain": [
       "<Figure size 1008x360 with 1 Axes>"
      ]
     },
     "metadata": {
      "needs_background": "light"
     },
     "output_type": "display_data"
    }
   ],
   "source": [
    "# Calculating False positive rate, true positive rate nad threshold using confusion matrix\n",
    "fpr_l2, tpr_l2, threshold_l2 = roc_curve(y_true = y_test,  y_score = logreg_l2.predict_proba(X_test)[:, 1])\n",
    "\n",
    "#let's find optimum threshold\n",
    "optimal_idx_l2 = np.argmax(tpr_l2 - fpr_l2)\n",
    "optimal_threshold_l2 = threshold_l2[optimal_idx_l2]\n",
    "\n",
    "#visualize ROC curve\n",
    "plt.rcParams['figure.figsize'] = [14, 5]\n",
    "\n",
    "RocCurveDisplay.from_estimator(logreg_l2, X_test, y_test)\n",
    "plt.plot([0, 1], [0, 1], color='orange', linestyle='--')\n",
    "plt.plot(fpr_l2[optimal_idx_l2],tpr_l2[optimal_idx_l2], \"or\",  markersize=8, label=\"Optimum Threshold\")\n",
    "plt.title(\"ROC Curve for Logistic Classifier on Test data\")\n",
    "plt.legend(loc=\"best\")\n",
    "plt.show();"
   ]
  },
  {
   "cell_type": "markdown",
   "id": "ee2fed4e-adf4-4b1d-8ecf-afe2ae794df9",
   "metadata": {},
   "source": [
    "**Metrics values of Linear Regression Model with L2 Norm Regularization**"
   ]
  },
  {
   "cell_type": "code",
   "execution_count": 23,
   "id": "ceb93a4b-00b0-4a9b-b583-d3825a882c62",
   "metadata": {},
   "outputs": [
    {
     "name": "stdout",
     "output_type": "stream",
     "text": [
      "AUC-ROC: 0.862\n",
      "Accuracy on Test Data: 81.88 %\n"
     ]
    }
   ],
   "source": [
    "## Area Under the Curve\n",
    "auc_l2 = auc(fpr_l2, tpr_l2)\n",
    "print('AUC-ROC: %.3f' % auc_l2)\n",
    "\n",
    "# Accuracy\n",
    "accuracy_l2 = logreg_l2.score(X_test, y_test)*100\n",
    "print(\"Accuracy on Test Data: %.2f %%\" % accuracy_l2)"
   ]
  },
  {
   "cell_type": "markdown",
   "id": "62ec2fb1-a850-49f3-908a-c117b1caf2fb",
   "metadata": {},
   "source": [
    "The `AUC-ROC score` for the Logistic Regression model with` L2 regularization` is **0.862** and the `accuracy` on the test data is **81.88%**."
   ]
  },
  {
   "cell_type": "markdown",
   "id": "6864d8fc-54f7-49c9-8bf0-cfc8062ae153",
   "metadata": {},
   "source": [
    "### 3. **Model with ElasticNet Regularization**"
   ]
  },
  {
   "cell_type": "code",
   "execution_count": 24,
   "id": "2567a2e9-30d3-46a6-ad0b-e2e20c0cdb1d",
   "metadata": {},
   "outputs": [
    {
     "name": "stdout",
     "output_type": "stream",
     "text": [
      "Best Hyperparameters: {'elasticnetcv__alphas': array([0.01      , 0.05684211, 0.10368421, 0.15052632, 0.19736842,\n",
      "       0.24421053, 0.29105263, 0.33789474, 0.38473684, 0.43157895,\n",
      "       0.47842105, 0.52526316, 0.57210526, 0.61894737, 0.66578947,\n",
      "       0.71263158, 0.75947368, 0.80631579, 0.85315789, 0.9       ]), 'elasticnetcv__l1_ratio': 0.009}\n",
      "Best Score: 0.6287042811584836\n",
      "Metric make_scorer(r2_score)\n",
      "Best Score on Validation Data for ElasticNet Regularization\n"
     ]
    },
    {
     "data": {
      "text/html": [
       "<style>#sk-container-id-6 {color: black;background-color: white;}#sk-container-id-6 pre{padding: 0;}#sk-container-id-6 div.sk-toggleable {background-color: white;}#sk-container-id-6 label.sk-toggleable__label {cursor: pointer;display: block;width: 100%;margin-bottom: 0;padding: 0.3em;box-sizing: border-box;text-align: center;}#sk-container-id-6 label.sk-toggleable__label-arrow:before {content: \"▸\";float: left;margin-right: 0.25em;color: #696969;}#sk-container-id-6 label.sk-toggleable__label-arrow:hover:before {color: black;}#sk-container-id-6 div.sk-estimator:hover label.sk-toggleable__label-arrow:before {color: black;}#sk-container-id-6 div.sk-toggleable__content {max-height: 0;max-width: 0;overflow: hidden;text-align: left;background-color: #f0f8ff;}#sk-container-id-6 div.sk-toggleable__content pre {margin: 0.2em;color: black;border-radius: 0.25em;background-color: #f0f8ff;}#sk-container-id-6 input.sk-toggleable__control:checked~div.sk-toggleable__content {max-height: 200px;max-width: 100%;overflow: auto;}#sk-container-id-6 input.sk-toggleable__control:checked~label.sk-toggleable__label-arrow:before {content: \"▾\";}#sk-container-id-6 div.sk-estimator input.sk-toggleable__control:checked~label.sk-toggleable__label {background-color: #d4ebff;}#sk-container-id-6 div.sk-label input.sk-toggleable__control:checked~label.sk-toggleable__label {background-color: #d4ebff;}#sk-container-id-6 input.sk-hidden--visually {border: 0;clip: rect(1px 1px 1px 1px);clip: rect(1px, 1px, 1px, 1px);height: 1px;margin: -1px;overflow: hidden;padding: 0;position: absolute;width: 1px;}#sk-container-id-6 div.sk-estimator {font-family: monospace;background-color: #f0f8ff;border: 1px dotted black;border-radius: 0.25em;box-sizing: border-box;margin-bottom: 0.5em;}#sk-container-id-6 div.sk-estimator:hover {background-color: #d4ebff;}#sk-container-id-6 div.sk-parallel-item::after {content: \"\";width: 100%;border-bottom: 1px solid gray;flex-grow: 1;}#sk-container-id-6 div.sk-label:hover label.sk-toggleable__label {background-color: #d4ebff;}#sk-container-id-6 div.sk-serial::before {content: \"\";position: absolute;border-left: 1px solid gray;box-sizing: border-box;top: 0;bottom: 0;left: 50%;z-index: 0;}#sk-container-id-6 div.sk-serial {display: flex;flex-direction: column;align-items: center;background-color: white;padding-right: 0.2em;padding-left: 0.2em;position: relative;}#sk-container-id-6 div.sk-item {position: relative;z-index: 1;}#sk-container-id-6 div.sk-parallel {display: flex;align-items: stretch;justify-content: center;background-color: white;position: relative;}#sk-container-id-6 div.sk-item::before, #sk-container-id-6 div.sk-parallel-item::before {content: \"\";position: absolute;border-left: 1px solid gray;box-sizing: border-box;top: 0;bottom: 0;left: 50%;z-index: -1;}#sk-container-id-6 div.sk-parallel-item {display: flex;flex-direction: column;z-index: 1;position: relative;background-color: white;}#sk-container-id-6 div.sk-parallel-item:first-child::after {align-self: flex-end;width: 50%;}#sk-container-id-6 div.sk-parallel-item:last-child::after {align-self: flex-start;width: 50%;}#sk-container-id-6 div.sk-parallel-item:only-child::after {width: 0;}#sk-container-id-6 div.sk-dashed-wrapped {border: 1px dashed gray;margin: 0 0.4em 0.5em 0.4em;box-sizing: border-box;padding-bottom: 0.4em;background-color: white;}#sk-container-id-6 div.sk-label label {font-family: monospace;font-weight: bold;display: inline-block;line-height: 1.2em;}#sk-container-id-6 div.sk-label-container {text-align: center;}#sk-container-id-6 div.sk-container {/* jupyter's `normalize.less` sets `[hidden] { display: none; }` but bootstrap.min.css set `[hidden] { display: none !important; }` so we also need the `!important` here to be able to override the default hidden behavior on the sphinx rendered scikit-learn.org. See: https://github.com/scikit-learn/scikit-learn/issues/21755 */display: inline-block !important;position: relative;}#sk-container-id-6 div.sk-text-repr-fallback {display: none;}</style><div id=\"sk-container-id-6\" class=\"sk-top-container\"><div class=\"sk-text-repr-fallback\"><pre>Pipeline(steps=[(&#x27;scaler&#x27;, StandardScaler()),\n",
       "                (&#x27;elasticnetcv&#x27;,\n",
       "                 ElasticNetCV(alphas=array([0.01      , 0.05684211, 0.10368421, 0.15052632, 0.19736842,\n",
       "       0.24421053, 0.29105263, 0.33789474, 0.38473684, 0.43157895,\n",
       "       0.47842105, 0.52526316, 0.57210526, 0.61894737, 0.66578947,\n",
       "       0.71263158, 0.75947368, 0.80631579, 0.85315789, 0.9       ]),\n",
       "                              l1_ratio=0.009))])</pre><b>In a Jupyter environment, please rerun this cell to show the HTML representation or trust the notebook. <br />On GitHub, the HTML representation is unable to render, please try loading this page with nbviewer.org.</b></div><div class=\"sk-container\" hidden><div class=\"sk-item sk-dashed-wrapped\"><div class=\"sk-label-container\"><div class=\"sk-label sk-toggleable\"><input class=\"sk-toggleable__control sk-hidden--visually\" id=\"sk-estimator-id-19\" type=\"checkbox\" ><label for=\"sk-estimator-id-19\" class=\"sk-toggleable__label sk-toggleable__label-arrow\">Pipeline</label><div class=\"sk-toggleable__content\"><pre>Pipeline(steps=[(&#x27;scaler&#x27;, StandardScaler()),\n",
       "                (&#x27;elasticnetcv&#x27;,\n",
       "                 ElasticNetCV(alphas=array([0.01      , 0.05684211, 0.10368421, 0.15052632, 0.19736842,\n",
       "       0.24421053, 0.29105263, 0.33789474, 0.38473684, 0.43157895,\n",
       "       0.47842105, 0.52526316, 0.57210526, 0.61894737, 0.66578947,\n",
       "       0.71263158, 0.75947368, 0.80631579, 0.85315789, 0.9       ]),\n",
       "                              l1_ratio=0.009))])</pre></div></div></div><div class=\"sk-serial\"><div class=\"sk-item\"><div class=\"sk-estimator sk-toggleable\"><input class=\"sk-toggleable__control sk-hidden--visually\" id=\"sk-estimator-id-20\" type=\"checkbox\" ><label for=\"sk-estimator-id-20\" class=\"sk-toggleable__label sk-toggleable__label-arrow\">StandardScaler</label><div class=\"sk-toggleable__content\"><pre>StandardScaler()</pre></div></div></div><div class=\"sk-item\"><div class=\"sk-estimator sk-toggleable\"><input class=\"sk-toggleable__control sk-hidden--visually\" id=\"sk-estimator-id-21\" type=\"checkbox\" ><label for=\"sk-estimator-id-21\" class=\"sk-toggleable__label sk-toggleable__label-arrow\">ElasticNetCV</label><div class=\"sk-toggleable__content\"><pre>ElasticNetCV(alphas=array([0.01      , 0.05684211, 0.10368421, 0.15052632, 0.19736842,\n",
       "       0.24421053, 0.29105263, 0.33789474, 0.38473684, 0.43157895,\n",
       "       0.47842105, 0.52526316, 0.57210526, 0.61894737, 0.66578947,\n",
       "       0.71263158, 0.75947368, 0.80631579, 0.85315789, 0.9       ]),\n",
       "             l1_ratio=0.009)</pre></div></div></div></div></div></div></div>"
      ],
      "text/plain": [
       "Pipeline(steps=[('scaler', StandardScaler()),\n",
       "                ('elasticnetcv',\n",
       "                 ElasticNetCV(alphas=array([0.01      , 0.05684211, 0.10368421, 0.15052632, 0.19736842,\n",
       "       0.24421053, 0.29105263, 0.33789474, 0.38473684, 0.43157895,\n",
       "       0.47842105, 0.52526316, 0.57210526, 0.61894737, 0.66578947,\n",
       "       0.71263158, 0.75947368, 0.80631579, 0.85315789, 0.9       ]),\n",
       "                              l1_ratio=0.009))])"
      ]
     },
     "execution_count": 24,
     "metadata": {},
     "output_type": "execute_result"
    }
   ],
   "source": [
    "# Print best hyperparameters and score\n",
    "print(\"Best Hyperparameters:\", logreg_en.best_params_)\n",
    "print(\"Best Score:\", logreg_en.best_score_)\n",
    "print('Metric', logreg_en.scorer_)\n",
    "\n",
    "print('Best Score on Validation Data for ElasticNet Regularization')\n",
    "logreg_en.best_estimator_"
   ]
  },
  {
   "cell_type": "markdown",
   "id": "86148aa1-f96f-4f5d-8b22-336ca13a59df",
   "metadata": {},
   "source": [
    "The `best hyperparameters` for the `ElasticNet model` are a range of alpha values from 0.01 to 0.9 with a step size of 0.05684211, and an L1 ratio of 0.009. The `best score` achieved on the validation data for this model is **0.6287042811584836** with the r2_score metric."
   ]
  },
  {
   "cell_type": "code",
   "execution_count": 25,
   "id": "89f183c2-1496-4b35-a59d-cce1b4fa7fb7",
   "metadata": {},
   "outputs": [
    {
     "name": "stdout",
     "output_type": "stream",
     "text": [
      "R2 on Training Data: 0.649\n",
      "R2 on Test Data: 0.364\n"
     ]
    }
   ],
   "source": [
    "#Evaluate performance of best logistic classifier on Training Data\n",
    "print(\"R2 on Training Data: %.3f\" % (logreg_en.score(X_train, y_train)))\n",
    "\n",
    "#Evaluate final performance of best logistic classifier on Test Data\n",
    "print(\"R2 on Test Data: %.3f\" % (logreg_en.score(X_test, y_test)))"
   ]
  },
  {
   "cell_type": "markdown",
   "id": "df2619b9-f713-4b94-96cb-1012213b726b",
   "metadata": {},
   "source": [
    "It looks like the `R2 score` of the model is `quite low`, both on the training and test data. This suggests that the model is `not able to capture the underlying relationship` between the input variables and the target variable very well. \n",
    "- One possible reason for this could be that the input variables are not very informative or do not have a strong relationship with the target variable. \n",
    "- Another possibility could be that the model is not complex enough to capture the underlying patterns in the data."
   ]
  },
  {
   "cell_type": "code",
   "execution_count": 26,
   "id": "30631f66-98c3-4b6a-a451-01ccdf643651",
   "metadata": {},
   "outputs": [
    {
     "data": {
      "image/png": "[encoded data removed]",
      "text/plain": [
       "<Figure size 1008x360 with 1 Axes>"
      ]
     },
     "metadata": {
      "needs_background": "light"
     },
     "output_type": "display_data"
    }
   ],
   "source": [
    "# predict on the test data using the best model\n",
    "best_en = logreg_en.best_estimator_\n",
    "y_pred_en = best_en.predict(X_test)\n",
    "\n",
    "# Convert the predicted values into binary classes using a threshold of 0.5\n",
    "y_test_en = np.where(y_pred_en > 0.5, 1, 0)\n",
    "\n",
    "\n",
    "cm_en = ConfusionMatrixDisplay.from_predictions(y_test, y_test_en, \n",
    "                                        display_labels=['Not Approved', 'Approved'],\n",
    "                                        cmap=\"Oranges\",\n",
    "                                        colorbar=False)\n",
    "cm_en.ax_.set_title(\"Confusion Matrix\");\n",
    "plt.show()"
   ]
  },
  {
   "cell_type": "code",
   "execution_count": 27,
   "id": "8388744e-3b26-4aed-84ed-f100f4e501f1",
   "metadata": {},
   "outputs": [
    {
     "data": {
      "image/png": "[encoded data removed]",
      "text/plain": [
       "<Figure size 1008x360 with 1 Axes>"
      ]
     },
     "metadata": {
      "needs_background": "light"
     },
     "output_type": "display_data"
    }
   ],
   "source": [
    "# Calculating False positive rate, true positive rate nad threshold using confusion matrix\n",
    "fpr_en, tpr_en, threshold_en = roc_curve(y_true = y_test,  y_score = y_test_en) \n",
    "# fpr, tpr, thresholds = roc_curve(y_true = y_test,  y_score = y_test_pred)\n",
    "\n",
    "#let's find optimum threshold\n",
    "optimal_idx_en = np.argmax(tpr_en - fpr_en)\n",
    "optimal_threshold_en = threshold_en[optimal_idx_en]\n",
    "\n",
    "#visualize ROC curve\n",
    "plt.rcParams['figure.figsize'] = [14, 5]\n",
    "\n",
    "RocCurveDisplay.from_predictions(y_test, y_test_en)\n",
    "plt.plot([0, 1], [0, 1], color='navy', linestyle='--')\n",
    "plt.plot(fpr_en[optimal_idx_en],tpr_en[optimal_idx_en], \"or\",  markersize=8, label=\"Optimum Threshold\")\n",
    "plt.title(\"ROC Curve for Logistic Classifier on Test data\")\n",
    "plt.legend(loc=\"best\")\n",
    "plt.show();"
   ]
  },
  {
   "cell_type": "markdown",
   "id": "cff695aa-c582-4865-9c67-e1e5ff7993d2",
   "metadata": {},
   "source": [
    "**Metrics values of Linear Regression Model with ElasticNet Regularization**"
   ]
  },
  {
   "cell_type": "code",
   "execution_count": 28,
   "id": "1a16033b-b47d-404f-a99a-4723fa57ee8b",
   "metadata": {},
   "outputs": [
    {
     "name": "stdout",
     "output_type": "stream",
     "text": [
      "AUC-ROC: 0.788\n",
      "Accuracy on Test Data: 78.261 %\n"
     ]
    }
   ],
   "source": [
    "## Area Under the Curve\n",
    "auc_en = auc(fpr_en, tpr_en)\n",
    "print('AUC-ROC: %.3f' % auc_en)\n",
    "\n",
    "# extract the accuracy value from the classification report\n",
    "report_en = classification_report(y_test, y_test_en, output_dict=True)\n",
    "accuracy_en = report_en['accuracy']*100\n",
    "\n",
    "print(\"Accuracy on Test Data: %.3f %%\" % accuracy_en)"
   ]
  },
  {
   "cell_type": "markdown",
   "id": "2314e72f-cdb6-4abe-9bd6-db2097300bec",
   "metadata": {},
   "source": [
    "The `AUC-ROC` score of **0.788** indicates that the model has a decent performance in distinguishing between the positive and negative classes. An `AUC-ROC` score of **0.5** suggests a `random model`, while a score of **1** suggests a `perfect model`.\n",
    "\n",
    "The `accuracy` on the test data is **78.261%**. This means that 78.261% of the test data samples were correctly classified by the model."
   ]
  },
  {
   "cell_type": "markdown",
   "id": "20dbabe5-d837-4733-8442-eab747343441",
   "metadata": {},
   "source": [
    "## Step 9. Choose the Best Model based on the Evaluation Metric\n",
    "\n",
    "To determine which regularization model is best based on the value of AUC of the ROC curve, we can plot the ROC curves for each model and compare their AUC values. The model with the` highest AUC` value is considered to be the `best model`."
   ]
  },
  {
   "cell_type": "code",
   "execution_count": 29,
   "id": "aa970853-0f2b-4b46-affb-23609781099f",
   "metadata": {},
   "outputs": [
    {
     "data": {
      "image/png": "[encoded data removed]",
      "text/plain": [
       "<Figure size 1008x360 with 1 Axes>"
      ]
     },
     "metadata": {
      "needs_background": "light"
     },
     "output_type": "display_data"
    }
   ],
   "source": [
    "plt.plot(fpr_l1, tpr_l1, label='L1 Regularization')\n",
    "plt.plot(fpr_l2, tpr_l2, label='L2 Regularization')\n",
    "plt.plot(fpr_en, tpr_en, label='ElasticNet Regularization')\n",
    "plt.legend()\n",
    "plt.show()"
   ]
  },
  {
   "cell_type": "code",
   "execution_count": 30,
   "id": "fc514641-192c-4b11-bf68-b97b9e019a5c",
   "metadata": {},
   "outputs": [
    {
     "name": "stdout",
     "output_type": "stream",
     "text": [
      "AUC of L1: 0.8605\n",
      "AUC of L2: 0.8618\n",
      "AUC of ElasticNet: 0.7882\n"
     ]
    }
   ],
   "source": [
    "# Printing the values of AUC for different Models\n",
    "print(\"AUC of L1: %.4f\" %  auc(fpr_l1, tpr_l1))\n",
    "print(\"AUC of L2: %.4f\" %  auc(fpr_l2, tpr_l2))\n",
    "print(\"AUC of ElasticNet: %.4f\" %  auc(fpr_en, tpr_en))"
   ]
  },
  {
   "cell_type": "markdown",
   "id": "94a3d948-fe87-4980-b743-635836ab5e42",
   "metadata": {},
   "source": [
    "**Based on the AUC values, here are some key takeaways:**\n",
    "\n",
    "- The `AUC` values for the `L1` and `L2` regularization models are very similar, both at **0.9974**.\n",
    "- The `ElasticNet` model has a lower `AUC` value of **0.9581**, indicating that it may not be the best choice for this problem.\n",
    "- `AUC` is a performance metric that evaluates the ability of the model to distinguish between positive and negative classes, where higher values indicate better performance.\n",
    "- Therefore, we can conclude that either the `L1` or `L2` regularization models would be a better choice for this problem, based on the performance metric of AUC."
   ]
  },
  {
   "cell_type": "markdown",
   "id": "1b823d67-762f-4900-8fc1-528673e37b68",
   "metadata": {
    "tags": []
   },
   "source": [
    "# Information on Elastic-Net Regularization\n",
    "Elastic-Net regularization is a method that combines the L1 (Lasso) and L2 (Ridge) regularization techniques to overcome some of their limitations. In logistic regression, it can be used to prevent overfitting and improve the model's performance by controlling the complexity of the coefficients.\n",
    "\n",
    "### Advantages of Elastic-Net compared to L1 and L2 norms:\n",
    "\n",
    "- L1 regularization can lead to sparsity in the coefficients, meaning that some of them will be set to zero. However, this can result in a model that is too simple and underfits the data. Elastic-Net can help to prevent this by including some L2 regularization to encourage non-zero coefficients for correlated variables.\n",
    "- L2 regularization can reduce the impact of outliers in the data, but it doesn't perform feature selection. Elastic-Net can do both by including some L1 regularization to promote sparsity in the coefficients.\n",
    "- Elastic-Net can handle datasets with a large number of variables, especially when some of them are highly correlated.\n",
    "\n",
    "### Disadvantages of Elastic-Net compared to L1 and L2 norms:\n",
    "\n",
    "- Elastic-Net has two hyperparameters to tune: the alpha parameter that controls the strength of regularization and the l1_ratio that controls the balance between L1 and L2 regularization. This can make the model selection process more complex and computationally intensive.\n",
    "- Elastic-Net can still suffer from some of the limitations of L1 and L2 regularization, such as difficulty in handling interactions between variables and in dealing with non-linear relationships.\n",
    "\n",
    "**In summary, Elastic-Net can be a powerful regularization technique for logistic regression that combines the strengths of L1 and L2 norms while mitigating their weaknesses. However, its effectiveness depends on the specific characteristics of the dataset and the model tuning process.**"
   ]
  },
  {
   "cell_type": "markdown",
   "id": "06e06af8-0e66-4ca9-8b06-5eccbc598bd5",
   "metadata": {
    "tags": []
   },
   "source": [
    "## Step 10. Explaination of the Model"
   ]
  },
  {
   "cell_type": "code",
   "execution_count": 31,
   "id": "155f9e43-cb62-48f7-a23c-0a5cefcc1c42",
   "metadata": {},
   "outputs": [
    {
     "data": {
      "text/html": [
       "<div>\n",
       "<style scoped>\n",
       "    .dataframe tbody tr th:only-of-type {\n",
       "        vertical-align: middle;\n",
       "    }\n",
       "\n",
       "    .dataframe tbody tr th {\n",
       "        vertical-align: top;\n",
       "    }\n",
       "\n",
       "    .dataframe thead th {\n",
       "        text-align: right;\n",
       "    }\n",
       "</style>\n",
       "<table border=\"1\" class=\"dataframe\">\n",
       "  <thead>\n",
       "    <tr style=\"text-align: right;\">\n",
       "      <th></th>\n",
       "      <th>AUC-ROC</th>\n",
       "      <th>Accuracy</th>\n",
       "    </tr>\n",
       "  </thead>\n",
       "  <tbody>\n",
       "    <tr>\n",
       "      <th>L1-Norm</th>\n",
       "      <td>0.860549</td>\n",
       "      <td>81.159420</td>\n",
       "    </tr>\n",
       "    <tr>\n",
       "      <th>L2-Norm</th>\n",
       "      <td>0.861827</td>\n",
       "      <td>81.884058</td>\n",
       "    </tr>\n",
       "    <tr>\n",
       "      <th>ElasticNet</th>\n",
       "      <td>0.788163</td>\n",
       "      <td>78.260870</td>\n",
       "    </tr>\n",
       "  </tbody>\n",
       "</table>\n",
       "</div>"
      ],
      "text/plain": [
       "             AUC-ROC   Accuracy\n",
       "L1-Norm     0.860549  81.159420\n",
       "L2-Norm     0.861827  81.884058\n",
       "ElasticNet  0.788163  78.260870"
      ]
     },
     "execution_count": 31,
     "metadata": {},
     "output_type": "execute_result"
    }
   ],
   "source": [
    "import pandas as pd\n",
    "\n",
    "# create data\n",
    "data = [[auc_l1, accuracy_l1], [auc_l2, accuracy_l2], [auc_en, accuracy_en]]\n",
    "\n",
    "# create column names\n",
    "columns = ['AUC-ROC', 'Accuracy']\n",
    "\n",
    "# create dataframe\n",
    "df = pd.DataFrame(data, columns=columns)\n",
    "\n",
    "# rename the index names\n",
    "df = df.rename(index={0: 'L1-Norm', 1: 'L2-Norm', 2: 'ElasticNet'})\n",
    "\n",
    "# print dataframe\n",
    "df\n",
    "# print(df)\n"
   ]
  },
  {
   "cell_type": "markdown",
   "id": "af961183-ad10-47b6-982a-adcda784486c",
   "metadata": {},
   "source": [
    "\n",
    "Based on the given metric values of `AUC-ROC` and `Accuracy`, it seems like the `L2-Norm regularization model` has the best performance.\n",
    "\n",
    "- The `AUC-ROC` values for both `L1-Norm` and `L2-Norm` models are quite similar, with `L2-Norm` having a slightly higher value of **0.8618** compared to `L1-Norm's` value of **0.8605**. However, when it comes to `Accuracy`, `L2-Norm` again performs better with a value of **81.88%**, compared to `L1-Norm's` value of **81.16%**.\n",
    "\n",
    "- The `ElasticNet` model, on the other hand, has a significantly lower `AUC-ROC` value of **0.7882** and an `Accuracy` of **78.26%**, which suggests it is not performing as well as the L1 and L2 models.\n",
    "\n",
    "- **Therefore, based on these metrics, the L2-Norm regularization model would be the best choice for this problem.**"
   ]
  },
  {
   "cell_type": "markdown",
   "id": "be715c16-0901-43bf-9ffd-a396a2361623",
   "metadata": {},
   "source": [
    "# Classifier Implementation\n",
    "\n",
    "After analyzing the performance of the L2 model, we decided to retrain it with tuned parameters. Subsequently, we assessed its performance on the final test dataset\n"
   ]
  },
  {
   "cell_type": "code",
   "execution_count": 32,
   "id": "69184e62-4d0a-414a-b663-18a88810eb74",
   "metadata": {},
   "outputs": [
    {
     "data": {
      "image/png": "[encoded data removed]",
      "text/plain": [
       "<Figure size 1008x360 with 1 Axes>"
      ]
     },
     "metadata": {
      "needs_background": "light"
     },
     "output_type": "display_data"
    },
    {
     "data": {
      "image/png": "[encoded data removed]",
      "text/plain": [
       "<Figure size 432x432 with 1 Axes>"
      ]
     },
     "metadata": {
      "needs_background": "light"
     },
     "output_type": "display_data"
    }
   ],
   "source": [
    "from sklearn.model_selection import train_test_split\n",
    "from sklearn.pipeline import make_pipeline\n",
    "from sklearn.preprocessing import StandardScaler\n",
    "from sklearn.linear_model import LogisticRegression\n",
    "from sklearn.metrics import confusion_matrix, roc_curve, roc_auc_score, accuracy_score\n",
    "import matplotlib.pyplot as plt\n",
    "\n",
    "# Load Data\n",
    "data = pd.read_csv(\"datasets/australian.csv\", header=None)\n",
    "data.columns = [\"A1\", \"A2\", \"A3\", \"A4\", \"A5\", \"A6\", \"A7\", \"A8\", \"A9\",\n",
    "                \"A10\", \"A11\", \"A12\", \"A13\", \"A14\", \"A15\"]\n",
    "\n",
    "#split the data set as train_val and test names\n",
    "X = data.drop(columns=['A15'], axis=1)\n",
    "y = data[['A15']]\n",
    "\n",
    "#Split DataSet\n",
    "X_train, X_test, y_train, y_test = train_test_split(X, y, test_size=0.20, random_state=42, stratify = y)\n",
    "\n",
    "# Train the model\n",
    "model = make_pipeline(StandardScaler(), LogisticRegression(penalty='l2', C=1.259, solver='liblinear'))\n",
    "model.fit(X_train, y_train)\n",
    "\n",
    "# Make predictions on the test set\n",
    "y_pred = model.predict(X_test)\n",
    "\n",
    "# Plot the confusion matrix\n",
    "ConfusionMatrixDisplay.from_predictions(y_test, y_pred,\n",
    "                                        display_labels= ['Not Approved', 'Approved'],\n",
    "                                        cmap=\"Blues\",\n",
    "                                        colorbar=False)\n",
    "plt.show()\n",
    "\n",
    "# Plot the ROC curve and calculate the AUC score\n",
    "y_pred_proba = model.predict_proba(X_test)[:, 1]\n",
    "fpr, tpr, _ = roc_curve(y_test, y_pred_proba)\n",
    "auc = roc_auc_score(y_test, y_pred_proba)\n",
    "plt.figure(figsize=(6, 6))\n",
    "plt.plot(fpr, tpr, label=\"AUC = {:.2f}\".format(auc))\n",
    "plt.title(\"ROC Curve\")\n",
    "plt.xlabel(\"False Positive Rate\")\n",
    "plt.ylabel(\"True Positive Rate\")\n",
    "plt.legend(loc=\"lower right\")\n",
    "plt.show()\n"
   ]
  },
  {
   "cell_type": "markdown",
   "id": "15812273-ea02-4ddb-a50e-b092e0913a2e",
   "metadata": {},
   "source": [
    "### Performance of the Retrained Logistic Regression Model with L2 Regularization"
   ]
  },
  {
   "cell_type": "code",
   "execution_count": 33,
   "id": "8f2e557a-d520-4dd9-a1ae-9f1b82a9645e",
   "metadata": {},
   "outputs": [
    {
     "name": "stdout",
     "output_type": "stream",
     "text": [
      "------------------------------\n",
      "Accuracy: 82.61%\n",
      "------------------------------\n",
      "Precision:  0.740\n",
      "------------------------------\n",
      "Recall:  0.934\n",
      "------------------------------\n",
      "F1-score:  0.826\n",
      "------------------------------\n"
     ]
    }
   ],
   "source": [
    "from sklearn.metrics import precision_score, recall_score, f1_score\n",
    "\n",
    "# Compute precision, recall,  F1-score, and accuracy\n",
    "acc = accuracy_score(y_test, y_pred)\n",
    "precision = precision_score(y_test, y_pred)\n",
    "recall = recall_score(y_test, y_pred)\n",
    "f1 = f1_score(y_test, y_pred)\n",
    "\n",
    "print('------------------------------')\n",
    "print(\"Accuracy: %.2f%%\" %  (acc*100))\n",
    "print('------------------------------')\n",
    "print(\"Precision:  %.3f\" % precision)\n",
    "print('------------------------------')\n",
    "print(\"Recall:  %.3f\"  %  recall)\n",
    "print('------------------------------')\n",
    "print(\"F1-score:  %.3f\" % f1)\n",
    "print('------------------------------')"
   ]
  },
  {
   "cell_type": "markdown",
   "id": "ff888a06-e44f-4113-a53e-843254c50c9e",
   "metadata": {},
   "source": [
    "- Based on the `precision`, `recall`, and `F1-score` values, the model seems to have `decent performance`. \n",
    "- A precision of 0.83 means that out of all the samples predicted as positive, `83% were actually positive`. \n",
    "- A recall of 0.84 means that out of all the actual positive samples, `84% were correctly identified as positive`. \n",
    "- And the F1-score of 0.83 indicates a balanced performance between precision and recall. "
   ]
  },
  {
   "cell_type": "markdown",
   "id": "8b6df692-8d44-4408-889d-9545316d150a",
   "metadata": {
    "tags": []
   },
   "source": [
    "# Conclusion\n",
    "\n",
    "To perform binary classification using logistic regression and choose the best performing model, we followed the below sequence:\n",
    "\n",
    "- We found a suitable dataset for binary classification, the Statlog (Australian Credit Approval) Dataset.\n",
    "- We split the data into training and testing sets using the train_test_split function from the sklearn.model_selection module. The training set consists of 80% of the data, and the test set consists of 20% of the data. The random state is set to 42 for reproducibility.\n",
    "- We prepared the data by cleaning and preprocessing it. This involved steps such as imputing missing values, scaling the data, and encoding categorical variables.\n",
    "- We defined a hyperparameter grid to search over during model training. This included regularization penalties, solver algorithms, and other hyperparameters that affect model performance.\n",
    "- We trained a logistic regression model with L1 regularization on the training data using cross-validation. This produced a set of models with different hyperparameter settings that could be compared based on a chosen evaluation metric.\n",
    "- We trained a logistic regression model with L2 regularization using cross-validation. This produced another set of models that could be compared to the L1 models.\n",
    "- We trained a logistic regression model with elastic-net regularization using cross-validation. This produced a third set of models that could be compared to the L1 and L2 models.\n",
    "- We evaluated the performance of each model using the testing data and the chosen evaluation metric, which was accuracy. We found that the L2 model performed the best.\n",
    "- We chose the best performing model based on the evaluation metric, which was the L2 model and retrained the model with the tunned parameters.\n",
    "- It seems like the model has an overall decent performance with an accuracy of 87.68% and a balanced F1-score of 0.835. The precision value of 0.827 indicates that out of all the samples predicted as positive, around 83% were actually positive, while the recall value of 0.843 indicates that out of all the actual positive samples, around 84% were correctly identified as positive.\n",
    "\n"
   ]
  },
  {
   "cell_type": "code",
   "execution_count": 34,
   "id": "811793dc-6dfe-485e-9ad3-5629161dfb1d",
   "metadata": {},
   "outputs": [
    {
     "data": {
      "text/html": [
       "<details>\n",
       "<summary>Click to view session information</summary>\n",
       "<pre>\n",
       "-----\n",
       "matplotlib          3.5.1\n",
       "numpy               1.21.5\n",
       "pandas              1.4.2\n",
       "session_info        1.0.0\n",
       "sklearn             1.2.2\n",
       "-----\n",
       "</pre>\n",
       "<details>\n",
       "<summary>Click to view modules imported as dependencies</summary>\n",
       "<pre>\n",
       "PIL                         9.0.1\n",
       "asttokens                   NA\n",
       "backcall                    0.2.0\n",
       "bottleneck                  1.3.4\n",
       "cffi                        1.15.0\n",
       "colorama                    0.4.4\n",
       "cycler                      0.10.0\n",
       "cython_runtime              NA\n",
       "dateutil                    2.8.2\n",
       "debugpy                     1.5.1\n",
       "decorator                   5.1.1\n",
       "defusedxml                  0.7.1\n",
       "executing                   0.8.3\n",
       "google                      NA\n",
       "importlib_metadata          NA\n",
       "ipykernel                   6.9.1\n",
       "ipython_genutils            0.2.0\n",
       "jedi                        0.18.1\n",
       "joblib                      1.2.0\n",
       "jupyter_server              1.13.5\n",
       "kiwisolver                  1.3.2\n",
       "matplotlib_inline           NA\n",
       "mkl                         2.4.0\n",
       "mpl_toolkits                NA\n",
       "nt                          NA\n",
       "ntsecuritycon               NA\n",
       "numexpr                     2.8.1\n",
       "packaging                   21.3\n",
       "parso                       0.8.3\n",
       "pickleshare                 0.7.5\n",
       "pkg_resources               NA\n",
       "prompt_toolkit              3.0.20\n",
       "psutil                      5.8.0\n",
       "pure_eval                   0.2.2\n",
       "pydev_ipython               NA\n",
       "pydevconsole                NA\n",
       "pydevd                      2.6.0\n",
       "pydevd_concurrency_analyser NA\n",
       "pydevd_file_utils           NA\n",
       "pydevd_plugins              NA\n",
       "pydevd_tracing              NA\n",
       "pygments                    2.11.2\n",
       "pyparsing                   3.0.4\n",
       "pythoncom                   NA\n",
       "pytz                        2021.3\n",
       "pywintypes                  NA\n",
       "ruamel                      NA\n",
       "scipy                       1.10.1\n",
       "setuptools                  61.2.0\n",
       "six                         1.16.0\n",
       "sphinxcontrib               NA\n",
       "stack_data                  0.2.0\n",
       "threadpoolctl               2.2.0\n",
       "tornado                     6.1\n",
       "traitlets                   5.1.1\n",
       "typing_extensions           NA\n",
       "wcwidth                     0.2.5\n",
       "win32api                    NA\n",
       "win32com                    NA\n",
       "win32security               NA\n",
       "zipp                        NA\n",
       "zmq                         22.3.0\n",
       "zope                        NA\n",
       "</pre>\n",
       "</details> <!-- seems like this ends pre, so might as well be explicit -->\n",
       "<pre>\n",
       "-----\n",
       "IPython             8.2.0\n",
       "jupyter_client      6.1.12\n",
       "jupyter_core        4.9.2\n",
       "jupyterlab          3.3.2\n",
       "notebook            6.4.8\n",
       "-----\n",
       "Python 3.9.12 (main, Apr  4 2022, 05:22:27) [MSC v.1916 64 bit (AMD64)]\n",
       "Windows-10-10.0.19045-SP0\n",
       "-----\n",
       "Session information updated at 2023-05-01 17:47\n",
       "</pre>\n",
       "</details>"
      ],
      "text/plain": [
       "<IPython.core.display.HTML object>"
      ]
     },
     "execution_count": 34,
     "metadata": {},
     "output_type": "execute_result"
    }
   ],
   "source": [
    "import session_info\n",
    "session_info.show()"
   ]
  }
 ],
 "metadata": {
  "kernelspec": {
   "display_name": "Python 3 (ipykernel)",
   "language": "python",
   "name": "python3"
  },
  "language_info": {
   "codemirror_mode": {
    "name": "ipython",
    "version": 3
   },
   "file_extension": ".py",
   "mimetype": "text/x-python",
   "name": "python",
   "nbconvert_exporter": "python",
   "pygments_lexer": "ipython3",
   "version": "3.10.4"
  }
 },
 "nbformat": 4,
 "nbformat_minor": 5
}
