{
 "cells": [
  {
   "cell_type": "raw",
   "id": "bd85b548-1f2d-447b-bd2f-5baade3cc08f",
   "metadata": {},
   "source": [
    "---\n",
    "title: \"Task 2\"\n",
    "subtitle: \"Data Pre-processing\"\n",
    "author: \"Tanzeela Javid Kaloo\"\n",
    "date: \"March 21, 2023\"\n",
    "---"
   ]
  },
  {
   "cell_type": "markdown",
   "id": "99278f7d-96f7-4518-8e3a-94623c9d7d09",
   "metadata": {},
   "source": [
    "**Task 2:** Find a data set which is suitable for regression analysis and consists of a mix of numerical, nominal, and ordinal variables. Look for the cases, where at least one of the variable has missing values. If not, you can randomly delete a very small portion of one of the variables.\n",
    "Design a machine learning pipeline where you scale the numerical features and encode the nominal and ordinal features along with imputing the missing values.\n"
   ]
  },
  {
   "cell_type": "markdown",
   "id": "66f0f059-7831-4db6-8fd1-53ac25ce26d2",
   "metadata": {},
   "source": [
    "## Used Car Data Set Description\n",
    "\n",
    "This data set contains information about used cars for sale in India. The data set includes the following features:\n",
    "\n",
    "- `Name` : The brand and model of the car.\n",
    "- `Location` : The location in which the car is being sold or is available for purchase.\n",
    "- `Year`: The year or edition of the model.\n",
    "- `Kilometers_Driven` : The total kilometers driven in the car by the previous owner(s) in KM.\n",
    "- `Fuel_Type` : The type of fuel used by the car.\n",
    "- `Transmission` : The type of transmission used by the car.\n",
    "- `Owner_Type` : Whether the ownership is Firsthand, Second hand or other.\n",
    "- `Mileage` : The standard mileage offered by the car company in kmpl or km/kg.\n",
    "- `Engine` : The displacement volume of the engine in cc.\n",
    "- `Power` : The maximum power of the engine in bhp.\n",
    "- `Seats` : The number of seats in the car.\n",
    "- `New_Price` : Price of new model.\n",
    "- `Price` : The price of the used car in INR Lakhs.$$Lakh = \\frac{million}{10}$$\n",
    "\n",
    "\n",
    "This data set can be used to analyze the pricing trends of used cars in India based on various factors such as location, year, kilometers driven, and other features. Additionally, this data set can be used to build predictive models to estimate the price of used cars based on their characteristics.\n"
   ]
  },
  {
   "cell_type": "markdown",
   "id": "60ef801e-accc-4804-8c8a-6c5490c3bf16",
   "metadata": {},
   "source": [
    "Import **set_config** and specify the `transform_output` parameter as `default` to set the behavior of the transform method for transformers in the sklearn pipeline."
   ]
  },
  {
   "cell_type": "code",
   "execution_count": 1,
   "id": "9d4fa194-c739-4e4e-97ca-e1ab87740138",
   "metadata": {},
   "outputs": [
    {
     "data": {
      "text/html": [
       "<div>\n",
       "<style scoped>\n",
       "    .dataframe tbody tr th:only-of-type {\n",
       "        vertical-align: middle;\n",
       "    }\n",
       "\n",
       "    .dataframe tbody tr th {\n",
       "        vertical-align: top;\n",
       "    }\n",
       "\n",
       "    .dataframe thead th {\n",
       "        text-align: right;\n",
       "    }\n",
       "</style>\n",
       "<table border=\"1\" class=\"dataframe\">\n",
       "  <thead>\n",
       "    <tr style=\"text-align: right;\">\n",
       "      <th></th>\n",
       "      <th>Name</th>\n",
       "      <th>Location</th>\n",
       "      <th>Year</th>\n",
       "      <th>Kilometers_Driven</th>\n",
       "      <th>Fuel_Type</th>\n",
       "      <th>Transmission</th>\n",
       "      <th>Owner_Type</th>\n",
       "      <th>Mileage</th>\n",
       "      <th>Engine</th>\n",
       "      <th>Power</th>\n",
       "      <th>Seats</th>\n",
       "      <th>New_Price</th>\n",
       "      <th>Price</th>\n",
       "    </tr>\n",
       "  </thead>\n",
       "  <tbody>\n",
       "    <tr>\n",
       "      <th>0</th>\n",
       "      <td>Maruti Wagon R LXI CNG</td>\n",
       "      <td>Mumbai</td>\n",
       "      <td>2010</td>\n",
       "      <td>72000</td>\n",
       "      <td>CNG</td>\n",
       "      <td>Manual</td>\n",
       "      <td>First</td>\n",
       "      <td>26.6 km/kg</td>\n",
       "      <td>998 CC</td>\n",
       "      <td>58.16 bhp</td>\n",
       "      <td>5.0</td>\n",
       "      <td>NaN</td>\n",
       "      <td>1.75</td>\n",
       "    </tr>\n",
       "    <tr>\n",
       "      <th>1</th>\n",
       "      <td>Hyundai Creta 1.6 CRDi SX Option</td>\n",
       "      <td>Pune</td>\n",
       "      <td>2015</td>\n",
       "      <td>41000</td>\n",
       "      <td>Diesel</td>\n",
       "      <td>Manual</td>\n",
       "      <td>First</td>\n",
       "      <td>19.67 kmpl</td>\n",
       "      <td>1582 CC</td>\n",
       "      <td>126.2 bhp</td>\n",
       "      <td>5.0</td>\n",
       "      <td>NaN</td>\n",
       "      <td>12.50</td>\n",
       "    </tr>\n",
       "    <tr>\n",
       "      <th>2</th>\n",
       "      <td>Honda Jazz V</td>\n",
       "      <td>Chennai</td>\n",
       "      <td>2011</td>\n",
       "      <td>46000</td>\n",
       "      <td>Petrol</td>\n",
       "      <td>Manual</td>\n",
       "      <td>First</td>\n",
       "      <td>18.2 kmpl</td>\n",
       "      <td>1199 CC</td>\n",
       "      <td>88.7 bhp</td>\n",
       "      <td>5.0</td>\n",
       "      <td>8.61 Lakh</td>\n",
       "      <td>4.50</td>\n",
       "    </tr>\n",
       "    <tr>\n",
       "      <th>3</th>\n",
       "      <td>Maruti Ertiga VDI</td>\n",
       "      <td>Chennai</td>\n",
       "      <td>2012</td>\n",
       "      <td>87000</td>\n",
       "      <td>Diesel</td>\n",
       "      <td>Manual</td>\n",
       "      <td>First</td>\n",
       "      <td>20.77 kmpl</td>\n",
       "      <td>1248 CC</td>\n",
       "      <td>88.76 bhp</td>\n",
       "      <td>7.0</td>\n",
       "      <td>NaN</td>\n",
       "      <td>6.00</td>\n",
       "    </tr>\n",
       "    <tr>\n",
       "      <th>4</th>\n",
       "      <td>Audi A4 New 2.0 TDI Multitronic</td>\n",
       "      <td>Coimbatore</td>\n",
       "      <td>2013</td>\n",
       "      <td>40670</td>\n",
       "      <td>Diesel</td>\n",
       "      <td>Automatic</td>\n",
       "      <td>Second</td>\n",
       "      <td>15.2 kmpl</td>\n",
       "      <td>1968 CC</td>\n",
       "      <td>140.8 bhp</td>\n",
       "      <td>5.0</td>\n",
       "      <td>NaN</td>\n",
       "      <td>17.74</td>\n",
       "    </tr>\n",
       "  </tbody>\n",
       "</table>\n",
       "</div>"
      ],
      "text/plain": [
       "                               Name    Location  Year  Kilometers_Driven   \n",
       "0            Maruti Wagon R LXI CNG      Mumbai  2010              72000  \\\n",
       "1  Hyundai Creta 1.6 CRDi SX Option        Pune  2015              41000   \n",
       "2                      Honda Jazz V     Chennai  2011              46000   \n",
       "3                 Maruti Ertiga VDI     Chennai  2012              87000   \n",
       "4   Audi A4 New 2.0 TDI Multitronic  Coimbatore  2013              40670   \n",
       "\n",
       "  Fuel_Type Transmission Owner_Type     Mileage   Engine      Power  Seats   \n",
       "0       CNG       Manual      First  26.6 km/kg   998 CC  58.16 bhp    5.0  \\\n",
       "1    Diesel       Manual      First  19.67 kmpl  1582 CC  126.2 bhp    5.0   \n",
       "2    Petrol       Manual      First   18.2 kmpl  1199 CC   88.7 bhp    5.0   \n",
       "3    Diesel       Manual      First  20.77 kmpl  1248 CC  88.76 bhp    7.0   \n",
       "4    Diesel    Automatic     Second   15.2 kmpl  1968 CC  140.8 bhp    5.0   \n",
       "\n",
       "   New_Price  Price  \n",
       "0        NaN   1.75  \n",
       "1        NaN  12.50  \n",
       "2  8.61 Lakh   4.50  \n",
       "3        NaN   6.00  \n",
       "4        NaN  17.74  "
      ]
     },
     "execution_count": 1,
     "metadata": {},
     "output_type": "execute_result"
    }
   ],
   "source": [
    "from sklearn import set_config\n",
    "set_config(transform_output=\"default\")\n",
    "\n",
    "import numpy as np\n",
    "import pandas as pd\n",
    "car_df = pd.read_csv(\"datasets/car.csv\")\n",
    "car_df.head()"
   ]
  },
  {
   "cell_type": "markdown",
   "id": "303dcdfe-37fb-4e20-95a3-0467ff488170",
   "metadata": {},
   "source": [
    "The **drop()** method is used to remove the `Name` column from the DataFrame `car_df`. The `axis` parameter is set to `1` to indicate that the `column` is to be dropped, and the `columns` parameter specifies the `name of the column` to be removed. "
   ]
  },
  {
   "cell_type": "code",
   "execution_count": 2,
   "id": "d70ee32a-ec5a-4a06-b389-349b2be9a8b6",
   "metadata": {},
   "outputs": [
    {
     "name": "stdout",
     "output_type": "stream",
     "text": [
      "<class 'pandas.core.frame.DataFrame'>\n",
      "RangeIndex: 6019 entries, 0 to 6018\n",
      "Data columns (total 12 columns):\n",
      " #   Column             Non-Null Count  Dtype  \n",
      "---  ------             --------------  -----  \n",
      " 0   Location           6019 non-null   object \n",
      " 1   Year               6019 non-null   int64  \n",
      " 2   Kilometers_Driven  6019 non-null   int64  \n",
      " 3   Fuel_Type          6019 non-null   object \n",
      " 4   Transmission       6019 non-null   object \n",
      " 5   Owner_Type         6019 non-null   object \n",
      " 6   Mileage            6017 non-null   object \n",
      " 7   Engine             5983 non-null   object \n",
      " 8   Power              5983 non-null   object \n",
      " 9   Seats              5977 non-null   float64\n",
      " 10  New_Price          824 non-null    object \n",
      " 11  Price              6019 non-null   float64\n",
      "dtypes: float64(2), int64(2), object(8)\n",
      "memory usage: 564.4+ KB\n"
     ]
    }
   ],
   "source": [
    "car_df = car_df.drop(columns=[\"Name\"], axis=1)\n",
    "car_df.info()"
   ]
  },
  {
   "cell_type": "markdown",
   "id": "79dbf023-0df9-42f5-baef-19205ec03634",
   "metadata": {},
   "source": [
    "There are `12 columns` in total, with `6019 non-null values` in most columns, except for **Mileage**, **Engine**, **Power**, **Seats**, and **New_Price** columns which have missing values. The data types of columns vary, with object data type being used for columns containing strings or mixed data types, int64 for integer values, and float64 for floating-point values.\n",
    "\n",
    "The `Price` column is of particular importance as it contains the `target variable` for the analysis. **The goal is to predict the price of the used cars based on the other available features.**\n",
    "<br>\n",
    "\n",
    "Additionally, the units of measurement for features such as `kmpl`, `km/kg`, `CC`, `bhp`, and `Lakh` are not standardized across car manufacturers or models, making it difficult to compare them directly. Removing these units of measurement from the features simplifies the data and makes it easier to work with. We can still use the numerical values associated with these features for analysis and modeling purposes, even without their respective units of measurement. The units of measurement can be added back later if needed or if they provide additional insights. `Overall, removing these units of measurement from the features can help to simplify the data, reduce complexity, and improve the performance of machine learning algorithms, making it easier to analyze and model the data.`"
   ]
  },
  {
   "cell_type": "code",
   "execution_count": 3,
   "id": "b05eb327-dd6b-4f57-99bf-e3a19c36c289",
   "metadata": {},
   "outputs": [],
   "source": [
    "# Remove bhp from Power Data Feature.\n",
    "df_col=pd.DataFrame()\n",
    "df_col['Power'] = car_df['Power']\n",
    "\n",
    "pattern = r'([\\d\\.]+) bhp'\n",
    "df_col['numeric_value'] = df_col['Power'].str.extract(pattern)\n",
    "df_col['numeric_value'] = df_col['numeric_value'].astype(float)\n",
    "\n",
    "# Adding new updated values back to the Datasets\n",
    "car_df = car_df.drop(columns=[\"Power\"], axis=1)\n",
    "car_df['Power'] = df_col['numeric_value']"
   ]
  },
  {
   "cell_type": "code",
   "execution_count": 4,
   "id": "191f2573-b2de-4a50-9287-e6991899fdad",
   "metadata": {},
   "outputs": [],
   "source": [
    "# Remove CC from Engine Data Feature.\n",
    "df_col=pd.DataFrame()\n",
    "df_col['Engine'] = car_df['Engine']\n",
    "pattern = r'([\\d\\.]+) CC'\n",
    "df_col['numeric_value'] = df_col['Engine'].str.extract(pattern)\n",
    "df_col['numeric_value'] = df_col['numeric_value'].astype(float)\n",
    "\n",
    "# Adding new updated values back to the Datasets\n",
    "car_df = car_df.drop(columns=[\"Engine\"], axis=1)\n",
    "car_df['Engine'] = df_col['numeric_value']"
   ]
  },
  {
   "cell_type": "code",
   "execution_count": 5,
   "id": "1b8cfadb-0192-4b4b-8a30-54b3b0422fd1",
   "metadata": {},
   "outputs": [],
   "source": [
    "# Remove km/kg and kmpl from Mileage Data Feature.\n",
    "df_col=pd.DataFrame()\n",
    "df_col['Mileage'] = car_df['Mileage']\n",
    "pattern = r'([\\d\\.]+) km'\n",
    "df_col['numeric_value'] = df_col['Mileage'].str.extract(pattern)\n",
    "df_col['numeric_value'] = df_col['numeric_value'].astype(float)\n",
    "\n",
    "# Adding new updated values back to the Datasets\n",
    "car_df = car_df.drop(columns=[\"Mileage\"], axis=1)\n",
    "car_df['Mileage'] = df_col['numeric_value']"
   ]
  },
  {
   "cell_type": "code",
   "execution_count": 6,
   "id": "2a0725dd-a3d1-43e9-9b4e-7e319f5f8aa4",
   "metadata": {},
   "outputs": [],
   "source": [
    "# Remove Lakh from New_Price Data Feature.\n",
    "df_col=pd.DataFrame()\n",
    "df_col['New_Price'] = car_df['New_Price']\n",
    "pattern = r'([\\d\\.]+) Lakh'\n",
    "df_col['numeric_value'] = df_col['New_Price'].str.extract(pattern)\n",
    "df_col['numeric_value'] = df_col['numeric_value'].astype(float)\n",
    "\n",
    "# Adding new updated values back to the Datasets\n",
    "car_df = car_df.drop(columns=[\"New_Price\"], axis=1)\n",
    "car_df['New_Price'] = df_col['numeric_value']"
   ]
  },
  {
   "cell_type": "code",
   "execution_count": 7,
   "id": "da5831ee-3971-427f-b53c-4c7cc49d5dd9",
   "metadata": {},
   "outputs": [
    {
     "data": {
      "text/html": [
       "<div>\n",
       "<style scoped>\n",
       "    .dataframe tbody tr th:only-of-type {\n",
       "        vertical-align: middle;\n",
       "    }\n",
       "\n",
       "    .dataframe tbody tr th {\n",
       "        vertical-align: top;\n",
       "    }\n",
       "\n",
       "    .dataframe thead th {\n",
       "        text-align: right;\n",
       "    }\n",
       "</style>\n",
       "<table border=\"1\" class=\"dataframe\">\n",
       "  <thead>\n",
       "    <tr style=\"text-align: right;\">\n",
       "      <th></th>\n",
       "      <th>Location</th>\n",
       "      <th>Year</th>\n",
       "      <th>Kilometers_Driven</th>\n",
       "      <th>Fuel_Type</th>\n",
       "      <th>Transmission</th>\n",
       "      <th>Owner_Type</th>\n",
       "      <th>Seats</th>\n",
       "      <th>Price</th>\n",
       "      <th>Power</th>\n",
       "      <th>Engine</th>\n",
       "      <th>Mileage</th>\n",
       "      <th>New_Price</th>\n",
       "    </tr>\n",
       "  </thead>\n",
       "  <tbody>\n",
       "    <tr>\n",
       "      <th>0</th>\n",
       "      <td>Mumbai</td>\n",
       "      <td>2010</td>\n",
       "      <td>72000</td>\n",
       "      <td>CNG</td>\n",
       "      <td>Manual</td>\n",
       "      <td>First</td>\n",
       "      <td>5.0</td>\n",
       "      <td>1.75</td>\n",
       "      <td>58.16</td>\n",
       "      <td>998.0</td>\n",
       "      <td>26.60</td>\n",
       "      <td>NaN</td>\n",
       "    </tr>\n",
       "    <tr>\n",
       "      <th>1</th>\n",
       "      <td>Pune</td>\n",
       "      <td>2015</td>\n",
       "      <td>41000</td>\n",
       "      <td>Diesel</td>\n",
       "      <td>Manual</td>\n",
       "      <td>First</td>\n",
       "      <td>5.0</td>\n",
       "      <td>12.50</td>\n",
       "      <td>126.20</td>\n",
       "      <td>1582.0</td>\n",
       "      <td>19.67</td>\n",
       "      <td>NaN</td>\n",
       "    </tr>\n",
       "    <tr>\n",
       "      <th>2</th>\n",
       "      <td>Chennai</td>\n",
       "      <td>2011</td>\n",
       "      <td>46000</td>\n",
       "      <td>Petrol</td>\n",
       "      <td>Manual</td>\n",
       "      <td>First</td>\n",
       "      <td>5.0</td>\n",
       "      <td>4.50</td>\n",
       "      <td>88.70</td>\n",
       "      <td>1199.0</td>\n",
       "      <td>18.20</td>\n",
       "      <td>8.61</td>\n",
       "    </tr>\n",
       "    <tr>\n",
       "      <th>3</th>\n",
       "      <td>Chennai</td>\n",
       "      <td>2012</td>\n",
       "      <td>87000</td>\n",
       "      <td>Diesel</td>\n",
       "      <td>Manual</td>\n",
       "      <td>First</td>\n",
       "      <td>7.0</td>\n",
       "      <td>6.00</td>\n",
       "      <td>88.76</td>\n",
       "      <td>1248.0</td>\n",
       "      <td>20.77</td>\n",
       "      <td>NaN</td>\n",
       "    </tr>\n",
       "    <tr>\n",
       "      <th>4</th>\n",
       "      <td>Coimbatore</td>\n",
       "      <td>2013</td>\n",
       "      <td>40670</td>\n",
       "      <td>Diesel</td>\n",
       "      <td>Automatic</td>\n",
       "      <td>Second</td>\n",
       "      <td>5.0</td>\n",
       "      <td>17.74</td>\n",
       "      <td>140.80</td>\n",
       "      <td>1968.0</td>\n",
       "      <td>15.20</td>\n",
       "      <td>NaN</td>\n",
       "    </tr>\n",
       "  </tbody>\n",
       "</table>\n",
       "</div>"
      ],
      "text/plain": [
       "     Location  Year  Kilometers_Driven Fuel_Type Transmission Owner_Type   \n",
       "0      Mumbai  2010              72000       CNG       Manual      First  \\\n",
       "1        Pune  2015              41000    Diesel       Manual      First   \n",
       "2     Chennai  2011              46000    Petrol       Manual      First   \n",
       "3     Chennai  2012              87000    Diesel       Manual      First   \n",
       "4  Coimbatore  2013              40670    Diesel    Automatic     Second   \n",
       "\n",
       "   Seats  Price   Power  Engine  Mileage  New_Price  \n",
       "0    5.0   1.75   58.16   998.0    26.60        NaN  \n",
       "1    5.0  12.50  126.20  1582.0    19.67        NaN  \n",
       "2    5.0   4.50   88.70  1199.0    18.20       8.61  \n",
       "3    7.0   6.00   88.76  1248.0    20.77        NaN  \n",
       "4    5.0  17.74  140.80  1968.0    15.20        NaN  "
      ]
     },
     "execution_count": 7,
     "metadata": {},
     "output_type": "execute_result"
    }
   ],
   "source": [
    "car_df.head()"
   ]
  },
  {
   "cell_type": "markdown",
   "id": "b623f4f6-0627-4bf5-a784-a9e9be8598de",
   "metadata": {},
   "source": [
    "**Splits** the `car_df` DataFrame into training and testing sets, with **70% of the data used for training** and **30% used for testing**. The `X_train` and `X_test` DataFrames **contain all features** except the target variable, Price, while `y_train` and `y_test` **contain only the Price column.** The random_state parameter sets the seed value for the random number generator used in the split, ensuring that the same split is obtained each time the code is run with the same value."
   ]
  },
  {
   "cell_type": "code",
   "execution_count": 8,
   "id": "adb53039-b7af-4867-82be-b117c49f4803",
   "metadata": {},
   "outputs": [],
   "source": [
    "import pandas as pd\n",
    "from sklearn.model_selection import train_test_split\n",
    "\n",
    "#Split 70:30\n",
    "X_train, X_test, y_train, y_test = train_test_split(car_df.drop(columns=['Price'], axis=1), car_df[['Price']], test_size=0.30, random_state=1250)"
   ]
  },
  {
   "cell_type": "code",
   "execution_count": 9,
   "id": "dc1bc57e-efe5-43fa-ab72-bf54e7c5b214",
   "metadata": {},
   "outputs": [
    {
     "name": "stdout",
     "output_type": "stream",
     "text": [
      "(4213, 11)\n",
      "(1806, 11)\n",
      "(4213, 1)\n",
      "(1806, 1)\n"
     ]
    }
   ],
   "source": [
    "print(X_train.shape)\n",
    "print(X_test.shape)\n",
    "print(y_train.shape)\n",
    "print(y_test.shape)"
   ]
  },
  {
   "cell_type": "code",
   "execution_count": 10,
   "id": "7d0577d4-c266-4621-bd1a-84925f7f89f5",
   "metadata": {},
   "outputs": [
    {
     "data": {
      "text/html": [
       "<div>\n",
       "<style scoped>\n",
       "    .dataframe tbody tr th:only-of-type {\n",
       "        vertical-align: middle;\n",
       "    }\n",
       "\n",
       "    .dataframe tbody tr th {\n",
       "        vertical-align: top;\n",
       "    }\n",
       "\n",
       "    .dataframe thead th {\n",
       "        text-align: right;\n",
       "    }\n",
       "</style>\n",
       "<table border=\"1\" class=\"dataframe\">\n",
       "  <thead>\n",
       "    <tr style=\"text-align: right;\">\n",
       "      <th></th>\n",
       "      <th>Location</th>\n",
       "      <th>Year</th>\n",
       "      <th>Kilometers_Driven</th>\n",
       "      <th>Fuel_Type</th>\n",
       "      <th>Transmission</th>\n",
       "      <th>Owner_Type</th>\n",
       "      <th>Seats</th>\n",
       "      <th>Power</th>\n",
       "      <th>Engine</th>\n",
       "      <th>Mileage</th>\n",
       "      <th>New_Price</th>\n",
       "    </tr>\n",
       "  </thead>\n",
       "  <tbody>\n",
       "    <tr>\n",
       "      <th>5229</th>\n",
       "      <td>Bangalore</td>\n",
       "      <td>2012</td>\n",
       "      <td>73000</td>\n",
       "      <td>Diesel</td>\n",
       "      <td>Automatic</td>\n",
       "      <td>First</td>\n",
       "      <td>5.0</td>\n",
       "      <td>190.0</td>\n",
       "      <td>1995.0</td>\n",
       "      <td>22.69</td>\n",
       "      <td>48.79</td>\n",
       "    </tr>\n",
       "    <tr>\n",
       "      <th>1267</th>\n",
       "      <td>Chennai</td>\n",
       "      <td>2011</td>\n",
       "      <td>124000</td>\n",
       "      <td>Diesel</td>\n",
       "      <td>Manual</td>\n",
       "      <td>First</td>\n",
       "      <td>5.0</td>\n",
       "      <td>69.0</td>\n",
       "      <td>1396.0</td>\n",
       "      <td>23.03</td>\n",
       "      <td>NaN</td>\n",
       "    </tr>\n",
       "    <tr>\n",
       "      <th>2185</th>\n",
       "      <td>Ahmedabad</td>\n",
       "      <td>2017</td>\n",
       "      <td>80000</td>\n",
       "      <td>Diesel</td>\n",
       "      <td>Manual</td>\n",
       "      <td>First</td>\n",
       "      <td>5.0</td>\n",
       "      <td>88.5</td>\n",
       "      <td>1248.0</td>\n",
       "      <td>24.30</td>\n",
       "      <td>10.91</td>\n",
       "    </tr>\n",
       "    <tr>\n",
       "      <th>489</th>\n",
       "      <td>Pune</td>\n",
       "      <td>2017</td>\n",
       "      <td>129000</td>\n",
       "      <td>Diesel</td>\n",
       "      <td>Automatic</td>\n",
       "      <td>First</td>\n",
       "      <td>7.0</td>\n",
       "      <td>258.0</td>\n",
       "      <td>2987.0</td>\n",
       "      <td>11.00</td>\n",
       "      <td>NaN</td>\n",
       "    </tr>\n",
       "    <tr>\n",
       "      <th>1762</th>\n",
       "      <td>Coimbatore</td>\n",
       "      <td>2011</td>\n",
       "      <td>75871</td>\n",
       "      <td>Petrol</td>\n",
       "      <td>Automatic</td>\n",
       "      <td>First</td>\n",
       "      <td>5.0</td>\n",
       "      <td>254.0</td>\n",
       "      <td>2996.0</td>\n",
       "      <td>9.43</td>\n",
       "      <td>NaN</td>\n",
       "    </tr>\n",
       "  </tbody>\n",
       "</table>\n",
       "</div>"
      ],
      "text/plain": [
       "        Location  Year  Kilometers_Driven Fuel_Type Transmission Owner_Type   \n",
       "5229   Bangalore  2012              73000    Diesel    Automatic      First  \\\n",
       "1267     Chennai  2011             124000    Diesel       Manual      First   \n",
       "2185   Ahmedabad  2017              80000    Diesel       Manual      First   \n",
       "489         Pune  2017             129000    Diesel    Automatic      First   \n",
       "1762  Coimbatore  2011              75871    Petrol    Automatic      First   \n",
       "\n",
       "      Seats  Power  Engine  Mileage  New_Price  \n",
       "5229    5.0  190.0  1995.0    22.69      48.79  \n",
       "1267    5.0   69.0  1396.0    23.03        NaN  \n",
       "2185    5.0   88.5  1248.0    24.30      10.91  \n",
       "489     7.0  258.0  2987.0    11.00        NaN  \n",
       "1762    5.0  254.0  2996.0     9.43        NaN  "
      ]
     },
     "execution_count": 10,
     "metadata": {},
     "output_type": "execute_result"
    }
   ],
   "source": [
    "X_train.head()"
   ]
  },
  {
   "cell_type": "markdown",
   "id": "f5a5acf5-25e0-4981-b0b2-68dcdf2a35a9",
   "metadata": {},
   "source": [
    "**To check the distribution of values in categorical features such as Fuel_Type, Transmission, and Owner_Type**, use the `value_counts()` method. This will show the frequency of each unique value in the respective columns. This information can be used to determine which encoding method is best suited for each categorical feature. For example, if a categorical feature has two unique values, `one-hot encoding` may be appropriate. On the other hand, if a categorical feature has multiple unique values, `label encoding` or `ordinal encoding` may be more appropriate.\n",
    "<br>\n",
    "\n",
    "**Label encoding** can be useful for certain machine learning algorithms that expect numeric input, but it has some limitations. For instance, some algorithms may assume that the numerical values have some order or hierarchy, which may not be the case for categorical data. In addition, label encoding may result in biased representation of categories, especially when the categories have unequal frequencies."
   ]
  },
  {
   "cell_type": "code",
   "execution_count": 11,
   "id": "d998ddd2-7505-4efb-ae79-9f729f42f0ed",
   "metadata": {},
   "outputs": [
    {
     "data": {
      "text/plain": [
       "Location\n",
       "Mumbai        561\n",
       "Hyderabad     502\n",
       "Coimbatore    458\n",
       "Kochi         446\n",
       "Pune          437\n",
       "Delhi         390\n",
       "Kolkata       376\n",
       "Chennai       351\n",
       "Jaipur        278\n",
       "Bangalore     255\n",
       "Ahmedabad     159\n",
       "Name: count, dtype: int64"
      ]
     },
     "execution_count": 11,
     "metadata": {},
     "output_type": "execute_result"
    }
   ],
   "source": [
    "X_train.Location.value_counts()"
   ]
  },
  {
   "cell_type": "code",
   "execution_count": 12,
   "id": "57ef34e6-c010-4288-9d4b-c960e6aa654e",
   "metadata": {},
   "outputs": [
    {
     "data": {
      "text/plain": [
       "Year\n",
       "2014    571\n",
       "2015    536\n",
       "2016    529\n",
       "2013    441\n",
       "2012    398\n",
       "2017    397\n",
       "2011    336\n",
       "2010    242\n",
       "2018    208\n",
       "2009    133\n",
       "2008    117\n",
       "2007     87\n",
       "2019     69\n",
       "2006     56\n",
       "2005     40\n",
       "2004     22\n",
       "2003      8\n",
       "2002      8\n",
       "2001      6\n",
       "1998      4\n",
       "2000      3\n",
       "1999      2\n",
       "Name: count, dtype: int64"
      ]
     },
     "execution_count": 12,
     "metadata": {},
     "output_type": "execute_result"
    }
   ],
   "source": [
    "X_train.Year.value_counts()"
   ]
  },
  {
   "cell_type": "code",
   "execution_count": 13,
   "id": "456c097b-54ba-4c02-91cc-2717f5f52f0f",
   "metadata": {},
   "outputs": [
    {
     "data": {
      "text/plain": [
       "Fuel_Type\n",
       "Diesel      2245\n",
       "Petrol      1921\n",
       "CNG           39\n",
       "LPG            7\n",
       "Electric       1\n",
       "Name: count, dtype: int64"
      ]
     },
     "execution_count": 13,
     "metadata": {},
     "output_type": "execute_result"
    }
   ],
   "source": [
    "X_train.Fuel_Type.value_counts()"
   ]
  },
  {
   "cell_type": "code",
   "execution_count": 14,
   "id": "3b76947b-5ec7-4bee-9e1f-4f49ef4b4e9e",
   "metadata": {},
   "outputs": [
    {
     "data": {
      "text/plain": [
       "Transmission\n",
       "Manual       3004\n",
       "Automatic    1209\n",
       "Name: count, dtype: int64"
      ]
     },
     "execution_count": 14,
     "metadata": {},
     "output_type": "execute_result"
    }
   ],
   "source": [
    "X_train.Transmission.value_counts()"
   ]
  },
  {
   "cell_type": "code",
   "execution_count": 15,
   "id": "e52c138e-45f6-40b3-993a-24e0d84d8644",
   "metadata": {
    "tags": []
   },
   "outputs": [
    {
     "data": {
      "text/plain": [
       "Owner_Type\n",
       "First             3457\n",
       "Second             673\n",
       "Third               77\n",
       "Fourth & Above       6\n",
       "Name: count, dtype: int64"
      ]
     },
     "execution_count": 15,
     "metadata": {},
     "output_type": "execute_result"
    }
   ],
   "source": [
    "X_train.Owner_Type.value_counts()"
   ]
  },
  {
   "cell_type": "code",
   "execution_count": 16,
   "id": "cf0d3357-2079-426b-a59f-2ac8dff7bf04",
   "metadata": {
    "tags": []
   },
   "outputs": [
    {
     "name": "stdout",
     "output_type": "stream",
     "text": [
      "<class 'pandas.core.frame.DataFrame'>\n",
      "Index: 4213 entries, 5229 to 5173\n",
      "Data columns (total 11 columns):\n",
      " #   Column             Non-Null Count  Dtype  \n",
      "---  ------             --------------  -----  \n",
      " 0   Location           4213 non-null   object \n",
      " 1   Year               4213 non-null   int64  \n",
      " 2   Kilometers_Driven  4213 non-null   int64  \n",
      " 3   Fuel_Type          4213 non-null   object \n",
      " 4   Transmission       4213 non-null   object \n",
      " 5   Owner_Type         4213 non-null   object \n",
      " 6   Seats              4185 non-null   float64\n",
      " 7   Power              4105 non-null   float64\n",
      " 8   Engine             4189 non-null   float64\n",
      " 9   Mileage            4212 non-null   float64\n",
      " 10  New_Price          570 non-null    float64\n",
      "dtypes: float64(5), int64(2), object(4)\n",
      "memory usage: 395.0+ KB\n"
     ]
    }
   ],
   "source": [
    "X_train.info()"
   ]
  },
  {
   "cell_type": "markdown",
   "id": "c1386bd0-d7ab-40f1-b5c6-882a7148d167",
   "metadata": {
    "tags": []
   },
   "source": [
    "## Pipeline Design\n",
    "\n",
    "**In machine learning, preprocessing the data is a crucial step before building a model**. The pipeline design involves several steps to ensure that the data is properly cleaned, standardized, and encoded.\n",
    "\n",
    "- The `numerical data` is first preprocessed by `imputing missing values with the median` and then `standardizing` it. The `median` is a robust statistic that is preferred over other imputation methods because it is less sensitive to outliers. The numerical columns that are standardized include Kilometers_Driven, Seats, Power, Engine, Mileage, and New_Price.\n",
    "\n",
    "- The `categorical features` are divided into `ordinal` and `nominal` features. \n",
    "\n",
    "- For `ordinal features`, the missing values are `imputed with the most frequent` value and then `encoded using the OrdinalEncoder`. The OrdinalEncoder assigns an integer value to each unique category based on their order. \n",
    "\n",
    "- For `nominal features`, the missing values are `imputed with the most frequent` value and then `encoded using the OneHotEncoder`. The OneHotEncoder creates a binary vector for each unique category.\n",
    "\n",
    "- These pipelines are combined using `ColumnTransformer` to preprocess the data and prepare it for machine learning models. \n",
    "\n",
    "- After preprocessing the data using ColumnTransformer, we can `combine the preprocessed features with an estimator` to create a complete machine learning pipeline using the make_pipeline function. In this case, we will use LinearRegression as our estimator, which is a popular and effective algorithm for regression problems. The pipeline allows us to streamline the entire process of data preprocessing and model building, reducing the potential for human error and saving time in the development and deployment of machine learning applications. \n",
    "- Once the pipeline is built, we can `fit it on the training data` to train the model and then use it to `make predictions on new data`.\n"
   ]
  },
  {
   "cell_type": "code",
   "execution_count": 17,
   "id": "f5450d82-8fa9-4e97-8699-4fb18384c4b5",
   "metadata": {},
   "outputs": [],
   "source": [
    "from sklearn.preprocessing import StandardScaler\n",
    "from sklearn.pipeline import make_pipeline\n",
    "from sklearn.impute import SimpleImputer\n",
    "\n",
    "num_cols = ['Kilometers_Driven', 'Seats', 'Power', 'Engine', 'Mileage', 'New_Price' ]  # numerical columns\n",
    "num_transformer = make_pipeline(\n",
    "    SimpleImputer(strategy='median'), \n",
    "    StandardScaler()\n",
    ")"
   ]
  },
  {
   "cell_type": "markdown",
   "id": "0f44b610-db5b-4ca5-9769-9d3dc32a1bb5",
   "metadata": {},
   "source": [
    "\n",
    "The `num_cols` list contains the names of the `numerical columns`, and the `num_transformer pipeline` is designed to first impute missing values with the median and then standardize the numerical data.\n",
    "\n",
    "<br>\n",
    "\n",
    "\n",
    "The nominal columns are `Transmission`, `Fuel_Type`, and `Location`, and the ordinal columns are `Year` and `Owner_Type`.\n",
    "\n",
    "\n"
   ]
  },
  {
   "cell_type": "code",
   "execution_count": 18,
   "id": "feedc7ec-0d07-46c9-b0b3-8645350a01f7",
   "metadata": {},
   "outputs": [],
   "source": [
    "from sklearn.preprocessing import OneHotEncoder, OrdinalEncoder\n",
    "from sklearn.pipeline import make_pipeline\n",
    "\n",
    "nom_cols = ['Transmission', 'Fuel_Type', 'Location']  # nominal Columns\n",
    "nom_transformer = make_pipeline(\n",
    "    SimpleImputer(strategy='most_frequent'),\n",
    "    OneHotEncoder()\n",
    ")\n",
    "\n",
    "ord_cols = ['Year', 'Owner_Type'] # ordinal columns\n",
    "ord_transformer = make_pipeline(\n",
    "    SimpleImputer(strategy='most_frequent'),\n",
    "    OrdinalEncoder()\n",
    ")"
   ]
  },
  {
   "cell_type": "markdown",
   "id": "ff15160d-a7d5-4530-817c-2df9991ef56e",
   "metadata": {},
   "source": [
    "- **The nominal pipeline** first imputes the missing values in the nominal columns with the most frequent value and then encodes the data using the OneHotEncoder. The OneHotEncoder creates a binary column for each unique value in the nominal column, indicating whether that value is present or not for each observation.\n",
    "\n",
    "- **The ordinal pipeline** also imputes missing values with the most frequent value and then encodes the data using the OrdinalEncoder. The OrdinalEncoder converts each unique value in the ordinal column to an integer, preserving the order of the values.\n",
    "\n",
    "The `ColumnTransformer` takes a list of transformers, where each transformer specifies the columns to transform and the transformation to apply to those columns. The transformers can be either pipelines, scalers, encoders, or any other transformation function that can be applied to a subset of the columns in the dataset."
   ]
  },
  {
   "cell_type": "code",
   "execution_count": 19,
   "id": "a19b622c-860d-4811-beb1-ba2c10cdd6e4",
   "metadata": {},
   "outputs": [],
   "source": [
    "from sklearn.compose import ColumnTransformer\n",
    "\n",
    "# Create a column transformer to apply the transformers to the appropriate columns\n",
    "preprocessor = ColumnTransformer([\n",
    "    ('Numerical Columns', num_transformer, num_cols),\n",
    "    ('Nominal Columns', nom_transformer, nom_cols),\n",
    "    ('Ordinal Columns', ord_transformer, ord_cols)\n",
    "])"
   ]
  },
  {
   "cell_type": "markdown",
   "id": "97c97f53-8754-4dda-98d8-b47150fe11c0",
   "metadata": {
    "tags": []
   },
   "source": [
    "### Creating a Machine Learning Pipeline with Preprocessing and Linear Regression\n",
    "\n",
    "After `preprocessing` the data using ColumnTransformer, we can `combine the preprocessed features with an estimator` to create a complete machine learning pipeline using the **make_pipeline** function. \n",
    "\n",
    "The estimator will be used to learn the underlying patterns and relationships in the training data, and then generalize to make predictions on new data. In this case, we will use `LinearRegression` as our estimator."
   ]
  },
  {
   "cell_type": "code",
   "execution_count": 20,
   "id": "fa79d538-de53-41e9-986e-f358d5d9bd01",
   "metadata": {},
   "outputs": [],
   "source": [
    "from sklearn.linear_model import LinearRegression\n",
    "from sklearn.pipeline import make_pipeline\n",
    "\n",
    "# Create a pipeline that combines the preprocessor with a classifier\n",
    "pipeline = make_pipeline(\n",
    "    preprocessor, \n",
    "    LinearRegression()\n",
    ")"
   ]
  },
  {
   "cell_type": "markdown",
   "id": "bdfda42d-f3a9-456c-8b01-40fcde3e7023",
   "metadata": {},
   "source": [
    " `Fit` it on the `training data` to train the model, and then use it to make `predictions` on new data."
   ]
  },
  {
   "cell_type": "code",
   "execution_count": 21,
   "id": "66c31679-24a0-4a09-b4d0-ef0ee91fedbd",
   "metadata": {},
   "outputs": [
    {
     "data": {
      "text/html": [
       "<style>#sk-container-id-1 {color: black;background-color: white;}#sk-container-id-1 pre{padding: 0;}#sk-container-id-1 div.sk-toggleable {background-color: white;}#sk-container-id-1 label.sk-toggleable__label {cursor: pointer;display: block;width: 100%;margin-bottom: 0;padding: 0.3em;box-sizing: border-box;text-align: center;}#sk-container-id-1 label.sk-toggleable__label-arrow:before {content: \"▸\";float: left;margin-right: 0.25em;color: #696969;}#sk-container-id-1 label.sk-toggleable__label-arrow:hover:before {color: black;}#sk-container-id-1 div.sk-estimator:hover label.sk-toggleable__label-arrow:before {color: black;}#sk-container-id-1 div.sk-toggleable__content {max-height: 0;max-width: 0;overflow: hidden;text-align: left;background-color: #f0f8ff;}#sk-container-id-1 div.sk-toggleable__content pre {margin: 0.2em;color: black;border-radius: 0.25em;background-color: #f0f8ff;}#sk-container-id-1 input.sk-toggleable__control:checked~div.sk-toggleable__content {max-height: 200px;max-width: 100%;overflow: auto;}#sk-container-id-1 input.sk-toggleable__control:checked~label.sk-toggleable__label-arrow:before {content: \"▾\";}#sk-container-id-1 div.sk-estimator input.sk-toggleable__control:checked~label.sk-toggleable__label {background-color: #d4ebff;}#sk-container-id-1 div.sk-label input.sk-toggleable__control:checked~label.sk-toggleable__label {background-color: #d4ebff;}#sk-container-id-1 input.sk-hidden--visually {border: 0;clip: rect(1px 1px 1px 1px);clip: rect(1px, 1px, 1px, 1px);height: 1px;margin: -1px;overflow: hidden;padding: 0;position: absolute;width: 1px;}#sk-container-id-1 div.sk-estimator {font-family: monospace;background-color: #f0f8ff;border: 1px dotted black;border-radius: 0.25em;box-sizing: border-box;margin-bottom: 0.5em;}#sk-container-id-1 div.sk-estimator:hover {background-color: #d4ebff;}#sk-container-id-1 div.sk-parallel-item::after {content: \"\";width: 100%;border-bottom: 1px solid gray;flex-grow: 1;}#sk-container-id-1 div.sk-label:hover label.sk-toggleable__label {background-color: #d4ebff;}#sk-container-id-1 div.sk-serial::before {content: \"\";position: absolute;border-left: 1px solid gray;box-sizing: border-box;top: 0;bottom: 0;left: 50%;z-index: 0;}#sk-container-id-1 div.sk-serial {display: flex;flex-direction: column;align-items: center;background-color: white;padding-right: 0.2em;padding-left: 0.2em;position: relative;}#sk-container-id-1 div.sk-item {position: relative;z-index: 1;}#sk-container-id-1 div.sk-parallel {display: flex;align-items: stretch;justify-content: center;background-color: white;position: relative;}#sk-container-id-1 div.sk-item::before, #sk-container-id-1 div.sk-parallel-item::before {content: \"\";position: absolute;border-left: 1px solid gray;box-sizing: border-box;top: 0;bottom: 0;left: 50%;z-index: -1;}#sk-container-id-1 div.sk-parallel-item {display: flex;flex-direction: column;z-index: 1;position: relative;background-color: white;}#sk-container-id-1 div.sk-parallel-item:first-child::after {align-self: flex-end;width: 50%;}#sk-container-id-1 div.sk-parallel-item:last-child::after {align-self: flex-start;width: 50%;}#sk-container-id-1 div.sk-parallel-item:only-child::after {width: 0;}#sk-container-id-1 div.sk-dashed-wrapped {border: 1px dashed gray;margin: 0 0.4em 0.5em 0.4em;box-sizing: border-box;padding-bottom: 0.4em;background-color: white;}#sk-container-id-1 div.sk-label label {font-family: monospace;font-weight: bold;display: inline-block;line-height: 1.2em;}#sk-container-id-1 div.sk-label-container {text-align: center;}#sk-container-id-1 div.sk-container {/* jupyter's `normalize.less` sets `[hidden] { display: none; }` but bootstrap.min.css set `[hidden] { display: none !important; }` so we also need the `!important` here to be able to override the default hidden behavior on the sphinx rendered scikit-learn.org. See: https://github.com/scikit-learn/scikit-learn/issues/21755 */display: inline-block !important;position: relative;}#sk-container-id-1 div.sk-text-repr-fallback {display: none;}</style><div id=\"sk-container-id-1\" class=\"sk-top-container\"><div class=\"sk-text-repr-fallback\"><pre>Pipeline(steps=[(&#x27;columntransformer&#x27;,\n",
       "                 ColumnTransformer(transformers=[(&#x27;Numerical Columns&#x27;,\n",
       "                                                  Pipeline(steps=[(&#x27;simpleimputer&#x27;,\n",
       "                                                                   SimpleImputer(strategy=&#x27;median&#x27;)),\n",
       "                                                                  (&#x27;standardscaler&#x27;,\n",
       "                                                                   StandardScaler())]),\n",
       "                                                  [&#x27;Kilometers_Driven&#x27;, &#x27;Seats&#x27;,\n",
       "                                                   &#x27;Power&#x27;, &#x27;Engine&#x27;, &#x27;Mileage&#x27;,\n",
       "                                                   &#x27;New_Price&#x27;]),\n",
       "                                                 (&#x27;Nominal Columns&#x27;,\n",
       "                                                  Pipeline(steps=[(&#x27;simpleimputer&#x27;,\n",
       "                                                                   SimpleImputer(strategy=&#x27;most_frequent&#x27;)),\n",
       "                                                                  (&#x27;onehotencoder&#x27;,\n",
       "                                                                   OneHotEncoder())]),\n",
       "                                                  [&#x27;Transmission&#x27;, &#x27;Fuel_Type&#x27;,\n",
       "                                                   &#x27;Location&#x27;]),\n",
       "                                                 (&#x27;Ordinal Columns&#x27;,\n",
       "                                                  Pipeline(steps=[(&#x27;simpleimputer&#x27;,\n",
       "                                                                   SimpleImputer(strategy=&#x27;most_frequent&#x27;)),\n",
       "                                                                  (&#x27;ordinalencoder&#x27;,\n",
       "                                                                   OrdinalEncoder())]),\n",
       "                                                  [&#x27;Year&#x27;, &#x27;Owner_Type&#x27;])])),\n",
       "                (&#x27;linearregression&#x27;, LinearRegression())])</pre><b>In a Jupyter environment, please rerun this cell to show the HTML representation or trust the notebook. <br />On GitHub, the HTML representation is unable to render, please try loading this page with nbviewer.org.</b></div><div class=\"sk-container\" hidden><div class=\"sk-item sk-dashed-wrapped\"><div class=\"sk-label-container\"><div class=\"sk-label sk-toggleable\"><input class=\"sk-toggleable__control sk-hidden--visually\" id=\"sk-estimator-id-1\" type=\"checkbox\" ><label for=\"sk-estimator-id-1\" class=\"sk-toggleable__label sk-toggleable__label-arrow\">Pipeline</label><div class=\"sk-toggleable__content\"><pre>Pipeline(steps=[(&#x27;columntransformer&#x27;,\n",
       "                 ColumnTransformer(transformers=[(&#x27;Numerical Columns&#x27;,\n",
       "                                                  Pipeline(steps=[(&#x27;simpleimputer&#x27;,\n",
       "                                                                   SimpleImputer(strategy=&#x27;median&#x27;)),\n",
       "                                                                  (&#x27;standardscaler&#x27;,\n",
       "                                                                   StandardScaler())]),\n",
       "                                                  [&#x27;Kilometers_Driven&#x27;, &#x27;Seats&#x27;,\n",
       "                                                   &#x27;Power&#x27;, &#x27;Engine&#x27;, &#x27;Mileage&#x27;,\n",
       "                                                   &#x27;New_Price&#x27;]),\n",
       "                                                 (&#x27;Nominal Columns&#x27;,\n",
       "                                                  Pipeline(steps=[(&#x27;simpleimputer&#x27;,\n",
       "                                                                   SimpleImputer(strategy=&#x27;most_frequent&#x27;)),\n",
       "                                                                  (&#x27;onehotencoder&#x27;,\n",
       "                                                                   OneHotEncoder())]),\n",
       "                                                  [&#x27;Transmission&#x27;, &#x27;Fuel_Type&#x27;,\n",
       "                                                   &#x27;Location&#x27;]),\n",
       "                                                 (&#x27;Ordinal Columns&#x27;,\n",
       "                                                  Pipeline(steps=[(&#x27;simpleimputer&#x27;,\n",
       "                                                                   SimpleImputer(strategy=&#x27;most_frequent&#x27;)),\n",
       "                                                                  (&#x27;ordinalencoder&#x27;,\n",
       "                                                                   OrdinalEncoder())]),\n",
       "                                                  [&#x27;Year&#x27;, &#x27;Owner_Type&#x27;])])),\n",
       "                (&#x27;linearregression&#x27;, LinearRegression())])</pre></div></div></div><div class=\"sk-serial\"><div class=\"sk-item sk-dashed-wrapped\"><div class=\"sk-label-container\"><div class=\"sk-label sk-toggleable\"><input class=\"sk-toggleable__control sk-hidden--visually\" id=\"sk-estimator-id-2\" type=\"checkbox\" ><label for=\"sk-estimator-id-2\" class=\"sk-toggleable__label sk-toggleable__label-arrow\">columntransformer: ColumnTransformer</label><div class=\"sk-toggleable__content\"><pre>ColumnTransformer(transformers=[(&#x27;Numerical Columns&#x27;,\n",
       "                                 Pipeline(steps=[(&#x27;simpleimputer&#x27;,\n",
       "                                                  SimpleImputer(strategy=&#x27;median&#x27;)),\n",
       "                                                 (&#x27;standardscaler&#x27;,\n",
       "                                                  StandardScaler())]),\n",
       "                                 [&#x27;Kilometers_Driven&#x27;, &#x27;Seats&#x27;, &#x27;Power&#x27;,\n",
       "                                  &#x27;Engine&#x27;, &#x27;Mileage&#x27;, &#x27;New_Price&#x27;]),\n",
       "                                (&#x27;Nominal Columns&#x27;,\n",
       "                                 Pipeline(steps=[(&#x27;simpleimputer&#x27;,\n",
       "                                                  SimpleImputer(strategy=&#x27;most_frequent&#x27;)),\n",
       "                                                 (&#x27;onehotencoder&#x27;,\n",
       "                                                  OneHotEncoder())]),\n",
       "                                 [&#x27;Transmission&#x27;, &#x27;Fuel_Type&#x27;, &#x27;Location&#x27;]),\n",
       "                                (&#x27;Ordinal Columns&#x27;,\n",
       "                                 Pipeline(steps=[(&#x27;simpleimputer&#x27;,\n",
       "                                                  SimpleImputer(strategy=&#x27;most_frequent&#x27;)),\n",
       "                                                 (&#x27;ordinalencoder&#x27;,\n",
       "                                                  OrdinalEncoder())]),\n",
       "                                 [&#x27;Year&#x27;, &#x27;Owner_Type&#x27;])])</pre></div></div></div><div class=\"sk-parallel\"><div class=\"sk-parallel-item\"><div class=\"sk-item\"><div class=\"sk-label-container\"><div class=\"sk-label sk-toggleable\"><input class=\"sk-toggleable__control sk-hidden--visually\" id=\"sk-estimator-id-3\" type=\"checkbox\" ><label for=\"sk-estimator-id-3\" class=\"sk-toggleable__label sk-toggleable__label-arrow\">Numerical Columns</label><div class=\"sk-toggleable__content\"><pre>[&#x27;Kilometers_Driven&#x27;, &#x27;Seats&#x27;, &#x27;Power&#x27;, &#x27;Engine&#x27;, &#x27;Mileage&#x27;, &#x27;New_Price&#x27;]</pre></div></div></div><div class=\"sk-serial\"><div class=\"sk-item\"><div class=\"sk-serial\"><div class=\"sk-item\"><div class=\"sk-estimator sk-toggleable\"><input class=\"sk-toggleable__control sk-hidden--visually\" id=\"sk-estimator-id-4\" type=\"checkbox\" ><label for=\"sk-estimator-id-4\" class=\"sk-toggleable__label sk-toggleable__label-arrow\">SimpleImputer</label><div class=\"sk-toggleable__content\"><pre>SimpleImputer(strategy=&#x27;median&#x27;)</pre></div></div></div><div class=\"sk-item\"><div class=\"sk-estimator sk-toggleable\"><input class=\"sk-toggleable__control sk-hidden--visually\" id=\"sk-estimator-id-5\" type=\"checkbox\" ><label for=\"sk-estimator-id-5\" class=\"sk-toggleable__label sk-toggleable__label-arrow\">StandardScaler</label><div class=\"sk-toggleable__content\"><pre>StandardScaler()</pre></div></div></div></div></div></div></div></div><div class=\"sk-parallel-item\"><div class=\"sk-item\"><div class=\"sk-label-container\"><div class=\"sk-label sk-toggleable\"><input class=\"sk-toggleable__control sk-hidden--visually\" id=\"sk-estimator-id-6\" type=\"checkbox\" ><label for=\"sk-estimator-id-6\" class=\"sk-toggleable__label sk-toggleable__label-arrow\">Nominal Columns</label><div class=\"sk-toggleable__content\"><pre>[&#x27;Transmission&#x27;, &#x27;Fuel_Type&#x27;, &#x27;Location&#x27;]</pre></div></div></div><div class=\"sk-serial\"><div class=\"sk-item\"><div class=\"sk-serial\"><div class=\"sk-item\"><div class=\"sk-estimator sk-toggleable\"><input class=\"sk-toggleable__control sk-hidden--visually\" id=\"sk-estimator-id-7\" type=\"checkbox\" ><label for=\"sk-estimator-id-7\" class=\"sk-toggleable__label sk-toggleable__label-arrow\">SimpleImputer</label><div class=\"sk-toggleable__content\"><pre>SimpleImputer(strategy=&#x27;most_frequent&#x27;)</pre></div></div></div><div class=\"sk-item\"><div class=\"sk-estimator sk-toggleable\"><input class=\"sk-toggleable__control sk-hidden--visually\" id=\"sk-estimator-id-8\" type=\"checkbox\" ><label for=\"sk-estimator-id-8\" class=\"sk-toggleable__label sk-toggleable__label-arrow\">OneHotEncoder</label><div class=\"sk-toggleable__content\"><pre>OneHotEncoder()</pre></div></div></div></div></div></div></div></div><div class=\"sk-parallel-item\"><div class=\"sk-item\"><div class=\"sk-label-container\"><div class=\"sk-label sk-toggleable\"><input class=\"sk-toggleable__control sk-hidden--visually\" id=\"sk-estimator-id-9\" type=\"checkbox\" ><label for=\"sk-estimator-id-9\" class=\"sk-toggleable__label sk-toggleable__label-arrow\">Ordinal Columns</label><div class=\"sk-toggleable__content\"><pre>[&#x27;Year&#x27;, &#x27;Owner_Type&#x27;]</pre></div></div></div><div class=\"sk-serial\"><div class=\"sk-item\"><div class=\"sk-serial\"><div class=\"sk-item\"><div class=\"sk-estimator sk-toggleable\"><input class=\"sk-toggleable__control sk-hidden--visually\" id=\"sk-estimator-id-10\" type=\"checkbox\" ><label for=\"sk-estimator-id-10\" class=\"sk-toggleable__label sk-toggleable__label-arrow\">SimpleImputer</label><div class=\"sk-toggleable__content\"><pre>SimpleImputer(strategy=&#x27;most_frequent&#x27;)</pre></div></div></div><div class=\"sk-item\"><div class=\"sk-estimator sk-toggleable\"><input class=\"sk-toggleable__control sk-hidden--visually\" id=\"sk-estimator-id-11\" type=\"checkbox\" ><label for=\"sk-estimator-id-11\" class=\"sk-toggleable__label sk-toggleable__label-arrow\">OrdinalEncoder</label><div class=\"sk-toggleable__content\"><pre>OrdinalEncoder()</pre></div></div></div></div></div></div></div></div></div></div><div class=\"sk-item\"><div class=\"sk-estimator sk-toggleable\"><input class=\"sk-toggleable__control sk-hidden--visually\" id=\"sk-estimator-id-12\" type=\"checkbox\" ><label for=\"sk-estimator-id-12\" class=\"sk-toggleable__label sk-toggleable__label-arrow\">LinearRegression</label><div class=\"sk-toggleable__content\"><pre>LinearRegression()</pre></div></div></div></div></div></div></div>"
      ],
      "text/plain": [
       "Pipeline(steps=[('columntransformer',\n",
       "                 ColumnTransformer(transformers=[('Numerical Columns',\n",
       "                                                  Pipeline(steps=[('simpleimputer',\n",
       "                                                                   SimpleImputer(strategy='median')),\n",
       "                                                                  ('standardscaler',\n",
       "                                                                   StandardScaler())]),\n",
       "                                                  ['Kilometers_Driven', 'Seats',\n",
       "                                                   'Power', 'Engine', 'Mileage',\n",
       "                                                   'New_Price']),\n",
       "                                                 ('Nominal Columns',\n",
       "                                                  Pipeline(steps=[('simpleimputer',\n",
       "                                                                   SimpleImputer(strategy='most_frequent')),\n",
       "                                                                  ('onehotencoder',\n",
       "                                                                   OneHotEncoder())]),\n",
       "                                                  ['Transmission', 'Fuel_Type',\n",
       "                                                   'Location']),\n",
       "                                                 ('Ordinal Columns',\n",
       "                                                  Pipeline(steps=[('simpleimputer',\n",
       "                                                                   SimpleImputer(strategy='most_frequent')),\n",
       "                                                                  ('ordinalencoder',\n",
       "                                                                   OrdinalEncoder())]),\n",
       "                                                  ['Year', 'Owner_Type'])])),\n",
       "                ('linearregression', LinearRegression())])"
      ]
     },
     "execution_count": 21,
     "metadata": {},
     "output_type": "execute_result"
    }
   ],
   "source": [
    "pipeline.fit(X_train, y_train)"
   ]
  },
  {
   "cell_type": "markdown",
   "id": "cfbe4425-577b-4b7f-9980-2e65e0c9a262",
   "metadata": {},
   "source": [
    "## Pipeline Results\n",
    "\n",
    "- **pipeline.predict(X_test)** generates the predicted values for the testing data, while \n",
    "- **pipeline.predict(X_train)** generates the predicted values for the training data.\n",
    "\n",
    "The predicted values can be compared with the actual values to evaluate the performance of the model and assess its accuracy."
   ]
  },
  {
   "cell_type": "code",
   "execution_count": 22,
   "id": "cd9d8b97-9ea2-4ea5-8161-387284337e35",
   "metadata": {},
   "outputs": [],
   "source": [
    "y_train_pred = pipeline.predict(X_train)\n",
    "y_test_pred = pipeline.predict(X_test)"
   ]
  },
  {
   "cell_type": "markdown",
   "id": "d48f44ab-e485-4879-8429-36cb83f9bb84",
   "metadata": {},
   "source": [
    "To access the accuracy of the **regression model**, `r2_score` and `mean_squared_error` functions from the sklearn.metrics module are used.\n",
    "- The **r2_score** function calculates the R-squared metric, which represents the proportion of variance in the target variable that is explained by the predictor variables. The closer the R-squared value is to 1, the better the model fits the data.\n",
    "\n",
    "- The **mean_squared_error** function calculates the mean squared error between the actual target values and the predicted values. A lower mean squared error indicates better performance of the model."
   ]
  },
  {
   "cell_type": "code",
   "execution_count": 23,
   "id": "c1dce326-04d2-49aa-978d-713f8280f34d",
   "metadata": {},
   "outputs": [
    {
     "name": "stdout",
     "output_type": "stream",
     "text": [
      "R2 on Train data: 0.72\n",
      "R2 on Test data: 0.71\n",
      "\n",
      "Mean square Error for Train Data: 35.85\n",
      "Mean square Error for Test Data: 33.23\n"
     ]
    }
   ],
   "source": [
    "from sklearn.metrics import mean_squared_error, r2_score\n",
    "\n",
    "print('R2 on Train data: %.2f' % pipeline.score(X_train, y_train))\n",
    "print('R2 on Test data: %.2f' % pipeline.score(X_test, y_test))\n",
    "\n",
    "print('\\nMean square Error for Train Data: %.2f' % mean_squared_error(y_train, y_train_pred))\n",
    "print('Mean square Error for Test Data: %.2f' % mean_squared_error(y_test, y_test_pred))"
   ]
  },
  {
   "cell_type": "markdown",
   "id": "9c34e9af-9e38-4048-a35c-f1853ebc74ef",
   "metadata": {},
   "source": [
    "- The `regression model` has an **R2 of 0.72 on the training data** and an **R2 of 0.71 on the test data**. This suggests that the model is `performing well` on both the training and test data, and is `generalizing well` to new data.\n",
    "\n",
    "- The **mean square error (MSE) for the training data is 35.85**, while the **MSE for the test data is 33.23**. These values suggest that the model is making relatively `small errors` in its predictions, and is `not significantly overfitting` to the training data.\n",
    "\n",
    "Overall, these results suggest that the regression model is performing well and is a good fit for the data."
   ]
  },
  {
   "cell_type": "markdown",
   "id": "e54dcdf8-c33d-4116-ae08-f63d553d2c68",
   "metadata": {},
   "source": [
    "## Conclusion\n",
    "\n",
    "- In conclusion, **preprocessing the data is an important step before building a machine learning model**, and involves `cleaning`, `standardizing`, and `encoding` the data. \n",
    "- The numerical features are imputed and standardized, while the categorical features are imputed and encoded using either OrdinalEncoder or OneHotEncoder. \n",
    "- The pipelines are combined using `ColumnTransformer`, and a `LinearRegression model` is used as an estimator to create a complete machine learning pipeline. \n",
    "- The model's performance is evaluated using the `r2_score` and `mean_squared_error` functions, which show that the model is performing well on both the training and test data, and is generalizing well to new data. \n",
    "- **The model's mean squared error suggests that it is making relatively small errors in its predictions and is not significantly overfitting to the training data.**\n",
    "- Overall, these results suggest that `the regression model is a good fit for the data`."
   ]
  }
 ],
 "metadata": {
  "kernelspec": {
   "display_name": "Python 3 (ipykernel)",
   "language": "python",
   "name": "python3"
  },
  "language_info": {
   "codemirror_mode": {
    "name": "ipython",
    "version": 3
   },
   "file_extension": ".py",
   "mimetype": "text/x-python",
   "name": "python",
   "nbconvert_exporter": "python",
   "pygments_lexer": "ipython3",
   "version": "3.10.4"
  }
 },
 "nbformat": 4,
 "nbformat_minor": 5
}
