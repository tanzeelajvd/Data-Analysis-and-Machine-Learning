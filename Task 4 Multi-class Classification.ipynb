{
 "cells": [
  {
   "cell_type": "raw",
   "id": "d24fc445-6256-488d-a04e-aef3db62239d",
   "metadata": {},
   "source": [
    "---\n",
    "title: \"Task 4\"\n",
    "subtitle: \"Multi-class Classification\"\n",
    "author: \"Tanzeela Javid Kaloo\"\n",
    "date: \"April 18, 2023\"\n",
    "---"
   ]
  },
  {
   "cell_type": "markdown",
   "id": "db8c59b9-c0c7-49f6-bd1a-80b81ce2122c",
   "metadata": {},
   "source": [
    "**Task 4:** Find a data set which is suitable for multi-class (class number is greater than two) classification (there is no limit on the number of features or type of the features). Then, apply K-nearest neighbors algorithm and multinomial regression to this data set to find the best performing model with respect to a classification metric. Explain the reason (give support) why you picked that model as the final one.\n"
   ]
  },
  {
   "cell_type": "markdown",
   "id": "733f1643-bb84-4278-9e62-1f63d6adfa45",
   "metadata": {},
   "source": [
    "## Body Mass Index Dataset\n",
    "\n",
    "### Data Decription\n",
    "\n",
    "The dataset aims to estimate BMI using Gender, Height, and Weight. However, it's highly imbalanced with a limited sample size. The data has four columns including Gender, Height, Weight, and Index representing the BMI level.\n",
    "\n",
    "**Attributes**\n",
    "1. `Gender`\n",
    "2. `Weight`\n",
    "3. `Height`\n",
    "\n",
    "**Target Attribute**\n",
    "\n",
    "4. `Index`\n",
    "\n",
    "**For more details on DataSet check:**  https://www.kaggle.com/datasets/yasserh/bmidataset?select=bmi.csv"
   ]
  },
  {
   "cell_type": "markdown",
   "id": "ca1c8a10-0338-4ea9-a57a-41e29002c77e",
   "metadata": {},
   "source": [
    "## Classifier Implementation"
   ]
  },
  {
   "cell_type": "code",
   "execution_count": 1,
   "id": "08730e15-c51d-4bda-8969-7e5f601bff3d",
   "metadata": {},
   "outputs": [],
   "source": [
    "# Ignore all warnings\n",
    "\n",
    "import warnings\n",
    "warnings.filterwarnings(\"ignore\")"
   ]
  },
  {
   "cell_type": "code",
   "execution_count": 2,
   "id": "aa356952-2a41-47f3-994a-7b9db1b47879",
   "metadata": {},
   "outputs": [],
   "source": [
    "import pandas as pd\n",
    "import numpy as np\n",
    "import matplotlib.pyplot as plt\n",
    "from sklearn.model_selection import train_test_split, GridSearchCV, StratifiedKFold\n",
    "from sklearn.preprocessing import StandardScaler, OneHotEncoder\n",
    "from sklearn.compose import ColumnTransformer\n",
    "from sklearn.linear_model import LogisticRegression\n",
    "from sklearn.pipeline import Pipeline, make_pipeline\n",
    "from sklearn.neighbors import KNeighborsClassifier\n",
    "from sklearn.metrics import confusion_matrix, precision_recall_fscore_support, roc_curve, ConfusionMatrixDisplay, classification_report, accuracy_score"
   ]
  },
  {
   "cell_type": "markdown",
   "id": "2ee83fb2-4a35-424d-9fe5-0a1bdd0e861e",
   "metadata": {},
   "source": [
    "## Loading Dataset"
   ]
  },
  {
   "cell_type": "code",
   "execution_count": 3,
   "id": "6873e161-61bf-4487-aab5-4a0501be91cb",
   "metadata": {},
   "outputs": [
    {
     "data": {
      "text/html": [
       "<div>\n",
       "<style scoped>\n",
       "    .dataframe tbody tr th:only-of-type {\n",
       "        vertical-align: middle;\n",
       "    }\n",
       "\n",
       "    .dataframe tbody tr th {\n",
       "        vertical-align: top;\n",
       "    }\n",
       "\n",
       "    .dataframe thead th {\n",
       "        text-align: right;\n",
       "    }\n",
       "</style>\n",
       "<table border=\"1\" class=\"dataframe\">\n",
       "  <thead>\n",
       "    <tr style=\"text-align: right;\">\n",
       "      <th></th>\n",
       "      <th>Gender</th>\n",
       "      <th>Height</th>\n",
       "      <th>Weight</th>\n",
       "      <th>Index</th>\n",
       "    </tr>\n",
       "  </thead>\n",
       "  <tbody>\n",
       "    <tr>\n",
       "      <th>0</th>\n",
       "      <td>Male</td>\n",
       "      <td>174</td>\n",
       "      <td>96</td>\n",
       "      <td>4</td>\n",
       "    </tr>\n",
       "    <tr>\n",
       "      <th>1</th>\n",
       "      <td>Male</td>\n",
       "      <td>189</td>\n",
       "      <td>87</td>\n",
       "      <td>2</td>\n",
       "    </tr>\n",
       "    <tr>\n",
       "      <th>2</th>\n",
       "      <td>Female</td>\n",
       "      <td>185</td>\n",
       "      <td>110</td>\n",
       "      <td>4</td>\n",
       "    </tr>\n",
       "    <tr>\n",
       "      <th>3</th>\n",
       "      <td>Female</td>\n",
       "      <td>195</td>\n",
       "      <td>104</td>\n",
       "      <td>3</td>\n",
       "    </tr>\n",
       "    <tr>\n",
       "      <th>4</th>\n",
       "      <td>Male</td>\n",
       "      <td>149</td>\n",
       "      <td>61</td>\n",
       "      <td>3</td>\n",
       "    </tr>\n",
       "  </tbody>\n",
       "</table>\n",
       "</div>"
      ],
      "text/plain": [
       "   Gender  Height  Weight  Index\n",
       "0    Male     174      96      4\n",
       "1    Male     189      87      2\n",
       "2  Female     185     110      4\n",
       "3  Female     195     104      3\n",
       "4    Male     149      61      3"
      ]
     },
     "execution_count": 3,
     "metadata": {},
     "output_type": "execute_result"
    }
   ],
   "source": [
    "# Load Data\n",
    "data = pd.read_csv(\"datasets/bmi.csv\")\n",
    "data.head()"
   ]
  },
  {
   "cell_type": "code",
   "execution_count": 4,
   "id": "cf48e8e1-6ca7-41d6-9956-4549cc1b1280",
   "metadata": {},
   "outputs": [
    {
     "name": "stdout",
     "output_type": "stream",
     "text": [
      "<class 'pandas.core.frame.DataFrame'>\n",
      "RangeIndex: 500 entries, 0 to 499\n",
      "Data columns (total 4 columns):\n",
      " #   Column  Non-Null Count  Dtype \n",
      "---  ------  --------------  ----- \n",
      " 0   Gender  500 non-null    object\n",
      " 1   Height  500 non-null    int64 \n",
      " 2   Weight  500 non-null    int64 \n",
      " 3   Index   500 non-null    int64 \n",
      "dtypes: int64(3), object(1)\n",
      "memory usage: 15.8+ KB\n"
     ]
    }
   ],
   "source": [
    "data.info()"
   ]
  },
  {
   "cell_type": "markdown",
   "id": "accda8d3-6ae0-4d8f-b7cf-98ac092e6459",
   "metadata": {},
   "source": [
    "The dataset has 500 entries and 4 columns: Gender, Height, Weight, and Index. Gender is of object type, while the rest are of int64 type. There are no null values."
   ]
  },
  {
   "cell_type": "markdown",
   "id": "e7e93fc2-6706-4543-b6de-dbc428442ec5",
   "metadata": {},
   "source": [
    "## Splitting Data Set\n",
    "\n",
    "- `train_test_split` function from `sklearn.model_selection` module is used to split the data into training and test sets.\n",
    "- The training set consists of 80% of the data, and the test set consists of 20% of the data.\n",
    "- The random state is set to 42 for reproducibility.\n",
    "- The input features for the training set are stored in `X_train`.\n",
    "- The target variable for the training set is stored in `y_train`.\n",
    "- The input features for the test set are stored in `X_test`.\n",
    "- The target variable for the test set is stored in `y_test`.\n"
   ]
  },
  {
   "cell_type": "code",
   "execution_count": 5,
   "id": "7cb19390-6eac-4689-ac51-f4483980f864",
   "metadata": {
    "tags": []
   },
   "outputs": [],
   "source": [
    "# Split the data set into training and test sets\n",
    "X_train, X_test, y_train, y_test = train_test_split(\n",
    "    data.drop(columns=['Index']), \n",
    "    data['Index'], \n",
    "    test_size=0.2, \n",
    "    random_state=1300, \n",
    "    stratify=data['Index']\n",
    ")"
   ]
  },
  {
   "cell_type": "code",
   "execution_count": 6,
   "id": "712ccdf1-1a99-4a2b-ab2b-eec97086024d",
   "metadata": {},
   "outputs": [
    {
     "name": "stdout",
     "output_type": "stream",
     "text": [
      "(400, 3)\n",
      "(100, 3)\n",
      "(400,)\n",
      "(100,)\n"
     ]
    }
   ],
   "source": [
    "print(X_train.shape)\n",
    "print(X_test.shape)\n",
    "print(y_train.shape)\n",
    "print(y_test.shape)"
   ]
  },
  {
   "cell_type": "markdown",
   "id": "93640118-a426-49b1-a589-7080139ba665",
   "metadata": {},
   "source": [
    "- The first two lines show the shape of the independent variable data after splitting into 80:20 train-test ratio.\n",
    "- The third and fourth lines show the shape of the dependent variable data as 1D arrays.\n",
    "- The feature data has shapes (400, 3) and (100, 3) for train and test, respectively.\n",
    "- This indicates 3 features with 400 training samples and 100 test samples.\n",
    "- The target data has shapes (400,) and (100,) for train and test, respectively.\n",
    "- This indicates 400 training labels and 100 test labels."
   ]
  },
  {
   "cell_type": "markdown",
   "id": "b63d89e1-15c8-4e79-8592-951be35e9b92",
   "metadata": {},
   "source": [
    "## **1. Classification Model based on K-Nearest Neighbour**"
   ]
  },
  {
   "cell_type": "code",
   "execution_count": 7,
   "id": "43355bd5-d240-4f78-aa56-88eaa68758fe",
   "metadata": {},
   "outputs": [],
   "source": [
    "knn_pipe = make_pipeline(StandardScaler(), KNeighborsClassifier(metric='minkowski', p=2))\n",
    "\n",
    "#defining parameter range\n",
    "param_grid = {'kneighborsclassifier__n_neighbors': list(range(1, 30))}\n",
    "\n",
    "#The folds are made by preserving the percentage of samples for each class.\n",
    "kcv_index = StratifiedKFold(n_splits=5, shuffle=True, random_state=1773) \n",
    "\n",
    "grid_search = GridSearchCV(estimator = knn_pipe, param_grid = param_grid, \n",
    "                           scoring='accuracy', cv = kcv_index, #accuracy is the default metric\n",
    "                           return_train_score=True) "
   ]
  },
  {
   "cell_type": "code",
   "execution_count": 8,
   "id": "cc3ecadc-a7f8-409f-9b68-68f5135a5447",
   "metadata": {},
   "outputs": [
    {
     "data": {
      "text/html": [
       "<style>#sk-container-id-1 {color: black;background-color: white;}#sk-container-id-1 pre{padding: 0;}#sk-container-id-1 div.sk-toggleable {background-color: white;}#sk-container-id-1 label.sk-toggleable__label {cursor: pointer;display: block;width: 100%;margin-bottom: 0;padding: 0.3em;box-sizing: border-box;text-align: center;}#sk-container-id-1 label.sk-toggleable__label-arrow:before {content: \"▸\";float: left;margin-right: 0.25em;color: #696969;}#sk-container-id-1 label.sk-toggleable__label-arrow:hover:before {color: black;}#sk-container-id-1 div.sk-estimator:hover label.sk-toggleable__label-arrow:before {color: black;}#sk-container-id-1 div.sk-toggleable__content {max-height: 0;max-width: 0;overflow: hidden;text-align: left;background-color: #f0f8ff;}#sk-container-id-1 div.sk-toggleable__content pre {margin: 0.2em;color: black;border-radius: 0.25em;background-color: #f0f8ff;}#sk-container-id-1 input.sk-toggleable__control:checked~div.sk-toggleable__content {max-height: 200px;max-width: 100%;overflow: auto;}#sk-container-id-1 input.sk-toggleable__control:checked~label.sk-toggleable__label-arrow:before {content: \"▾\";}#sk-container-id-1 div.sk-estimator input.sk-toggleable__control:checked~label.sk-toggleable__label {background-color: #d4ebff;}#sk-container-id-1 div.sk-label input.sk-toggleable__control:checked~label.sk-toggleable__label {background-color: #d4ebff;}#sk-container-id-1 input.sk-hidden--visually {border: 0;clip: rect(1px 1px 1px 1px);clip: rect(1px, 1px, 1px, 1px);height: 1px;margin: -1px;overflow: hidden;padding: 0;position: absolute;width: 1px;}#sk-container-id-1 div.sk-estimator {font-family: monospace;background-color: #f0f8ff;border: 1px dotted black;border-radius: 0.25em;box-sizing: border-box;margin-bottom: 0.5em;}#sk-container-id-1 div.sk-estimator:hover {background-color: #d4ebff;}#sk-container-id-1 div.sk-parallel-item::after {content: \"\";width: 100%;border-bottom: 1px solid gray;flex-grow: 1;}#sk-container-id-1 div.sk-label:hover label.sk-toggleable__label {background-color: #d4ebff;}#sk-container-id-1 div.sk-serial::before {content: \"\";position: absolute;border-left: 1px solid gray;box-sizing: border-box;top: 0;bottom: 0;left: 50%;z-index: 0;}#sk-container-id-1 div.sk-serial {display: flex;flex-direction: column;align-items: center;background-color: white;padding-right: 0.2em;padding-left: 0.2em;position: relative;}#sk-container-id-1 div.sk-item {position: relative;z-index: 1;}#sk-container-id-1 div.sk-parallel {display: flex;align-items: stretch;justify-content: center;background-color: white;position: relative;}#sk-container-id-1 div.sk-item::before, #sk-container-id-1 div.sk-parallel-item::before {content: \"\";position: absolute;border-left: 1px solid gray;box-sizing: border-box;top: 0;bottom: 0;left: 50%;z-index: -1;}#sk-container-id-1 div.sk-parallel-item {display: flex;flex-direction: column;z-index: 1;position: relative;background-color: white;}#sk-container-id-1 div.sk-parallel-item:first-child::after {align-self: flex-end;width: 50%;}#sk-container-id-1 div.sk-parallel-item:last-child::after {align-self: flex-start;width: 50%;}#sk-container-id-1 div.sk-parallel-item:only-child::after {width: 0;}#sk-container-id-1 div.sk-dashed-wrapped {border: 1px dashed gray;margin: 0 0.4em 0.5em 0.4em;box-sizing: border-box;padding-bottom: 0.4em;background-color: white;}#sk-container-id-1 div.sk-label label {font-family: monospace;font-weight: bold;display: inline-block;line-height: 1.2em;}#sk-container-id-1 div.sk-label-container {text-align: center;}#sk-container-id-1 div.sk-container {/* jupyter's `normalize.less` sets `[hidden] { display: none; }` but bootstrap.min.css set `[hidden] { display: none !important; }` so we also need the `!important` here to be able to override the default hidden behavior on the sphinx rendered scikit-learn.org. See: https://github.com/scikit-learn/scikit-learn/issues/21755 */display: inline-block !important;position: relative;}#sk-container-id-1 div.sk-text-repr-fallback {display: none;}</style><div id=\"sk-container-id-1\" class=\"sk-top-container\"><div class=\"sk-text-repr-fallback\"><pre>GridSearchCV(cv=StratifiedKFold(n_splits=6, random_state=11, shuffle=True),\n",
       "             estimator=Pipeline(steps=[(&#x27;preprocessor&#x27;,\n",
       "                                        ColumnTransformer(transformers=[(&#x27;num&#x27;,\n",
       "                                                                         Pipeline(steps=[(&#x27;scaler&#x27;,\n",
       "                                                                                          StandardScaler())]),\n",
       "                                                                         [&#x27;Height&#x27;,\n",
       "                                                                          &#x27;Weight&#x27;]),\n",
       "                                                                        (&#x27;cat&#x27;,\n",
       "                                                                         Pipeline(steps=[(&#x27;onehot&#x27;,\n",
       "                                                                                          OneHotEncoder(handle_unknown=&#x27;ignore&#x27;))]),\n",
       "                                                                         [&#x27;Gender&#x27;])])),\n",
       "                                       (&#x27;classifier&#x27;, KNeighborsClassifier())]),\n",
       "             param_grid={&#x27;classifier__n_neighbors&#x27;: [1, 2, 3, 4, 5, 6, 7, 8, 9,\n",
       "                                                     10, 11, 12, 13, 14, 15, 16,\n",
       "                                                     17, 18, 19, 20, 21, 22, 23,\n",
       "                                                     24, 25, 26, 27, 28, 29],\n",
       "                         &#x27;classifier__p&#x27;: [1, 2],\n",
       "                         &#x27;classifier__weights&#x27;: [&#x27;uniform&#x27;, &#x27;distance&#x27;]})</pre><b>In a Jupyter environment, please rerun this cell to show the HTML representation or trust the notebook. <br />On GitHub, the HTML representation is unable to render, please try loading this page with nbviewer.org.</b></div><div class=\"sk-container\" hidden><div class=\"sk-item sk-dashed-wrapped\"><div class=\"sk-label-container\"><div class=\"sk-label sk-toggleable\"><input class=\"sk-toggleable__control sk-hidden--visually\" id=\"sk-estimator-id-1\" type=\"checkbox\" ><label for=\"sk-estimator-id-1\" class=\"sk-toggleable__label sk-toggleable__label-arrow\">GridSearchCV</label><div class=\"sk-toggleable__content\"><pre>GridSearchCV(cv=StratifiedKFold(n_splits=6, random_state=11, shuffle=True),\n",
       "             estimator=Pipeline(steps=[(&#x27;preprocessor&#x27;,\n",
       "                                        ColumnTransformer(transformers=[(&#x27;num&#x27;,\n",
       "                                                                         Pipeline(steps=[(&#x27;scaler&#x27;,\n",
       "                                                                                          StandardScaler())]),\n",
       "                                                                         [&#x27;Height&#x27;,\n",
       "                                                                          &#x27;Weight&#x27;]),\n",
       "                                                                        (&#x27;cat&#x27;,\n",
       "                                                                         Pipeline(steps=[(&#x27;onehot&#x27;,\n",
       "                                                                                          OneHotEncoder(handle_unknown=&#x27;ignore&#x27;))]),\n",
       "                                                                         [&#x27;Gender&#x27;])])),\n",
       "                                       (&#x27;classifier&#x27;, KNeighborsClassifier())]),\n",
       "             param_grid={&#x27;classifier__n_neighbors&#x27;: [1, 2, 3, 4, 5, 6, 7, 8, 9,\n",
       "                                                     10, 11, 12, 13, 14, 15, 16,\n",
       "                                                     17, 18, 19, 20, 21, 22, 23,\n",
       "                                                     24, 25, 26, 27, 28, 29],\n",
       "                         &#x27;classifier__p&#x27;: [1, 2],\n",
       "                         &#x27;classifier__weights&#x27;: [&#x27;uniform&#x27;, &#x27;distance&#x27;]})</pre></div></div></div><div class=\"sk-parallel\"><div class=\"sk-parallel-item\"><div class=\"sk-item\"><div class=\"sk-label-container\"><div class=\"sk-label sk-toggleable\"><input class=\"sk-toggleable__control sk-hidden--visually\" id=\"sk-estimator-id-2\" type=\"checkbox\" ><label for=\"sk-estimator-id-2\" class=\"sk-toggleable__label sk-toggleable__label-arrow\">estimator: Pipeline</label><div class=\"sk-toggleable__content\"><pre>Pipeline(steps=[(&#x27;preprocessor&#x27;,\n",
       "                 ColumnTransformer(transformers=[(&#x27;num&#x27;,\n",
       "                                                  Pipeline(steps=[(&#x27;scaler&#x27;,\n",
       "                                                                   StandardScaler())]),\n",
       "                                                  [&#x27;Height&#x27;, &#x27;Weight&#x27;]),\n",
       "                                                 (&#x27;cat&#x27;,\n",
       "                                                  Pipeline(steps=[(&#x27;onehot&#x27;,\n",
       "                                                                   OneHotEncoder(handle_unknown=&#x27;ignore&#x27;))]),\n",
       "                                                  [&#x27;Gender&#x27;])])),\n",
       "                (&#x27;classifier&#x27;, KNeighborsClassifier())])</pre></div></div></div><div class=\"sk-serial\"><div class=\"sk-item\"><div class=\"sk-serial\"><div class=\"sk-item sk-dashed-wrapped\"><div class=\"sk-label-container\"><div class=\"sk-label sk-toggleable\"><input class=\"sk-toggleable__control sk-hidden--visually\" id=\"sk-estimator-id-3\" type=\"checkbox\" ><label for=\"sk-estimator-id-3\" class=\"sk-toggleable__label sk-toggleable__label-arrow\">preprocessor: ColumnTransformer</label><div class=\"sk-toggleable__content\"><pre>ColumnTransformer(transformers=[(&#x27;num&#x27;,\n",
       "                                 Pipeline(steps=[(&#x27;scaler&#x27;, StandardScaler())]),\n",
       "                                 [&#x27;Height&#x27;, &#x27;Weight&#x27;]),\n",
       "                                (&#x27;cat&#x27;,\n",
       "                                 Pipeline(steps=[(&#x27;onehot&#x27;,\n",
       "                                                  OneHotEncoder(handle_unknown=&#x27;ignore&#x27;))]),\n",
       "                                 [&#x27;Gender&#x27;])])</pre></div></div></div><div class=\"sk-parallel\"><div class=\"sk-parallel-item\"><div class=\"sk-item\"><div class=\"sk-label-container\"><div class=\"sk-label sk-toggleable\"><input class=\"sk-toggleable__control sk-hidden--visually\" id=\"sk-estimator-id-4\" type=\"checkbox\" ><label for=\"sk-estimator-id-4\" class=\"sk-toggleable__label sk-toggleable__label-arrow\">num</label><div class=\"sk-toggleable__content\"><pre>[&#x27;Height&#x27;, &#x27;Weight&#x27;]</pre></div></div></div><div class=\"sk-serial\"><div class=\"sk-item\"><div class=\"sk-serial\"><div class=\"sk-item\"><div class=\"sk-estimator sk-toggleable\"><input class=\"sk-toggleable__control sk-hidden--visually\" id=\"sk-estimator-id-5\" type=\"checkbox\" ><label for=\"sk-estimator-id-5\" class=\"sk-toggleable__label sk-toggleable__label-arrow\">StandardScaler</label><div class=\"sk-toggleable__content\"><pre>StandardScaler()</pre></div></div></div></div></div></div></div></div><div class=\"sk-parallel-item\"><div class=\"sk-item\"><div class=\"sk-label-container\"><div class=\"sk-label sk-toggleable\"><input class=\"sk-toggleable__control sk-hidden--visually\" id=\"sk-estimator-id-6\" type=\"checkbox\" ><label for=\"sk-estimator-id-6\" class=\"sk-toggleable__label sk-toggleable__label-arrow\">cat</label><div class=\"sk-toggleable__content\"><pre>[&#x27;Gender&#x27;]</pre></div></div></div><div class=\"sk-serial\"><div class=\"sk-item\"><div class=\"sk-serial\"><div class=\"sk-item\"><div class=\"sk-estimator sk-toggleable\"><input class=\"sk-toggleable__control sk-hidden--visually\" id=\"sk-estimator-id-7\" type=\"checkbox\" ><label for=\"sk-estimator-id-7\" class=\"sk-toggleable__label sk-toggleable__label-arrow\">OneHotEncoder</label><div class=\"sk-toggleable__content\"><pre>OneHotEncoder(handle_unknown=&#x27;ignore&#x27;)</pre></div></div></div></div></div></div></div></div></div></div><div class=\"sk-item\"><div class=\"sk-estimator sk-toggleable\"><input class=\"sk-toggleable__control sk-hidden--visually\" id=\"sk-estimator-id-8\" type=\"checkbox\" ><label for=\"sk-estimator-id-8\" class=\"sk-toggleable__label sk-toggleable__label-arrow\">KNeighborsClassifier</label><div class=\"sk-toggleable__content\"><pre>KNeighborsClassifier()</pre></div></div></div></div></div></div></div></div></div></div></div></div>"
      ],
      "text/plain": [
       "GridSearchCV(cv=StratifiedKFold(n_splits=6, random_state=11, shuffle=True),\n",
       "             estimator=Pipeline(steps=[('preprocessor',\n",
       "                                        ColumnTransformer(transformers=[('num',\n",
       "                                                                         Pipeline(steps=[('scaler',\n",
       "                                                                                          StandardScaler())]),\n",
       "                                                                         ['Height',\n",
       "                                                                          'Weight']),\n",
       "                                                                        ('cat',\n",
       "                                                                         Pipeline(steps=[('onehot',\n",
       "                                                                                          OneHotEncoder(handle_unknown='ignore'))]),\n",
       "                                                                         ['Gender'])])),\n",
       "                                       ('classifier', KNeighborsClassifier())]),\n",
       "             param_grid={'classifier__n_neighbors': [1, 2, 3, 4, 5, 6, 7, 8, 9,\n",
       "                                                     10, 11, 12, 13, 14, 15, 16,\n",
       "                                                     17, 18, 19, 20, 21, 22, 23,\n",
       "                                                     24, 25, 26, 27, 28, 29],\n",
       "                         'classifier__p': [1, 2],\n",
       "                         'classifier__weights': ['uniform', 'distance']})"
      ]
     },
     "execution_count": 8,
     "metadata": {},
     "output_type": "execute_result"
    }
   ],
   "source": [
    "# Define the preprocessing steps for numerical and categorical data\n",
    "num_transformer = Pipeline(steps=[\n",
    "    ('scaler', StandardScaler())\n",
    "])\n",
    "\n",
    "cat_transformer = Pipeline(steps=[\n",
    "    ('onehot', OneHotEncoder(handle_unknown='ignore'))\n",
    "])\n",
    "\n",
    "# Define the preprocessing pipeline\n",
    "preprocessor = ColumnTransformer(\n",
    "    transformers=[\n",
    "        ('num', num_transformer, ['Height', 'Weight']),\n",
    "        ('cat', cat_transformer, ['Gender'])\n",
    "    ])\n",
    "\n",
    "# Define the KNN model\n",
    "knn = KNeighborsClassifier()\n",
    "\n",
    "# Define the pipeline\n",
    "pipe_knn = Pipeline(steps=[\n",
    "    ('preprocessor', preprocessor),\n",
    "    ('classifier', knn)\n",
    "])\n",
    "\n",
    "# Define the hyperparameters to search\n",
    "param_grid_knn = {\n",
    "    'classifier__n_neighbors': list(range(1, 30)),\n",
    "    'classifier__weights': ['uniform', 'distance'],\n",
    "    'classifier__p':[1,2]\n",
    "}\n",
    "\n",
    "#Stratified Cross Validation\n",
    "cv = StratifiedKFold(n_splits=6, shuffle=True, random_state=11) \n",
    "\n",
    "# Perform grid search with cross-validation\n",
    "gs_knn = GridSearchCV(pipe_knn, param_grid=param_grid_knn, cv=cv)\n",
    "\n",
    "# Fit the model\n",
    "gs_knn.fit(X_train, y_train)"
   ]
  },
  {
   "cell_type": "markdown",
   "id": "61e65af6-b585-4866-b122-a4f2c1a2aba0",
   "metadata": {},
   "source": [
    "- `Two pipelines` are defined to preprocess numerical and categorical data.\n",
    "- A preprocessor is defined which uses the pipelines to preprocess the data.\n",
    "- A `KNN model` is defined.\n",
    "- A pipeline is defined which uses the preprocessor and the KNN model.\n",
    "- `Hyperparameters` to search for are defined.\n",
    "- Grid search with 5`-fold cross-validation` is performed.\n",
    "- The model is `fit` using the training data.\n",
    "\n",
    "\n",
    "### Visualizing Classifier Results"
   ]
  },
  {
   "cell_type": "code",
   "execution_count": 9,
   "id": "cb4625c6-7e6d-41da-96d9-838b02e759c4",
   "metadata": {},
   "outputs": [
    {
     "name": "stdout",
     "output_type": "stream",
     "text": [
      "Best Hyperparameters: {'classifier__n_neighbors': 5, 'classifier__p': 2, 'classifier__weights': 'distance'}\n",
      "CV Validation Accuracy: 90.51 %\n",
      "Metric <function _passthrough_scorer at 0x000002214A9A25E0>\n"
     ]
    }
   ],
   "source": [
    "# Print best hyperparameters and score\n",
    "print(\"Best Hyperparameters:\", gs_knn.best_params_)\n",
    "print(\"CV Validation Accuracy: %.2f %%\" % (gs_knn.best_score_*100))\n",
    "print('Metric', gs_knn.scorer_)"
   ]
  },
  {
   "cell_type": "code",
   "execution_count": 10,
   "id": "92c55840-a5e3-4460-8778-3e9a5d852c61",
   "metadata": {},
   "outputs": [
    {
     "name": "stdout",
     "output_type": "stream",
     "text": [
      "Best Score on Validation Data for KNN\n"
     ]
    },
    {
     "data": {
      "text/html": [
       "<style>#sk-container-id-2 {color: black;background-color: white;}#sk-container-id-2 pre{padding: 0;}#sk-container-id-2 div.sk-toggleable {background-color: white;}#sk-container-id-2 label.sk-toggleable__label {cursor: pointer;display: block;width: 100%;margin-bottom: 0;padding: 0.3em;box-sizing: border-box;text-align: center;}#sk-container-id-2 label.sk-toggleable__label-arrow:before {content: \"▸\";float: left;margin-right: 0.25em;color: #696969;}#sk-container-id-2 label.sk-toggleable__label-arrow:hover:before {color: black;}#sk-container-id-2 div.sk-estimator:hover label.sk-toggleable__label-arrow:before {color: black;}#sk-container-id-2 div.sk-toggleable__content {max-height: 0;max-width: 0;overflow: hidden;text-align: left;background-color: #f0f8ff;}#sk-container-id-2 div.sk-toggleable__content pre {margin: 0.2em;color: black;border-radius: 0.25em;background-color: #f0f8ff;}#sk-container-id-2 input.sk-toggleable__control:checked~div.sk-toggleable__content {max-height: 200px;max-width: 100%;overflow: auto;}#sk-container-id-2 input.sk-toggleable__control:checked~label.sk-toggleable__label-arrow:before {content: \"▾\";}#sk-container-id-2 div.sk-estimator input.sk-toggleable__control:checked~label.sk-toggleable__label {background-color: #d4ebff;}#sk-container-id-2 div.sk-label input.sk-toggleable__control:checked~label.sk-toggleable__label {background-color: #d4ebff;}#sk-container-id-2 input.sk-hidden--visually {border: 0;clip: rect(1px 1px 1px 1px);clip: rect(1px, 1px, 1px, 1px);height: 1px;margin: -1px;overflow: hidden;padding: 0;position: absolute;width: 1px;}#sk-container-id-2 div.sk-estimator {font-family: monospace;background-color: #f0f8ff;border: 1px dotted black;border-radius: 0.25em;box-sizing: border-box;margin-bottom: 0.5em;}#sk-container-id-2 div.sk-estimator:hover {background-color: #d4ebff;}#sk-container-id-2 div.sk-parallel-item::after {content: \"\";width: 100%;border-bottom: 1px solid gray;flex-grow: 1;}#sk-container-id-2 div.sk-label:hover label.sk-toggleable__label {background-color: #d4ebff;}#sk-container-id-2 div.sk-serial::before {content: \"\";position: absolute;border-left: 1px solid gray;box-sizing: border-box;top: 0;bottom: 0;left: 50%;z-index: 0;}#sk-container-id-2 div.sk-serial {display: flex;flex-direction: column;align-items: center;background-color: white;padding-right: 0.2em;padding-left: 0.2em;position: relative;}#sk-container-id-2 div.sk-item {position: relative;z-index: 1;}#sk-container-id-2 div.sk-parallel {display: flex;align-items: stretch;justify-content: center;background-color: white;position: relative;}#sk-container-id-2 div.sk-item::before, #sk-container-id-2 div.sk-parallel-item::before {content: \"\";position: absolute;border-left: 1px solid gray;box-sizing: border-box;top: 0;bottom: 0;left: 50%;z-index: -1;}#sk-container-id-2 div.sk-parallel-item {display: flex;flex-direction: column;z-index: 1;position: relative;background-color: white;}#sk-container-id-2 div.sk-parallel-item:first-child::after {align-self: flex-end;width: 50%;}#sk-container-id-2 div.sk-parallel-item:last-child::after {align-self: flex-start;width: 50%;}#sk-container-id-2 div.sk-parallel-item:only-child::after {width: 0;}#sk-container-id-2 div.sk-dashed-wrapped {border: 1px dashed gray;margin: 0 0.4em 0.5em 0.4em;box-sizing: border-box;padding-bottom: 0.4em;background-color: white;}#sk-container-id-2 div.sk-label label {font-family: monospace;font-weight: bold;display: inline-block;line-height: 1.2em;}#sk-container-id-2 div.sk-label-container {text-align: center;}#sk-container-id-2 div.sk-container {/* jupyter's `normalize.less` sets `[hidden] { display: none; }` but bootstrap.min.css set `[hidden] { display: none !important; }` so we also need the `!important` here to be able to override the default hidden behavior on the sphinx rendered scikit-learn.org. See: https://github.com/scikit-learn/scikit-learn/issues/21755 */display: inline-block !important;position: relative;}#sk-container-id-2 div.sk-text-repr-fallback {display: none;}</style><div id=\"sk-container-id-2\" class=\"sk-top-container\"><div class=\"sk-text-repr-fallback\"><pre>Pipeline(steps=[(&#x27;preprocessor&#x27;,\n",
       "                 ColumnTransformer(transformers=[(&#x27;num&#x27;,\n",
       "                                                  Pipeline(steps=[(&#x27;scaler&#x27;,\n",
       "                                                                   StandardScaler())]),\n",
       "                                                  [&#x27;Height&#x27;, &#x27;Weight&#x27;]),\n",
       "                                                 (&#x27;cat&#x27;,\n",
       "                                                  Pipeline(steps=[(&#x27;onehot&#x27;,\n",
       "                                                                   OneHotEncoder(handle_unknown=&#x27;ignore&#x27;))]),\n",
       "                                                  [&#x27;Gender&#x27;])])),\n",
       "                (&#x27;classifier&#x27;, KNeighborsClassifier(weights=&#x27;distance&#x27;))])</pre><b>In a Jupyter environment, please rerun this cell to show the HTML representation or trust the notebook. <br />On GitHub, the HTML representation is unable to render, please try loading this page with nbviewer.org.</b></div><div class=\"sk-container\" hidden><div class=\"sk-item sk-dashed-wrapped\"><div class=\"sk-label-container\"><div class=\"sk-label sk-toggleable\"><input class=\"sk-toggleable__control sk-hidden--visually\" id=\"sk-estimator-id-9\" type=\"checkbox\" ><label for=\"sk-estimator-id-9\" class=\"sk-toggleable__label sk-toggleable__label-arrow\">Pipeline</label><div class=\"sk-toggleable__content\"><pre>Pipeline(steps=[(&#x27;preprocessor&#x27;,\n",
       "                 ColumnTransformer(transformers=[(&#x27;num&#x27;,\n",
       "                                                  Pipeline(steps=[(&#x27;scaler&#x27;,\n",
       "                                                                   StandardScaler())]),\n",
       "                                                  [&#x27;Height&#x27;, &#x27;Weight&#x27;]),\n",
       "                                                 (&#x27;cat&#x27;,\n",
       "                                                  Pipeline(steps=[(&#x27;onehot&#x27;,\n",
       "                                                                   OneHotEncoder(handle_unknown=&#x27;ignore&#x27;))]),\n",
       "                                                  [&#x27;Gender&#x27;])])),\n",
       "                (&#x27;classifier&#x27;, KNeighborsClassifier(weights=&#x27;distance&#x27;))])</pre></div></div></div><div class=\"sk-serial\"><div class=\"sk-item sk-dashed-wrapped\"><div class=\"sk-label-container\"><div class=\"sk-label sk-toggleable\"><input class=\"sk-toggleable__control sk-hidden--visually\" id=\"sk-estimator-id-10\" type=\"checkbox\" ><label for=\"sk-estimator-id-10\" class=\"sk-toggleable__label sk-toggleable__label-arrow\">preprocessor: ColumnTransformer</label><div class=\"sk-toggleable__content\"><pre>ColumnTransformer(transformers=[(&#x27;num&#x27;,\n",
       "                                 Pipeline(steps=[(&#x27;scaler&#x27;, StandardScaler())]),\n",
       "                                 [&#x27;Height&#x27;, &#x27;Weight&#x27;]),\n",
       "                                (&#x27;cat&#x27;,\n",
       "                                 Pipeline(steps=[(&#x27;onehot&#x27;,\n",
       "                                                  OneHotEncoder(handle_unknown=&#x27;ignore&#x27;))]),\n",
       "                                 [&#x27;Gender&#x27;])])</pre></div></div></div><div class=\"sk-parallel\"><div class=\"sk-parallel-item\"><div class=\"sk-item\"><div class=\"sk-label-container\"><div class=\"sk-label sk-toggleable\"><input class=\"sk-toggleable__control sk-hidden--visually\" id=\"sk-estimator-id-11\" type=\"checkbox\" ><label for=\"sk-estimator-id-11\" class=\"sk-toggleable__label sk-toggleable__label-arrow\">num</label><div class=\"sk-toggleable__content\"><pre>[&#x27;Height&#x27;, &#x27;Weight&#x27;]</pre></div></div></div><div class=\"sk-serial\"><div class=\"sk-item\"><div class=\"sk-serial\"><div class=\"sk-item\"><div class=\"sk-estimator sk-toggleable\"><input class=\"sk-toggleable__control sk-hidden--visually\" id=\"sk-estimator-id-12\" type=\"checkbox\" ><label for=\"sk-estimator-id-12\" class=\"sk-toggleable__label sk-toggleable__label-arrow\">StandardScaler</label><div class=\"sk-toggleable__content\"><pre>StandardScaler()</pre></div></div></div></div></div></div></div></div><div class=\"sk-parallel-item\"><div class=\"sk-item\"><div class=\"sk-label-container\"><div class=\"sk-label sk-toggleable\"><input class=\"sk-toggleable__control sk-hidden--visually\" id=\"sk-estimator-id-13\" type=\"checkbox\" ><label for=\"sk-estimator-id-13\" class=\"sk-toggleable__label sk-toggleable__label-arrow\">cat</label><div class=\"sk-toggleable__content\"><pre>[&#x27;Gender&#x27;]</pre></div></div></div><div class=\"sk-serial\"><div class=\"sk-item\"><div class=\"sk-serial\"><div class=\"sk-item\"><div class=\"sk-estimator sk-toggleable\"><input class=\"sk-toggleable__control sk-hidden--visually\" id=\"sk-estimator-id-14\" type=\"checkbox\" ><label for=\"sk-estimator-id-14\" class=\"sk-toggleable__label sk-toggleable__label-arrow\">OneHotEncoder</label><div class=\"sk-toggleable__content\"><pre>OneHotEncoder(handle_unknown=&#x27;ignore&#x27;)</pre></div></div></div></div></div></div></div></div></div></div><div class=\"sk-item\"><div class=\"sk-estimator sk-toggleable\"><input class=\"sk-toggleable__control sk-hidden--visually\" id=\"sk-estimator-id-15\" type=\"checkbox\" ><label for=\"sk-estimator-id-15\" class=\"sk-toggleable__label sk-toggleable__label-arrow\">KNeighborsClassifier</label><div class=\"sk-toggleable__content\"><pre>KNeighborsClassifier(weights=&#x27;distance&#x27;)</pre></div></div></div></div></div></div></div>"
      ],
      "text/plain": [
       "Pipeline(steps=[('preprocessor',\n",
       "                 ColumnTransformer(transformers=[('num',\n",
       "                                                  Pipeline(steps=[('scaler',\n",
       "                                                                   StandardScaler())]),\n",
       "                                                  ['Height', 'Weight']),\n",
       "                                                 ('cat',\n",
       "                                                  Pipeline(steps=[('onehot',\n",
       "                                                                   OneHotEncoder(handle_unknown='ignore'))]),\n",
       "                                                  ['Gender'])])),\n",
       "                ('classifier', KNeighborsClassifier(weights='distance'))])"
      ]
     },
     "execution_count": 10,
     "metadata": {},
     "output_type": "execute_result"
    }
   ],
   "source": [
    "print('Best Score on Validation Data for KNN')\n",
    "gs_knn.best_estimator_"
   ]
  },
  {
   "cell_type": "code",
   "execution_count": 11,
   "id": "f6234352-b090-4738-b283-eeb496afdf18",
   "metadata": {},
   "outputs": [
    {
     "name": "stdout",
     "output_type": "stream",
     "text": [
      "Accuracy on Test Data: 84.00 %\n"
     ]
    }
   ],
   "source": [
    "#Evaluate final performance of best logistic classifier on Test Data\n",
    "print(\"Accuracy on Test Data: %.2f %%\" % (gs_knn.score(X_test, y_test)*100))"
   ]
  },
  {
   "cell_type": "markdown",
   "id": "62ef424d-ef72-4d16-8c2e-49fc576f2181",
   "metadata": {},
   "source": [
    "An accuracy of `84%` on the test data means that the model was able to predict the correct label for 84 out of 100 samples in the test set. This indicates that the model is performing reasonably well on new, unseen data, but there is still some room for improvement."
   ]
  },
  {
   "cell_type": "markdown",
   "id": "dba629b9-a8bb-4395-b5c2-c8d3358c390a",
   "metadata": {},
   "source": [
    "**Confusion Metrics**"
   ]
  },
  {
   "cell_type": "code",
   "execution_count": 12,
   "id": "615b0d35-2679-4176-9901-f74f57ed2a35",
   "metadata": {},
   "outputs": [
    {
     "data": {
      "image/png": "[encoded data removed]",
      "text/plain": [
       "<Figure size 576x576 with 1 Axes>"
      ]
     },
     "metadata": {
      "needs_background": "light"
     },
     "output_type": "display_data"
    }
   ],
   "source": [
    "# Set the figure size\n",
    "fig, ax = plt.subplots(figsize=(8, 8))\n",
    "\n",
    "# Display the confusion matrix\n",
    "cm = ConfusionMatrixDisplay.from_estimator(gs_knn.best_estimator_, \n",
    "                                           X_test, y_test, \n",
    "                                           display_labels=['Extremely Weak', 'Weak','Normal', 'Overweight', 'Obesity', 'Extreme Obesit'],\n",
    "                                           cmap=\"Oranges\",\n",
    "                                           colorbar=False,\n",
    "                                           ax=ax)\n",
    "                                           \n",
    "cm.ax_.set_title(\"Confusion Matrix\")\n",
    "plt.show()\n"
   ]
  },
  {
   "cell_type": "markdown",
   "id": "86741da2-1857-4263-926e-0b8d40d051e8",
   "metadata": {},
   "source": [
    "As the classification is imbalanced, precision, recall, and f1-score will be used as evaluation metrics to assess the KNN model's performance.\n",
    "\n",
    "### Calculating Precision, Recall and F1-Score"
   ]
  },
  {
   "cell_type": "code",
   "execution_count": 13,
   "id": "0145b3cd-512b-46f8-b216-5d9c39c51cfc",
   "metadata": {},
   "outputs": [],
   "source": [
    "# Make predictions on the test set\n",
    "y_pred_knn = gs_knn.predict(X_test)\n",
    "\n",
    "# Calculate evaluation metrics\n",
    "prf_knn = precision_recall_fscore_support(y_test, y_pred_knn, average='weighted')"
   ]
  },
  {
   "cell_type": "markdown",
   "id": "62339d58-6b09-46a5-b344-266829eac9c7",
   "metadata": {},
   "source": [
    "Here we make predictions on the test set using the KNN model that was fitted using GridSearchCV earlier. The predicted labels are stored in `y_pred_knn`.\n",
    "\n",
    "Then we calculate evaluation metrics for the KNN model's performance on the test set. Specifically, it computes the precision, recall, F1-score, and support for each class (i.e., each BMI category) using the `precision_recall_fscore_support` function from scikit-learn. The `average` parameter is set to 'weighted', which means that the metrics are computed by taking the weighted average across all classes, weighted by the number of samples in each class. The resulting precision, recall, and F1-score are stored in the `prf_knn` variable."
   ]
  },
  {
   "cell_type": "code",
   "execution_count": 14,
   "id": "9569d64f-f673-4a4d-824a-ddabe71f27c9",
   "metadata": {},
   "outputs": [
    {
     "name": "stdout",
     "output_type": "stream",
     "text": [
      "Classification report:\n",
      "              precision    recall  f1-score   support\n",
      "\n",
      "           0       1.00      0.33      0.50         3\n",
      "           1       0.33      0.50      0.40         4\n",
      "           2       0.77      0.71      0.74        14\n",
      "           3       0.86      0.86      0.86        14\n",
      "           4       0.88      0.81      0.84        26\n",
      "           5       0.90      0.97      0.94        39\n",
      "\n",
      "    accuracy                           0.84       100\n",
      "   macro avg       0.79      0.70      0.71       100\n",
      "weighted avg       0.85      0.84      0.84       100\n",
      "\n",
      "Precision: 0.8514\n",
      "Recall: 0.8400\n",
      "F1-score: 0.8390\n"
     ]
    }
   ],
   "source": [
    "# Print the classification report\n",
    "\n",
    "print(\"Classification report:\")\n",
    "print(classification_report(y_test, y_pred_knn))\n",
    "\n",
    "# Print the evaluation metrics\n",
    "print(\"Precision: {:.4f}\".format(prf_knn[0]))\n",
    "print(\"Recall: {:.4f}\".format(prf_knn[1]))\n",
    "print(\"F1-score: {:.4f}\".format(prf_knn[2]))"
   ]
  },
  {
   "cell_type": "markdown",
   "id": "550aaa6d-139d-4e91-a85f-c12bdc03ed29",
   "metadata": {},
   "source": [
    "The classification report provides detailed information about the performance of the KNN model on the test data.\n",
    "\n",
    "1. `Precision`: It is the ratio of correctly predicted positive observations to the total predicted positive observations.\n",
    "\n",
    "2. `Recall`: It is the ratio of correctly predicted positive observations to the total actual positive observations.\n",
    "\n",
    "3. `F1-score`: It is the harmonic mean of precision and recall.   \n",
    "$F1-score = 2 * \\frac{((precision * recall)} {(precision + recall))}$\n",
    "\n",
    "4. `Support`: It is the number of actual occurrences of the class in the specified dataset.\n",
    "\n",
    "**Classification Report**\n",
    "\n",
    "Looking at the classification report of KNN Model we conclude with the following results:\n",
    "1. The model has performed quite well on the test data with an overall accuracy of `84%`. \n",
    "2. The weighted average `precision`, `recall` and `F1-score` are `85%`, `84%`, and `84% `respectively. \n",
    "3. The highest `F1-score` is for the` Extreme Obesity` class (label 5) with a score of `94%`. \n",
    "4. However, the `Extremely Weak` class (label 0) has a very low `F1-score` of `50%`, which indicates that the `model is not performing well in predicting this class`.\n",
    "5. In terms of macro-averaged precision, recall and F1-score, they are all around 70%, which indicates that the model is performing reasonably well in predicting each class."
   ]
  },
  {
   "cell_type": "markdown",
   "id": "2f2a7d8c-73ea-4f0c-9ebc-f051aa3c30b1",
   "metadata": {},
   "source": [
    "## **2. Classification Model based on Multinomial Regression**"
   ]
  },
  {
   "cell_type": "code",
   "execution_count": 15,
   "id": "03801142-bfdd-47e8-8628-6ca3e0f3065a",
   "metadata": {},
   "outputs": [
    {
     "data": {
      "text/html": [
       "<style>#sk-container-id-3 {color: black;background-color: white;}#sk-container-id-3 pre{padding: 0;}#sk-container-id-3 div.sk-toggleable {background-color: white;}#sk-container-id-3 label.sk-toggleable__label {cursor: pointer;display: block;width: 100%;margin-bottom: 0;padding: 0.3em;box-sizing: border-box;text-align: center;}#sk-container-id-3 label.sk-toggleable__label-arrow:before {content: \"▸\";float: left;margin-right: 0.25em;color: #696969;}#sk-container-id-3 label.sk-toggleable__label-arrow:hover:before {color: black;}#sk-container-id-3 div.sk-estimator:hover label.sk-toggleable__label-arrow:before {color: black;}#sk-container-id-3 div.sk-toggleable__content {max-height: 0;max-width: 0;overflow: hidden;text-align: left;background-color: #f0f8ff;}#sk-container-id-3 div.sk-toggleable__content pre {margin: 0.2em;color: black;border-radius: 0.25em;background-color: #f0f8ff;}#sk-container-id-3 input.sk-toggleable__control:checked~div.sk-toggleable__content {max-height: 200px;max-width: 100%;overflow: auto;}#sk-container-id-3 input.sk-toggleable__control:checked~label.sk-toggleable__label-arrow:before {content: \"▾\";}#sk-container-id-3 div.sk-estimator input.sk-toggleable__control:checked~label.sk-toggleable__label {background-color: #d4ebff;}#sk-container-id-3 div.sk-label input.sk-toggleable__control:checked~label.sk-toggleable__label {background-color: #d4ebff;}#sk-container-id-3 input.sk-hidden--visually {border: 0;clip: rect(1px 1px 1px 1px);clip: rect(1px, 1px, 1px, 1px);height: 1px;margin: -1px;overflow: hidden;padding: 0;position: absolute;width: 1px;}#sk-container-id-3 div.sk-estimator {font-family: monospace;background-color: #f0f8ff;border: 1px dotted black;border-radius: 0.25em;box-sizing: border-box;margin-bottom: 0.5em;}#sk-container-id-3 div.sk-estimator:hover {background-color: #d4ebff;}#sk-container-id-3 div.sk-parallel-item::after {content: \"\";width: 100%;border-bottom: 1px solid gray;flex-grow: 1;}#sk-container-id-3 div.sk-label:hover label.sk-toggleable__label {background-color: #d4ebff;}#sk-container-id-3 div.sk-serial::before {content: \"\";position: absolute;border-left: 1px solid gray;box-sizing: border-box;top: 0;bottom: 0;left: 50%;z-index: 0;}#sk-container-id-3 div.sk-serial {display: flex;flex-direction: column;align-items: center;background-color: white;padding-right: 0.2em;padding-left: 0.2em;position: relative;}#sk-container-id-3 div.sk-item {position: relative;z-index: 1;}#sk-container-id-3 div.sk-parallel {display: flex;align-items: stretch;justify-content: center;background-color: white;position: relative;}#sk-container-id-3 div.sk-item::before, #sk-container-id-3 div.sk-parallel-item::before {content: \"\";position: absolute;border-left: 1px solid gray;box-sizing: border-box;top: 0;bottom: 0;left: 50%;z-index: -1;}#sk-container-id-3 div.sk-parallel-item {display: flex;flex-direction: column;z-index: 1;position: relative;background-color: white;}#sk-container-id-3 div.sk-parallel-item:first-child::after {align-self: flex-end;width: 50%;}#sk-container-id-3 div.sk-parallel-item:last-child::after {align-self: flex-start;width: 50%;}#sk-container-id-3 div.sk-parallel-item:only-child::after {width: 0;}#sk-container-id-3 div.sk-dashed-wrapped {border: 1px dashed gray;margin: 0 0.4em 0.5em 0.4em;box-sizing: border-box;padding-bottom: 0.4em;background-color: white;}#sk-container-id-3 div.sk-label label {font-family: monospace;font-weight: bold;display: inline-block;line-height: 1.2em;}#sk-container-id-3 div.sk-label-container {text-align: center;}#sk-container-id-3 div.sk-container {/* jupyter's `normalize.less` sets `[hidden] { display: none; }` but bootstrap.min.css set `[hidden] { display: none !important; }` so we also need the `!important` here to be able to override the default hidden behavior on the sphinx rendered scikit-learn.org. See: https://github.com/scikit-learn/scikit-learn/issues/21755 */display: inline-block !important;position: relative;}#sk-container-id-3 div.sk-text-repr-fallback {display: none;}</style><div id=\"sk-container-id-3\" class=\"sk-top-container\"><div class=\"sk-text-repr-fallback\"><pre>GridSearchCV(cv=5,\n",
       "             estimator=Pipeline(steps=[(&#x27;preprocessor&#x27;,\n",
       "                                        ColumnTransformer(transformers=[(&#x27;num&#x27;,\n",
       "                                                                         Pipeline(steps=[(&#x27;scaler&#x27;,\n",
       "                                                                                          StandardScaler())]),\n",
       "                                                                         Index([&#x27;Height&#x27;, &#x27;Weight&#x27;], dtype=&#x27;object&#x27;)),\n",
       "                                                                        (&#x27;cat&#x27;,\n",
       "                                                                         Pipeline(steps=[(&#x27;onehot&#x27;,\n",
       "                                                                                          OneHotEncoder())]),\n",
       "                                                                         [&#x27;Gender&#x27;])])),\n",
       "                                       (&#x27;classifier&#x27;,\n",
       "                                        LogisticRegression(multi_class=&#x27;multinomial&#x27;))]),\n",
       "             param_grid={&#x27;classifier__C&#x27;: [0.01, 0.1, 1, 10]},\n",
       "             scoring=&#x27;accuracy&#x27;)</pre><b>In a Jupyter environment, please rerun this cell to show the HTML representation or trust the notebook. <br />On GitHub, the HTML representation is unable to render, please try loading this page with nbviewer.org.</b></div><div class=\"sk-container\" hidden><div class=\"sk-item sk-dashed-wrapped\"><div class=\"sk-label-container\"><div class=\"sk-label sk-toggleable\"><input class=\"sk-toggleable__control sk-hidden--visually\" id=\"sk-estimator-id-16\" type=\"checkbox\" ><label for=\"sk-estimator-id-16\" class=\"sk-toggleable__label sk-toggleable__label-arrow\">GridSearchCV</label><div class=\"sk-toggleable__content\"><pre>GridSearchCV(cv=5,\n",
       "             estimator=Pipeline(steps=[(&#x27;preprocessor&#x27;,\n",
       "                                        ColumnTransformer(transformers=[(&#x27;num&#x27;,\n",
       "                                                                         Pipeline(steps=[(&#x27;scaler&#x27;,\n",
       "                                                                                          StandardScaler())]),\n",
       "                                                                         Index([&#x27;Height&#x27;, &#x27;Weight&#x27;], dtype=&#x27;object&#x27;)),\n",
       "                                                                        (&#x27;cat&#x27;,\n",
       "                                                                         Pipeline(steps=[(&#x27;onehot&#x27;,\n",
       "                                                                                          OneHotEncoder())]),\n",
       "                                                                         [&#x27;Gender&#x27;])])),\n",
       "                                       (&#x27;classifier&#x27;,\n",
       "                                        LogisticRegression(multi_class=&#x27;multinomial&#x27;))]),\n",
       "             param_grid={&#x27;classifier__C&#x27;: [0.01, 0.1, 1, 10]},\n",
       "             scoring=&#x27;accuracy&#x27;)</pre></div></div></div><div class=\"sk-parallel\"><div class=\"sk-parallel-item\"><div class=\"sk-item\"><div class=\"sk-label-container\"><div class=\"sk-label sk-toggleable\"><input class=\"sk-toggleable__control sk-hidden--visually\" id=\"sk-estimator-id-17\" type=\"checkbox\" ><label for=\"sk-estimator-id-17\" class=\"sk-toggleable__label sk-toggleable__label-arrow\">estimator: Pipeline</label><div class=\"sk-toggleable__content\"><pre>Pipeline(steps=[(&#x27;preprocessor&#x27;,\n",
       "                 ColumnTransformer(transformers=[(&#x27;num&#x27;,\n",
       "                                                  Pipeline(steps=[(&#x27;scaler&#x27;,\n",
       "                                                                   StandardScaler())]),\n",
       "                                                  Index([&#x27;Height&#x27;, &#x27;Weight&#x27;], dtype=&#x27;object&#x27;)),\n",
       "                                                 (&#x27;cat&#x27;,\n",
       "                                                  Pipeline(steps=[(&#x27;onehot&#x27;,\n",
       "                                                                   OneHotEncoder())]),\n",
       "                                                  [&#x27;Gender&#x27;])])),\n",
       "                (&#x27;classifier&#x27;, LogisticRegression(multi_class=&#x27;multinomial&#x27;))])</pre></div></div></div><div class=\"sk-serial\"><div class=\"sk-item\"><div class=\"sk-serial\"><div class=\"sk-item sk-dashed-wrapped\"><div class=\"sk-label-container\"><div class=\"sk-label sk-toggleable\"><input class=\"sk-toggleable__control sk-hidden--visually\" id=\"sk-estimator-id-18\" type=\"checkbox\" ><label for=\"sk-estimator-id-18\" class=\"sk-toggleable__label sk-toggleable__label-arrow\">preprocessor: ColumnTransformer</label><div class=\"sk-toggleable__content\"><pre>ColumnTransformer(transformers=[(&#x27;num&#x27;,\n",
       "                                 Pipeline(steps=[(&#x27;scaler&#x27;, StandardScaler())]),\n",
       "                                 Index([&#x27;Height&#x27;, &#x27;Weight&#x27;], dtype=&#x27;object&#x27;)),\n",
       "                                (&#x27;cat&#x27;,\n",
       "                                 Pipeline(steps=[(&#x27;onehot&#x27;, OneHotEncoder())]),\n",
       "                                 [&#x27;Gender&#x27;])])</pre></div></div></div><div class=\"sk-parallel\"><div class=\"sk-parallel-item\"><div class=\"sk-item\"><div class=\"sk-label-container\"><div class=\"sk-label sk-toggleable\"><input class=\"sk-toggleable__control sk-hidden--visually\" id=\"sk-estimator-id-19\" type=\"checkbox\" ><label for=\"sk-estimator-id-19\" class=\"sk-toggleable__label sk-toggleable__label-arrow\">num</label><div class=\"sk-toggleable__content\"><pre>Index([&#x27;Height&#x27;, &#x27;Weight&#x27;], dtype=&#x27;object&#x27;)</pre></div></div></div><div class=\"sk-serial\"><div class=\"sk-item\"><div class=\"sk-serial\"><div class=\"sk-item\"><div class=\"sk-estimator sk-toggleable\"><input class=\"sk-toggleable__control sk-hidden--visually\" id=\"sk-estimator-id-20\" type=\"checkbox\" ><label for=\"sk-estimator-id-20\" class=\"sk-toggleable__label sk-toggleable__label-arrow\">StandardScaler</label><div class=\"sk-toggleable__content\"><pre>StandardScaler()</pre></div></div></div></div></div></div></div></div><div class=\"sk-parallel-item\"><div class=\"sk-item\"><div class=\"sk-label-container\"><div class=\"sk-label sk-toggleable\"><input class=\"sk-toggleable__control sk-hidden--visually\" id=\"sk-estimator-id-21\" type=\"checkbox\" ><label for=\"sk-estimator-id-21\" class=\"sk-toggleable__label sk-toggleable__label-arrow\">cat</label><div class=\"sk-toggleable__content\"><pre>[&#x27;Gender&#x27;]</pre></div></div></div><div class=\"sk-serial\"><div class=\"sk-item\"><div class=\"sk-serial\"><div class=\"sk-item\"><div class=\"sk-estimator sk-toggleable\"><input class=\"sk-toggleable__control sk-hidden--visually\" id=\"sk-estimator-id-22\" type=\"checkbox\" ><label for=\"sk-estimator-id-22\" class=\"sk-toggleable__label sk-toggleable__label-arrow\">OneHotEncoder</label><div class=\"sk-toggleable__content\"><pre>OneHotEncoder()</pre></div></div></div></div></div></div></div></div></div></div><div class=\"sk-item\"><div class=\"sk-estimator sk-toggleable\"><input class=\"sk-toggleable__control sk-hidden--visually\" id=\"sk-estimator-id-23\" type=\"checkbox\" ><label for=\"sk-estimator-id-23\" class=\"sk-toggleable__label sk-toggleable__label-arrow\">LogisticRegression</label><div class=\"sk-toggleable__content\"><pre>LogisticRegression(multi_class=&#x27;multinomial&#x27;)</pre></div></div></div></div></div></div></div></div></div></div></div></div>"
      ],
      "text/plain": [
       "GridSearchCV(cv=5,\n",
       "             estimator=Pipeline(steps=[('preprocessor',\n",
       "                                        ColumnTransformer(transformers=[('num',\n",
       "                                                                         Pipeline(steps=[('scaler',\n",
       "                                                                                          StandardScaler())]),\n",
       "                                                                         Index(['Height', 'Weight'], dtype='object')),\n",
       "                                                                        ('cat',\n",
       "                                                                         Pipeline(steps=[('onehot',\n",
       "                                                                                          OneHotEncoder())]),\n",
       "                                                                         ['Gender'])])),\n",
       "                                       ('classifier',\n",
       "                                        LogisticRegression(multi_class='multinomial'))]),\n",
       "             param_grid={'classifier__C': [0.01, 0.1, 1, 10]},\n",
       "             scoring='accuracy')"
      ]
     },
     "execution_count": 15,
     "metadata": {},
     "output_type": "execute_result"
    }
   ],
   "source": [
    "# Set up the preprocessing pipeline\n",
    "numerical_transformer = Pipeline(steps=[('scaler', StandardScaler())])\n",
    "categorical_transformer = Pipeline(steps=[('onehot', OneHotEncoder())])\n",
    "preprocessor = ColumnTransformer(transformers=[('num', numerical_transformer, X_train.select_dtypes(include=['float64','int64']).columns),\n",
    "                                               ('cat', categorical_transformer, ['Gender'])])\n",
    "\n",
    "# Set up the model pipeline\n",
    "pipe_mr = Pipeline(steps=[('preprocessor', preprocessor),\n",
    "                       ('classifier', LogisticRegression(multi_class='multinomial', solver='lbfgs'))])\n",
    "\n",
    "# Set up the hyperparameter grid\n",
    "param_grid_mr = {'classifier__C': [0.01, 0.1, 1, 10]}\n",
    "\n",
    "# Set up the grid search with stratified cross validation\n",
    "grid_mr = GridSearchCV(pipe_mr, param_grid=param_grid_mr, cv=5, scoring='accuracy')\n",
    "    \n",
    "grid_mr.fit(X_train, y_train)    "
   ]
  },
  {
   "cell_type": "markdown",
   "id": "b2396be2-1d8d-4479-840d-ba0bbbe0217a",
   "metadata": {},
   "source": [
    "The code sets up a preprocessing pipeline for the numerical and categorical data. The numerical data is scaled using `StandardScaler`, while the categorical data is one-hot encoded using `OneHotEncoder`.\n",
    "\n",
    "A logistic regression model with a multinomial `loss function` and `lbfgs` solver is then set up using the preprocessor as a first step and a logistic regression classifier as a second step in the pipeline.\n",
    "\n",
    "A `hyperparameter grid` is set up to search for the `optimal C` value in the logistic regression classifier.\n",
    "\n",
    "Finally, a `grid search` is performed with `5-fold cross-validation` using the `GridSearchCV` function with the previously defined pipeline and hyperparameter grid. The `accuracy score` is used as the `evaluation metric` for the grid search. The fit function is then called on the `grid_mr` object to fit the pipeline on the training data and search for the `optimal hyperparameters`.\n",
    "\n",
    "### Visualizing Classifier Results"
   ]
  },
  {
   "cell_type": "code",
   "execution_count": 16,
   "id": "8353faf6-f556-4fb4-90a2-10c05a3c05c4",
   "metadata": {},
   "outputs": [
    {
     "name": "stdout",
     "output_type": "stream",
     "text": [
      "Best Hyperparameters: {'classifier__C': 10}\n",
      "CV Validation Accuracy: 92.25 %\n",
      "Metric make_scorer(accuracy_score)\n"
     ]
    }
   ],
   "source": [
    "# Print best hyperparameters and score\n",
    "print(\"Best Hyperparameters:\", grid_mr.best_params_)\n",
    "print(\"CV Validation Accuracy: %.2f %%\" % (grid_mr.best_score_*100))\n",
    "print('Metric', grid_mr.scorer_)"
   ]
  },
  {
   "cell_type": "markdown",
   "id": "dda639a9-8ea0-45ab-bfe4-ee79a5a55adc",
   "metadata": {},
   "source": [
    "The output shows the best hyperparameters selected by the grid search and the `cross-validation accuracy` achieved using those hyperparameters. \n",
    "\n",
    "The best hyperparameters for the Logistic Regression model are {`'classifier__C': 10`}, which means that the inverse of the `regularization strength is 10`. \n",
    "\n",
    "The cross-validation `accuracy` achieved using this hyperparameter is `92.25%`. This means that the model correctly predicted the class of 92.25% of the samples in the validation set.\n",
    "\n",
    "Finally, the output also shows the metric used for scoring during the grid search. In this case, the accuracy_score metric was used."
   ]
  },
  {
   "cell_type": "code",
   "execution_count": 17,
   "id": "dc02bdda-5a4b-4e76-a032-929664b55224",
   "metadata": {},
   "outputs": [
    {
     "name": "stdout",
     "output_type": "stream",
     "text": [
      "Best Score on Validation Data for Multinomial regression\n"
     ]
    },
    {
     "data": {
      "text/html": [
       "<style>#sk-container-id-4 {color: black;background-color: white;}#sk-container-id-4 pre{padding: 0;}#sk-container-id-4 div.sk-toggleable {background-color: white;}#sk-container-id-4 label.sk-toggleable__label {cursor: pointer;display: block;width: 100%;margin-bottom: 0;padding: 0.3em;box-sizing: border-box;text-align: center;}#sk-container-id-4 label.sk-toggleable__label-arrow:before {content: \"▸\";float: left;margin-right: 0.25em;color: #696969;}#sk-container-id-4 label.sk-toggleable__label-arrow:hover:before {color: black;}#sk-container-id-4 div.sk-estimator:hover label.sk-toggleable__label-arrow:before {color: black;}#sk-container-id-4 div.sk-toggleable__content {max-height: 0;max-width: 0;overflow: hidden;text-align: left;background-color: #f0f8ff;}#sk-container-id-4 div.sk-toggleable__content pre {margin: 0.2em;color: black;border-radius: 0.25em;background-color: #f0f8ff;}#sk-container-id-4 input.sk-toggleable__control:checked~div.sk-toggleable__content {max-height: 200px;max-width: 100%;overflow: auto;}#sk-container-id-4 input.sk-toggleable__control:checked~label.sk-toggleable__label-arrow:before {content: \"▾\";}#sk-container-id-4 div.sk-estimator input.sk-toggleable__control:checked~label.sk-toggleable__label {background-color: #d4ebff;}#sk-container-id-4 div.sk-label input.sk-toggleable__control:checked~label.sk-toggleable__label {background-color: #d4ebff;}#sk-container-id-4 input.sk-hidden--visually {border: 0;clip: rect(1px 1px 1px 1px);clip: rect(1px, 1px, 1px, 1px);height: 1px;margin: -1px;overflow: hidden;padding: 0;position: absolute;width: 1px;}#sk-container-id-4 div.sk-estimator {font-family: monospace;background-color: #f0f8ff;border: 1px dotted black;border-radius: 0.25em;box-sizing: border-box;margin-bottom: 0.5em;}#sk-container-id-4 div.sk-estimator:hover {background-color: #d4ebff;}#sk-container-id-4 div.sk-parallel-item::after {content: \"\";width: 100%;border-bottom: 1px solid gray;flex-grow: 1;}#sk-container-id-4 div.sk-label:hover label.sk-toggleable__label {background-color: #d4ebff;}#sk-container-id-4 div.sk-serial::before {content: \"\";position: absolute;border-left: 1px solid gray;box-sizing: border-box;top: 0;bottom: 0;left: 50%;z-index: 0;}#sk-container-id-4 div.sk-serial {display: flex;flex-direction: column;align-items: center;background-color: white;padding-right: 0.2em;padding-left: 0.2em;position: relative;}#sk-container-id-4 div.sk-item {position: relative;z-index: 1;}#sk-container-id-4 div.sk-parallel {display: flex;align-items: stretch;justify-content: center;background-color: white;position: relative;}#sk-container-id-4 div.sk-item::before, #sk-container-id-4 div.sk-parallel-item::before {content: \"\";position: absolute;border-left: 1px solid gray;box-sizing: border-box;top: 0;bottom: 0;left: 50%;z-index: -1;}#sk-container-id-4 div.sk-parallel-item {display: flex;flex-direction: column;z-index: 1;position: relative;background-color: white;}#sk-container-id-4 div.sk-parallel-item:first-child::after {align-self: flex-end;width: 50%;}#sk-container-id-4 div.sk-parallel-item:last-child::after {align-self: flex-start;width: 50%;}#sk-container-id-4 div.sk-parallel-item:only-child::after {width: 0;}#sk-container-id-4 div.sk-dashed-wrapped {border: 1px dashed gray;margin: 0 0.4em 0.5em 0.4em;box-sizing: border-box;padding-bottom: 0.4em;background-color: white;}#sk-container-id-4 div.sk-label label {font-family: monospace;font-weight: bold;display: inline-block;line-height: 1.2em;}#sk-container-id-4 div.sk-label-container {text-align: center;}#sk-container-id-4 div.sk-container {/* jupyter's `normalize.less` sets `[hidden] { display: none; }` but bootstrap.min.css set `[hidden] { display: none !important; }` so we also need the `!important` here to be able to override the default hidden behavior on the sphinx rendered scikit-learn.org. See: https://github.com/scikit-learn/scikit-learn/issues/21755 */display: inline-block !important;position: relative;}#sk-container-id-4 div.sk-text-repr-fallback {display: none;}</style><div id=\"sk-container-id-4\" class=\"sk-top-container\"><div class=\"sk-text-repr-fallback\"><pre>Pipeline(steps=[(&#x27;preprocessor&#x27;,\n",
       "                 ColumnTransformer(transformers=[(&#x27;num&#x27;,\n",
       "                                                  Pipeline(steps=[(&#x27;scaler&#x27;,\n",
       "                                                                   StandardScaler())]),\n",
       "                                                  Index([&#x27;Height&#x27;, &#x27;Weight&#x27;], dtype=&#x27;object&#x27;)),\n",
       "                                                 (&#x27;cat&#x27;,\n",
       "                                                  Pipeline(steps=[(&#x27;onehot&#x27;,\n",
       "                                                                   OneHotEncoder())]),\n",
       "                                                  [&#x27;Gender&#x27;])])),\n",
       "                (&#x27;classifier&#x27;,\n",
       "                 LogisticRegression(C=10, multi_class=&#x27;multinomial&#x27;))])</pre><b>In a Jupyter environment, please rerun this cell to show the HTML representation or trust the notebook. <br />On GitHub, the HTML representation is unable to render, please try loading this page with nbviewer.org.</b></div><div class=\"sk-container\" hidden><div class=\"sk-item sk-dashed-wrapped\"><div class=\"sk-label-container\"><div class=\"sk-label sk-toggleable\"><input class=\"sk-toggleable__control sk-hidden--visually\" id=\"sk-estimator-id-24\" type=\"checkbox\" ><label for=\"sk-estimator-id-24\" class=\"sk-toggleable__label sk-toggleable__label-arrow\">Pipeline</label><div class=\"sk-toggleable__content\"><pre>Pipeline(steps=[(&#x27;preprocessor&#x27;,\n",
       "                 ColumnTransformer(transformers=[(&#x27;num&#x27;,\n",
       "                                                  Pipeline(steps=[(&#x27;scaler&#x27;,\n",
       "                                                                   StandardScaler())]),\n",
       "                                                  Index([&#x27;Height&#x27;, &#x27;Weight&#x27;], dtype=&#x27;object&#x27;)),\n",
       "                                                 (&#x27;cat&#x27;,\n",
       "                                                  Pipeline(steps=[(&#x27;onehot&#x27;,\n",
       "                                                                   OneHotEncoder())]),\n",
       "                                                  [&#x27;Gender&#x27;])])),\n",
       "                (&#x27;classifier&#x27;,\n",
       "                 LogisticRegression(C=10, multi_class=&#x27;multinomial&#x27;))])</pre></div></div></div><div class=\"sk-serial\"><div class=\"sk-item sk-dashed-wrapped\"><div class=\"sk-label-container\"><div class=\"sk-label sk-toggleable\"><input class=\"sk-toggleable__control sk-hidden--visually\" id=\"sk-estimator-id-25\" type=\"checkbox\" ><label for=\"sk-estimator-id-25\" class=\"sk-toggleable__label sk-toggleable__label-arrow\">preprocessor: ColumnTransformer</label><div class=\"sk-toggleable__content\"><pre>ColumnTransformer(transformers=[(&#x27;num&#x27;,\n",
       "                                 Pipeline(steps=[(&#x27;scaler&#x27;, StandardScaler())]),\n",
       "                                 Index([&#x27;Height&#x27;, &#x27;Weight&#x27;], dtype=&#x27;object&#x27;)),\n",
       "                                (&#x27;cat&#x27;,\n",
       "                                 Pipeline(steps=[(&#x27;onehot&#x27;, OneHotEncoder())]),\n",
       "                                 [&#x27;Gender&#x27;])])</pre></div></div></div><div class=\"sk-parallel\"><div class=\"sk-parallel-item\"><div class=\"sk-item\"><div class=\"sk-label-container\"><div class=\"sk-label sk-toggleable\"><input class=\"sk-toggleable__control sk-hidden--visually\" id=\"sk-estimator-id-26\" type=\"checkbox\" ><label for=\"sk-estimator-id-26\" class=\"sk-toggleable__label sk-toggleable__label-arrow\">num</label><div class=\"sk-toggleable__content\"><pre>Index([&#x27;Height&#x27;, &#x27;Weight&#x27;], dtype=&#x27;object&#x27;)</pre></div></div></div><div class=\"sk-serial\"><div class=\"sk-item\"><div class=\"sk-serial\"><div class=\"sk-item\"><div class=\"sk-estimator sk-toggleable\"><input class=\"sk-toggleable__control sk-hidden--visually\" id=\"sk-estimator-id-27\" type=\"checkbox\" ><label for=\"sk-estimator-id-27\" class=\"sk-toggleable__label sk-toggleable__label-arrow\">StandardScaler</label><div class=\"sk-toggleable__content\"><pre>StandardScaler()</pre></div></div></div></div></div></div></div></div><div class=\"sk-parallel-item\"><div class=\"sk-item\"><div class=\"sk-label-container\"><div class=\"sk-label sk-toggleable\"><input class=\"sk-toggleable__control sk-hidden--visually\" id=\"sk-estimator-id-28\" type=\"checkbox\" ><label for=\"sk-estimator-id-28\" class=\"sk-toggleable__label sk-toggleable__label-arrow\">cat</label><div class=\"sk-toggleable__content\"><pre>[&#x27;Gender&#x27;]</pre></div></div></div><div class=\"sk-serial\"><div class=\"sk-item\"><div class=\"sk-serial\"><div class=\"sk-item\"><div class=\"sk-estimator sk-toggleable\"><input class=\"sk-toggleable__control sk-hidden--visually\" id=\"sk-estimator-id-29\" type=\"checkbox\" ><label for=\"sk-estimator-id-29\" class=\"sk-toggleable__label sk-toggleable__label-arrow\">OneHotEncoder</label><div class=\"sk-toggleable__content\"><pre>OneHotEncoder()</pre></div></div></div></div></div></div></div></div></div></div><div class=\"sk-item\"><div class=\"sk-estimator sk-toggleable\"><input class=\"sk-toggleable__control sk-hidden--visually\" id=\"sk-estimator-id-30\" type=\"checkbox\" ><label for=\"sk-estimator-id-30\" class=\"sk-toggleable__label sk-toggleable__label-arrow\">LogisticRegression</label><div class=\"sk-toggleable__content\"><pre>LogisticRegression(C=10, multi_class=&#x27;multinomial&#x27;)</pre></div></div></div></div></div></div></div>"
      ],
      "text/plain": [
       "Pipeline(steps=[('preprocessor',\n",
       "                 ColumnTransformer(transformers=[('num',\n",
       "                                                  Pipeline(steps=[('scaler',\n",
       "                                                                   StandardScaler())]),\n",
       "                                                  Index(['Height', 'Weight'], dtype='object')),\n",
       "                                                 ('cat',\n",
       "                                                  Pipeline(steps=[('onehot',\n",
       "                                                                   OneHotEncoder())]),\n",
       "                                                  ['Gender'])])),\n",
       "                ('classifier',\n",
       "                 LogisticRegression(C=10, multi_class='multinomial'))])"
      ]
     },
     "execution_count": 17,
     "metadata": {},
     "output_type": "execute_result"
    }
   ],
   "source": [
    "print('Best Score on Validation Data for Multinomial regression')\n",
    "grid_mr.best_estimator_"
   ]
  },
  {
   "cell_type": "markdown",
   "id": "4c4eb691-351e-4fa5-87d9-b79447e22d8a",
   "metadata": {},
   "source": [
    "- The code `grid_mr.best_estimator_ `returns the best estimator found by the grid search, which consists of the preprocessor pipeline and the logistic regression model with the best hyperparameters. \n",
    "- This can be useful to access specific attributes or methods of the best estimator. "
   ]
  },
  {
   "cell_type": "markdown",
   "id": "9df7cee2-e641-4b41-b896-381b7ff1a943",
   "metadata": {},
   "source": [
    "**Confusion Metrics**"
   ]
  },
  {
   "cell_type": "code",
   "execution_count": 18,
   "id": "5b15f23e-b3be-4321-a23f-3458bc0518ae",
   "metadata": {},
   "outputs": [
    {
     "data": {
      "image/png": "[encoded data removed]",
      "text/plain": [
       "<Figure size 576x576 with 1 Axes>"
      ]
     },
     "metadata": {
      "needs_background": "light"
     },
     "output_type": "display_data"
    }
   ],
   "source": [
    "# Set the figure size\n",
    "fig, ax = plt.subplots(figsize=(8, 8))\n",
    "\n",
    "# Display the confusion matrix\n",
    "cm = ConfusionMatrixDisplay.from_estimator(grid_mr.best_estimator_, \n",
    "                                           X_test, y_test, \n",
    "                                           display_labels=['Extremely Weak', 'Weak','Normal', 'Overweight', 'Obesity', 'Extreme Obesit'],\n",
    "                                           cmap=\"Greens\",\n",
    "                                           colorbar=False,\n",
    "                                           ax=ax)\n",
    "                                           \n",
    "cm.ax_.set_title(\"Confusion Matrix\")\n",
    "plt.show()\n"
   ]
  },
  {
   "cell_type": "markdown",
   "id": "3b60018a-0b07-43e1-9847-3fd87eeefec2",
   "metadata": {},
   "source": [
    "As the classification is imbalanced, precision, recall, and f1-score will be used as evaluation metrics to assess the Multinomial Regression model's performance.\n",
    "\n",
    "### Calculating Precision, Recall and F1-Score"
   ]
  },
  {
   "cell_type": "code",
   "execution_count": 19,
   "id": "4a3dc753-03f6-4670-b51d-cae65fce68b4",
   "metadata": {},
   "outputs": [],
   "source": [
    "# Predict on the test set\n",
    "y_pred_mr = grid_mr.predict(X_test)\n",
    "\n",
    "# Calculate evaluation metrics\n",
    "prf_mr = precision_recall_fscore_support(y_test, y_pred_mr, average='weighted')"
   ]
  },
  {
   "cell_type": "markdown",
   "id": "d3d6521d-34a4-4241-8e70-22018a245c74",
   "metadata": {},
   "source": [
    "The `precision_recall_fscore_support` function calculates the precision, recall, F1-score, and support for each class and returns the weighted average of these metrics across all classes.\n",
    "\n",
    "In this case, `y_test` contains the true labels for the test set and `y_pred_mr` contains the predicted labels generated by the Multinomial logistic regression model. The `average='weighted'` parameter calculates the weighted average of precision, recall, and F1-score, taking into account class imbalances. \n",
    "\n",
    "The calculated evaluation metrics for the Multinomial logistic regression model can be accessed through the `prf_mr` variable."
   ]
  },
  {
   "cell_type": "code",
   "execution_count": 20,
   "id": "b0832a94-1943-49b7-bc6f-fd68f1ab4684",
   "metadata": {},
   "outputs": [
    {
     "name": "stdout",
     "output_type": "stream",
     "text": [
      "Classification report:\n",
      "              precision    recall  f1-score   support\n",
      "\n",
      "           0       1.00      0.33      0.50         3\n",
      "           1       0.50      0.50      0.50         4\n",
      "           2       0.81      0.93      0.87        14\n",
      "           3       0.93      0.93      0.93        14\n",
      "           4       0.89      0.96      0.93        26\n",
      "           5       1.00      0.95      0.97        39\n",
      "\n",
      "    accuracy                           0.91       100\n",
      "   macro avg       0.86      0.77      0.78       100\n",
      "weighted avg       0.92      0.91      0.91       100\n",
      "\n",
      "Precision: 0.9159\n",
      "Recall: 0.9100\n",
      "F1-score: 0.9068\n"
     ]
    }
   ],
   "source": [
    "# Print the classification report\n",
    "print(\"Classification report:\")\n",
    "print(classification_report(y_test, y_pred_mr))\n",
    "\n",
    "# Print the evaluation metrics\n",
    "print(\"Precision: {:.4f}\".format(prf_mr[0]))\n",
    "print(\"Recall: {:.4f}\".format(prf_mr[1]))\n",
    "print(\"F1-score: {:.4f}\".format(prf_mr[2]))"
   ]
  },
  {
   "cell_type": "markdown",
   "id": "9f1ba8f5-28c3-423f-a155-2b42e92f8aad",
   "metadata": {},
   "source": [
    "- The `classification report` shows the `precision`, `recall`, and `F1-score` for each class, as well as the weighted average metrics. \n",
    "- The precision metric measures the proportion of true positive predictions in all positive predictions. \n",
    "- The recall metric measures the proportion of true positive predictions in all actual positives. \n",
    "- The F1-score is the harmonic mean of precision and recall. \n",
    "\n",
    "**Classification Report of Multinomial Regression Model**\n",
    "\n",
    "1. Based on the classification report, the logistic regression model achieved an `overall accuracy` of `91%`, with `precision` of `0.92`, `recall` of `0.91`, and `F1-score` of `0.91`. \n",
    "2. The model performed relatively well in predicting the `'Normal'` weight class with a high `F1-score` of `0.87` and the `'Extreme Obesity'` class with an `F1-score` of `0.97`. \n",
    "3. However, it didn't perform well in predicting the `'Extremely Weak'` class with an `F1-score` of `0.50`. \n",
    "4. The weighted average of the `precision`, `recall`, and `F1-score` is calculated based on the support of each class, which is the number of instances in each class."
   ]
  },
  {
   "cell_type": "markdown",
   "id": "5aba0810-2954-465e-be98-53828fa1fa0e",
   "metadata": {},
   "source": [
    "## Choosing Final Model\n",
    "\n",
    "The `logistic regression model outperforms the KNN model` in terms of overall accuracy, precision, recall, and F1-score. The logistic regression model achieved an overall accuracy of 91%, with a precision of 0.92, recall of 0.91, and F1-score of 0.91, while the KNN model achieved an overall accuracy of 84% with a weighted average precision, recall, and F1-score of 85%, 84%, and 84%, respectively. \n",
    "\n",
    "Although `the KNN model performed well in predicting some classes`, such as the Extreme Obesity class with an F1-score of 94%, it had a very low F1-score of 50% for the Extremely Weak class. Moreover, the macro-averaged precision, recall, and F1-score of the KNN model were around 70%, indicating that the model was performing reasonably well in predicting each class. \n",
    "\n",
    "On the other hand, `the logistic regression model performed relatively well in predicting the 'Normal' weight class with a high F1-score of 0.87 and the 'Extreme Obesity' class with an F1-score of 0.97`. Although it didn't perform well in predicting the 'Extremely Weak' class with an F1-score of 0.50, it outperformed the KNN model overall. Therefore, `we should choose the logistic regression model` as the better model for this classification task.\n",
    "\n",
    "### Creating the Final model with fine-tuned hyperparameters using Multinomial regression."
   ]
  },
  {
   "cell_type": "code",
   "execution_count": 21,
   "id": "520a6920-9c21-4cb4-86e1-688a59d2b51e",
   "metadata": {},
   "outputs": [
    {
     "data": {
      "image/png": "[encoded data removed]",
      "text/plain": [
       "<Figure size 576x576 with 1 Axes>"
      ]
     },
     "metadata": {
      "needs_background": "light"
     },
     "output_type": "display_data"
    },
    {
     "name": "stdout",
     "output_type": "stream",
     "text": [
      "Classification report:\n",
      "              precision    recall  f1-score   support\n",
      "\n",
      "           0       1.00      0.33      0.50         3\n",
      "           1       0.50      0.50      0.50         4\n",
      "           2       0.81      0.93      0.87        14\n",
      "           3       0.93      0.93      0.93        14\n",
      "           4       0.89      0.96      0.93        26\n",
      "           5       1.00      0.95      0.97        39\n",
      "\n",
      "    accuracy                           0.91       100\n",
      "   macro avg       0.86      0.77      0.78       100\n",
      "weighted avg       0.92      0.91      0.91       100\n",
      "\n",
      "------------------------------\n",
      "Accuracy: 91.00%\n",
      "Precision: 0.9159\n",
      "Recall: 0.9100\n",
      "F1-score: 0.9068\n"
     ]
    }
   ],
   "source": [
    "# Load Data\n",
    "data = pd.read_csv(\"datasets/bmi.csv\")\n",
    "\n",
    "# Split the data set into training and test sets\n",
    "X_train, X_test, y_train, y_test = train_test_split(\n",
    "    data.drop(columns=['Index']), \n",
    "    data['Index'], \n",
    "    test_size=0.2, \n",
    "    random_state=1300, \n",
    "    stratify=data['Index']\n",
    ")\n",
    "\n",
    "# Set up the preprocessing pipeline\n",
    "numerical_transformer = Pipeline(steps=[('scaler', StandardScaler())])\n",
    "categorical_transformer = Pipeline(steps=[('onehot', OneHotEncoder())])\n",
    "preprocessor = ColumnTransformer(transformers=[('num', numerical_transformer, X_train.select_dtypes(include=['float64','int64']).columns),\n",
    "                                               ('cat', categorical_transformer, ['Gender'])])\n",
    "\n",
    "# Set up the model pipeline \n",
    "model = Pipeline(steps=[('preprocessor', preprocessor),\n",
    "                       ('classifier', LogisticRegression(multi_class='multinomial', C=10, solver='lbfgs'))]) \n",
    "model.fit(X_train, y_train) \n",
    "\n",
    "# Set the figure size\n",
    "fig, ax = plt.subplots(figsize=(8, 8))\n",
    "\n",
    "# Predict on the test set\n",
    "y_pred = model.predict(X_test)\n",
    "\n",
    "# Plot confusion matrix\n",
    "cm = ConfusionMatrixDisplay.from_predictions(y_test, y_pred,\n",
    "                                        display_labels=['Extremely Weak', 'Weak','Normal', 'Overweight', 'Obesity', 'Extreme Obesit'],\n",
    "                                        cmap=\"Blues\",\n",
    "                                        colorbar=False,\n",
    "                                        ax=ax)\n",
    "cm.ax_.set_title(\"Confusion Matrix\")\n",
    "plt.show()\n",
    "\n",
    "# Calculate evaluation metrics\n",
    "prf = precision_recall_fscore_support(y_test, y_pred, average='weighted')\n",
    "\n",
    "# Print the classification report\n",
    "print(\"Classification report:\")\n",
    "print(classification_report(y_test, y_pred))\n",
    "\n",
    "acc = accuracy_score(y_test, y_pred)\n",
    "print('------------------------------')\n",
    "print(\"Accuracy: %.2f%%\" %  (acc*100))\n",
    "\n",
    "# Print the evaluation metrics\n",
    "print(\"Precision: {:.4f}\".format(prf[0]))\n",
    "print(\"Recall: {:.4f}\".format(prf[1]))\n",
    "print(\"F1-score: {:.4f}\".format(prf[2]))"
   ]
  },
  {
   "cell_type": "markdown",
   "id": "18543aab-b023-4879-833b-8bbada6a9d7b",
   "metadata": {},
   "source": [
    "## Conclusion\n",
    "\n",
    "**Summary of the classification report and accuracy metrics**:\n",
    "\n",
    "- The overall `accuracy` of the model is `91.00%`, which means that it correctly classified 91 out of 100 instances in the test set.\n",
    "- Precision refers to the proportion of instances that were correctly classified as a particular class out of all instances that were predicted to be that class. The weighted average `precision` of the model is `0.9159`.\n",
    "- Recall, or sensitivity, refers to the proportion of instances that were correctly classified as a particular class out of all instances that actually belong to that class. The weighted average `recall` of the model is` 0.9100`.\n",
    "- F1-score is the harmonic mean of precision and recall. The weighted average `F1-score `of the model is `0.9068`.\n",
    "- The classification report provides a breakdown of precision, recall, and F1-score for each individual class.\n",
    "- The `confusion matrix` and `classification` report indicate that the `model performs well` for most classes, but has some difficulty with the \"Extremely Weak\" and \"Weak\" classes, as indicated by their lower precision and recall scores.\n",
    "- Overall, the model seems to be performing well, but may benefit from further tuning and optimization to improve its performance on the lower-performing classes."
   ]
  },
  {
   "cell_type": "code",
   "execution_count": 22,
   "id": "166b2104-ace0-475e-afc9-1abf98e1e0e8",
   "metadata": {},
   "outputs": [
    {
     "data": {
      "text/html": [
       "<details>\n",
       "<summary>Click to view session information</summary>\n",
       "<pre>\n",
       "-----\n",
       "matplotlib          3.5.1\n",
       "numpy               1.21.5\n",
       "pandas              1.4.2\n",
       "session_info        1.0.0\n",
       "sklearn             1.2.2\n",
       "-----\n",
       "</pre>\n",
       "<details>\n",
       "<summary>Click to view modules imported as dependencies</summary>\n",
       "<pre>\n",
       "PIL                         9.0.1\n",
       "asttokens                   NA\n",
       "backcall                    0.2.0\n",
       "bottleneck                  1.3.4\n",
       "cffi                        1.15.0\n",
       "colorama                    0.4.4\n",
       "cycler                      0.10.0\n",
       "cython_runtime              NA\n",
       "dateutil                    2.8.2\n",
       "debugpy                     1.5.1\n",
       "decorator                   5.1.1\n",
       "defusedxml                  0.7.1\n",
       "executing                   0.8.3\n",
       "google                      NA\n",
       "importlib_metadata          NA\n",
       "ipykernel                   6.9.1\n",
       "ipython_genutils            0.2.0\n",
       "jedi                        0.18.1\n",
       "joblib                      1.2.0\n",
       "jupyter_server              1.13.5\n",
       "kiwisolver                  1.3.2\n",
       "matplotlib_inline           NA\n",
       "mkl                         2.4.0\n",
       "mpl_toolkits                NA\n",
       "nt                          NA\n",
       "ntsecuritycon               NA\n",
       "numexpr                     2.8.1\n",
       "packaging                   21.3\n",
       "parso                       0.8.3\n",
       "pickleshare                 0.7.5\n",
       "pkg_resources               NA\n",
       "prompt_toolkit              3.0.20\n",
       "psutil                      5.8.0\n",
       "pure_eval                   0.2.2\n",
       "pydev_ipython               NA\n",
       "pydevconsole                NA\n",
       "pydevd                      2.6.0\n",
       "pydevd_concurrency_analyser NA\n",
       "pydevd_file_utils           NA\n",
       "pydevd_plugins              NA\n",
       "pydevd_tracing              NA\n",
       "pygments                    2.11.2\n",
       "pyparsing                   3.0.4\n",
       "pythoncom                   NA\n",
       "pytz                        2021.3\n",
       "pywintypes                  NA\n",
       "ruamel                      NA\n",
       "scipy                       1.10.1\n",
       "setuptools                  61.2.0\n",
       "six                         1.16.0\n",
       "sphinxcontrib               NA\n",
       "stack_data                  0.2.0\n",
       "threadpoolctl               2.2.0\n",
       "tornado                     6.1\n",
       "traitlets                   5.1.1\n",
       "typing_extensions           NA\n",
       "wcwidth                     0.2.5\n",
       "win32api                    NA\n",
       "win32com                    NA\n",
       "win32security               NA\n",
       "zipp                        NA\n",
       "zmq                         22.3.0\n",
       "zope                        NA\n",
       "</pre>\n",
       "</details> <!-- seems like this ends pre, so might as well be explicit -->\n",
       "<pre>\n",
       "-----\n",
       "IPython             8.2.0\n",
       "jupyter_client      6.1.12\n",
       "jupyter_core        4.9.2\n",
       "jupyterlab          3.3.2\n",
       "notebook            6.4.8\n",
       "-----\n",
       "Python 3.9.12 (main, Apr  4 2022, 05:22:27) [MSC v.1916 64 bit (AMD64)]\n",
       "Windows-10-10.0.19045-SP0\n",
       "-----\n",
       "Session information updated at 2023-05-01 17:48\n",
       "</pre>\n",
       "</details>"
      ],
      "text/plain": [
       "<IPython.core.display.HTML object>"
      ]
     },
     "execution_count": 22,
     "metadata": {},
     "output_type": "execute_result"
    }
   ],
   "source": [
    "import session_info\n",
    "session_info.show()"
   ]
  }
 ],
 "metadata": {
  "kernelspec": {
   "display_name": "Python 3 (ipykernel)",
   "language": "python",
   "name": "python3"
  },
  "language_info": {
   "codemirror_mode": {
    "name": "ipython",
    "version": 3
   },
   "file_extension": ".py",
   "mimetype": "text/x-python",
   "name": "python",
   "nbconvert_exporter": "python",
   "pygments_lexer": "ipython3",
   "version": "3.10.4"
  }
 },
 "nbformat": 4,
 "nbformat_minor": 5
}
