{
 "cells": [
  {
   "cell_type": "raw",
   "id": "d24fc445-6256-488d-a04e-aef3db62239d",
   "metadata": {},
   "source": [
    "---\n",
    "title: \"Task 1\"\n",
    "subtitle: \"Feature Selection\"\n",
    "author: \"Tanzeela Javid Kaloo\"\n",
    "date: \"March 21, 2023\"\n",
    "---"
   ]
  },
  {
   "cell_type": "markdown",
   "id": "db8c59b9-c0c7-49f6-bd1a-80b81ce2122c",
   "metadata": {},
   "source": [
    "**Task 1:** Find a data set which is suitable for regression analysis and consists of at least 6-7 numerical features only. \n",
    "Check for possible multicollinearity problems in the data set and remedy this problem if it exists.\n",
    "Then, apply feature selection algorithms to find the best subset. Explain the reason (give support) why you picked that model as the final one.\n"
   ]
  },
  {
   "cell_type": "markdown",
   "id": "733f1643-bb84-4278-9e62-1f63d6adfa45",
   "metadata": {
    "tags": []
   },
   "source": [
    "## Used Car Data Set Description\n",
    "\n",
    "This data set contains information about used cars for sale in India. The data set includes the following features:\n",
    "\n",
    "- `Name` : The brand and model of the car.\n",
    "- `Location` : The location in which the car is being sold or is available for purchase.\n",
    "- `Year`: The year or edition of the model.\n",
    "- `Kilometers_Driven` : The total kilometers driven in the car by the previous owner(s) in KM.\n",
    "- `Fuel_Type` : The type of fuel used by the car.\n",
    "- `Transmission` : The type of transmission used by the car.\n",
    "- `Owner_Type` : Whether the ownership is Firsthand, Second hand or other.\n",
    "- `Mileage` : The standard mileage offered by the car company in kmpl or km/kg.\n",
    "- `Engine` : The displacement volume of the engine in cc.\n",
    "- `Power` : The maximum power of the engine in bhp.\n",
    "- `Seats` : The number of seats in the car.\n",
    "- `New_Price` : Price of new model.\n",
    "- `Price` : The price of the used car in INR Lakhs.$$Lakh = \\frac{million}{10}$$\n",
    "\n",
    "\n",
    "This data set can be used to analyze the pricing trends of used cars in India based on various factors such as location, year, kilometers driven, and other features. Additionally, this data set can be used to build predictive models to estimate the price of used cars based on their characteristics.\n"
   ]
  },
  {
   "cell_type": "code",
   "execution_count": 1,
   "id": "54180f9e-cf2b-4adc-bdae-c542c42fd935",
   "metadata": {},
   "outputs": [
    {
     "data": {
      "text/html": [
       "<div>\n",
       "<style scoped>\n",
       "    .dataframe tbody tr th:only-of-type {\n",
       "        vertical-align: middle;\n",
       "    }\n",
       "\n",
       "    .dataframe tbody tr th {\n",
       "        vertical-align: top;\n",
       "    }\n",
       "\n",
       "    .dataframe thead th {\n",
       "        text-align: right;\n",
       "    }\n",
       "</style>\n",
       "<table border=\"1\" class=\"dataframe\">\n",
       "  <thead>\n",
       "    <tr style=\"text-align: right;\">\n",
       "      <th></th>\n",
       "      <th>Name</th>\n",
       "      <th>Location</th>\n",
       "      <th>Year</th>\n",
       "      <th>Kilometers_Driven</th>\n",
       "      <th>Fuel_Type</th>\n",
       "      <th>Transmission</th>\n",
       "      <th>Owner_Type</th>\n",
       "      <th>Mileage</th>\n",
       "      <th>Engine</th>\n",
       "      <th>Power</th>\n",
       "      <th>Seats</th>\n",
       "      <th>New_Price</th>\n",
       "      <th>Price</th>\n",
       "    </tr>\n",
       "  </thead>\n",
       "  <tbody>\n",
       "    <tr>\n",
       "      <th>0</th>\n",
       "      <td>Maruti Wagon R LXI CNG</td>\n",
       "      <td>Mumbai</td>\n",
       "      <td>2010</td>\n",
       "      <td>72000</td>\n",
       "      <td>CNG</td>\n",
       "      <td>Manual</td>\n",
       "      <td>First</td>\n",
       "      <td>26.6 km/kg</td>\n",
       "      <td>998 CC</td>\n",
       "      <td>58.16 bhp</td>\n",
       "      <td>5.0</td>\n",
       "      <td>NaN</td>\n",
       "      <td>1.75</td>\n",
       "    </tr>\n",
       "    <tr>\n",
       "      <th>1</th>\n",
       "      <td>Hyundai Creta 1.6 CRDi SX Option</td>\n",
       "      <td>Pune</td>\n",
       "      <td>2015</td>\n",
       "      <td>41000</td>\n",
       "      <td>Diesel</td>\n",
       "      <td>Manual</td>\n",
       "      <td>First</td>\n",
       "      <td>19.67 kmpl</td>\n",
       "      <td>1582 CC</td>\n",
       "      <td>126.2 bhp</td>\n",
       "      <td>5.0</td>\n",
       "      <td>NaN</td>\n",
       "      <td>12.50</td>\n",
       "    </tr>\n",
       "    <tr>\n",
       "      <th>2</th>\n",
       "      <td>Honda Jazz V</td>\n",
       "      <td>Chennai</td>\n",
       "      <td>2011</td>\n",
       "      <td>46000</td>\n",
       "      <td>Petrol</td>\n",
       "      <td>Manual</td>\n",
       "      <td>First</td>\n",
       "      <td>18.2 kmpl</td>\n",
       "      <td>1199 CC</td>\n",
       "      <td>88.7 bhp</td>\n",
       "      <td>5.0</td>\n",
       "      <td>8.61 Lakh</td>\n",
       "      <td>4.50</td>\n",
       "    </tr>\n",
       "    <tr>\n",
       "      <th>3</th>\n",
       "      <td>Maruti Ertiga VDI</td>\n",
       "      <td>Chennai</td>\n",
       "      <td>2012</td>\n",
       "      <td>87000</td>\n",
       "      <td>Diesel</td>\n",
       "      <td>Manual</td>\n",
       "      <td>First</td>\n",
       "      <td>20.77 kmpl</td>\n",
       "      <td>1248 CC</td>\n",
       "      <td>88.76 bhp</td>\n",
       "      <td>7.0</td>\n",
       "      <td>NaN</td>\n",
       "      <td>6.00</td>\n",
       "    </tr>\n",
       "    <tr>\n",
       "      <th>4</th>\n",
       "      <td>Audi A4 New 2.0 TDI Multitronic</td>\n",
       "      <td>Coimbatore</td>\n",
       "      <td>2013</td>\n",
       "      <td>40670</td>\n",
       "      <td>Diesel</td>\n",
       "      <td>Automatic</td>\n",
       "      <td>Second</td>\n",
       "      <td>15.2 kmpl</td>\n",
       "      <td>1968 CC</td>\n",
       "      <td>140.8 bhp</td>\n",
       "      <td>5.0</td>\n",
       "      <td>NaN</td>\n",
       "      <td>17.74</td>\n",
       "    </tr>\n",
       "  </tbody>\n",
       "</table>\n",
       "</div>"
      ],
      "text/plain": [
       "                               Name    Location  Year  Kilometers_Driven   \n",
       "0            Maruti Wagon R LXI CNG      Mumbai  2010              72000  \\\n",
       "1  Hyundai Creta 1.6 CRDi SX Option        Pune  2015              41000   \n",
       "2                      Honda Jazz V     Chennai  2011              46000   \n",
       "3                 Maruti Ertiga VDI     Chennai  2012              87000   \n",
       "4   Audi A4 New 2.0 TDI Multitronic  Coimbatore  2013              40670   \n",
       "\n",
       "  Fuel_Type Transmission Owner_Type     Mileage   Engine      Power  Seats   \n",
       "0       CNG       Manual      First  26.6 km/kg   998 CC  58.16 bhp    5.0  \\\n",
       "1    Diesel       Manual      First  19.67 kmpl  1582 CC  126.2 bhp    5.0   \n",
       "2    Petrol       Manual      First   18.2 kmpl  1199 CC   88.7 bhp    5.0   \n",
       "3    Diesel       Manual      First  20.77 kmpl  1248 CC  88.76 bhp    7.0   \n",
       "4    Diesel    Automatic     Second   15.2 kmpl  1968 CC  140.8 bhp    5.0   \n",
       "\n",
       "   New_Price  Price  \n",
       "0        NaN   1.75  \n",
       "1        NaN  12.50  \n",
       "2  8.61 Lakh   4.50  \n",
       "3        NaN   6.00  \n",
       "4        NaN  17.74  "
      ]
     },
     "execution_count": 1,
     "metadata": {},
     "output_type": "execute_result"
    }
   ],
   "source": [
    "# import libraries\n",
    "import numpy as np\n",
    "import pandas as pd\n",
    "\n",
    "# Load Data\n",
    "car_df = pd.read_csv(\"datasets/car.csv\")\n",
    "car_df.head()"
   ]
  },
  {
   "cell_type": "code",
   "execution_count": 2,
   "id": "df103e36-4f8d-4a67-b6c3-f4eae05a200d",
   "metadata": {},
   "outputs": [
    {
     "name": "stdout",
     "output_type": "stream",
     "text": [
      "<class 'pandas.core.frame.DataFrame'>\n",
      "RangeIndex: 6019 entries, 0 to 6018\n",
      "Data columns (total 13 columns):\n",
      " #   Column             Non-Null Count  Dtype  \n",
      "---  ------             --------------  -----  \n",
      " 0   Name               6019 non-null   object \n",
      " 1   Location           6019 non-null   object \n",
      " 2   Year               6019 non-null   int64  \n",
      " 3   Kilometers_Driven  6019 non-null   int64  \n",
      " 4   Fuel_Type          6019 non-null   object \n",
      " 5   Transmission       6019 non-null   object \n",
      " 6   Owner_Type         6019 non-null   object \n",
      " 7   Mileage            6017 non-null   object \n",
      " 8   Engine             5983 non-null   object \n",
      " 9   Power              5983 non-null   object \n",
      " 10  Seats              5977 non-null   float64\n",
      " 11  New_Price          824 non-null    object \n",
      " 12  Price              6019 non-null   float64\n",
      "dtypes: float64(2), int64(2), object(9)\n",
      "memory usage: 611.4+ KB\n"
     ]
    }
   ],
   "source": [
    "car_df.info()"
   ]
  },
  {
   "cell_type": "markdown",
   "id": "82e137e7-fad2-459b-afb4-9b4a581fe6a0",
   "metadata": {},
   "source": [
    "There are `12 columns` in total, with `6019 non-null values` in most columns, except for **Mileage**, **Engine**, **Power**, **Seats**, and **New_Price** columns which have missing values. The data types of columns vary, with object data type being used for columns containing strings or mixed data types, int64 for integer values, and float64 for floating-point values.\n",
    "\n",
    "The `Price` column is of particular importance as it contains the `target variable` for the analysis. **The goal is to predict the price of the used cars based on the other available features.**"
   ]
  },
  {
   "cell_type": "markdown",
   "id": "cb33440a-442c-4779-837a-9638a8aa3229",
   "metadata": {
    "tags": []
   },
   "source": [
    "### Creating a subset of the dataset with only numerical features and minimum 6-7 features.\n",
    "To meet the requirements of the given question, we need to create a subset of the dataset with only numerical features and a minimum of 6-7 features. This involves selecting a subset of the original dataset that satisfies the criteria and then using it for further analysis. By doing so, we can eliminate non-numeric features and focus on the important variables for our analysis.\n",
    "\n",
    "Also, the units of measurement for features such as `kmpl`, `km/kg`, `CC`, `bhp`, and `Lakh` are not standardized across car manufacturers or models, making it difficult to compare them directly. Removing these units of measurement from the features simplifies the data and makes it easier to work with. We can still use the numerical values associated with these features for analysis and modeling purposes, even without their respective units of measurement. "
   ]
  },
  {
   "cell_type": "code",
   "execution_count": 3,
   "id": "16fddf6d-8f8b-4bc1-b4bc-bdfa4656d977",
   "metadata": {},
   "outputs": [],
   "source": [
    "# Remove bhp from Power Data Feature.\n",
    "df_col=pd.DataFrame()\n",
    "df_col['Power'] = car_df['Power']\n",
    "\n",
    "pattern = r'([\\d\\.]+) bhp'\n",
    "df_col['numeric_value'] = df_col['Power'].str.extract(pattern)\n",
    "df_col['numeric_value'] = df_col['numeric_value'].astype(float)\n",
    "\n",
    "# Adding new updated values back to the Datasets\n",
    "car_df = car_df.drop(columns=[\"Power\"], axis=1)\n",
    "car_df['Power'] = df_col['numeric_value']"
   ]
  },
  {
   "cell_type": "code",
   "execution_count": 4,
   "id": "cc76fab1-dd94-4607-b53f-36ec39de2802",
   "metadata": {},
   "outputs": [],
   "source": [
    "# Remove CC from Engine Data Feature.\n",
    "df_col=pd.DataFrame()\n",
    "df_col['Engine'] = car_df['Engine']\n",
    "pattern = r'([\\d\\.]+) CC'\n",
    "df_col['numeric_value'] = df_col['Engine'].str.extract(pattern)\n",
    "df_col['numeric_value'] = df_col['numeric_value'].astype(float)\n",
    "\n",
    "# Adding new updated values back to the Datasets\n",
    "car_df = car_df.drop(columns=[\"Engine\"], axis=1)\n",
    "car_df['Engine'] = df_col['numeric_value']"
   ]
  },
  {
   "cell_type": "code",
   "execution_count": 5,
   "id": "89152058-cbce-422f-b824-4ce5b9f93e06",
   "metadata": {},
   "outputs": [],
   "source": [
    "# Remove km/kg and kmpl from Mileage Data Feature.\n",
    "df_col=pd.DataFrame()\n",
    "df_col['Mileage'] = car_df['Mileage']\n",
    "pattern = r'([\\d\\.]+) km'\n",
    "df_col['numeric_value'] = df_col['Mileage'].str.extract(pattern)\n",
    "df_col['numeric_value'] = df_col['numeric_value'].astype(float)\n",
    "\n",
    "# Adding new updated values back to the Datasets\n",
    "car_df = car_df.drop(columns=[\"Mileage\"], axis=1)\n",
    "car_df['Mileage'] = df_col['numeric_value']"
   ]
  },
  {
   "cell_type": "code",
   "execution_count": 6,
   "id": "d61c854d-d1e1-4ccd-be72-2d67ef1c859d",
   "metadata": {},
   "outputs": [],
   "source": [
    "# Remove Lakh from New_Price Data Feature.\n",
    "df_col=pd.DataFrame()\n",
    "df_col['New_Price'] = car_df['New_Price']\n",
    "pattern = r'([\\d\\.]+) Lakh'\n",
    "df_col['numeric_value'] = df_col['New_Price'].str.extract(pattern)\n",
    "df_col['numeric_value'] = df_col['numeric_value'].astype(float)\n",
    "\n",
    "# Adding new updated values back to the Datasets\n",
    "car_df = car_df.drop(columns=[\"New_Price\"], axis=1)\n",
    "car_df['New_Price'] = df_col['numeric_value']"
   ]
  },
  {
   "cell_type": "markdown",
   "id": "2acba88a-48df-4853-8680-d606833572d7",
   "metadata": {
    "tags": []
   },
   "source": [
    "### Updated Dataset\n",
    "The current state of the dataset is now the following."
   ]
  },
  {
   "cell_type": "code",
   "execution_count": 7,
   "id": "ee1525c7-fd0d-4ff5-a46d-3e9bd689cecf",
   "metadata": {},
   "outputs": [
    {
     "data": {
      "text/html": [
       "<div>\n",
       "<style scoped>\n",
       "    .dataframe tbody tr th:only-of-type {\n",
       "        vertical-align: middle;\n",
       "    }\n",
       "\n",
       "    .dataframe tbody tr th {\n",
       "        vertical-align: top;\n",
       "    }\n",
       "\n",
       "    .dataframe thead th {\n",
       "        text-align: right;\n",
       "    }\n",
       "</style>\n",
       "<table border=\"1\" class=\"dataframe\">\n",
       "  <thead>\n",
       "    <tr style=\"text-align: right;\">\n",
       "      <th></th>\n",
       "      <th>Name</th>\n",
       "      <th>Location</th>\n",
       "      <th>Year</th>\n",
       "      <th>Kilometers_Driven</th>\n",
       "      <th>Fuel_Type</th>\n",
       "      <th>Transmission</th>\n",
       "      <th>Owner_Type</th>\n",
       "      <th>Seats</th>\n",
       "      <th>Price</th>\n",
       "      <th>Power</th>\n",
       "      <th>Engine</th>\n",
       "      <th>Mileage</th>\n",
       "      <th>New_Price</th>\n",
       "    </tr>\n",
       "  </thead>\n",
       "  <tbody>\n",
       "    <tr>\n",
       "      <th>0</th>\n",
       "      <td>Maruti Wagon R LXI CNG</td>\n",
       "      <td>Mumbai</td>\n",
       "      <td>2010</td>\n",
       "      <td>72000</td>\n",
       "      <td>CNG</td>\n",
       "      <td>Manual</td>\n",
       "      <td>First</td>\n",
       "      <td>5.0</td>\n",
       "      <td>1.75</td>\n",
       "      <td>58.16</td>\n",
       "      <td>998.0</td>\n",
       "      <td>26.60</td>\n",
       "      <td>NaN</td>\n",
       "    </tr>\n",
       "    <tr>\n",
       "      <th>1</th>\n",
       "      <td>Hyundai Creta 1.6 CRDi SX Option</td>\n",
       "      <td>Pune</td>\n",
       "      <td>2015</td>\n",
       "      <td>41000</td>\n",
       "      <td>Diesel</td>\n",
       "      <td>Manual</td>\n",
       "      <td>First</td>\n",
       "      <td>5.0</td>\n",
       "      <td>12.50</td>\n",
       "      <td>126.20</td>\n",
       "      <td>1582.0</td>\n",
       "      <td>19.67</td>\n",
       "      <td>NaN</td>\n",
       "    </tr>\n",
       "    <tr>\n",
       "      <th>2</th>\n",
       "      <td>Honda Jazz V</td>\n",
       "      <td>Chennai</td>\n",
       "      <td>2011</td>\n",
       "      <td>46000</td>\n",
       "      <td>Petrol</td>\n",
       "      <td>Manual</td>\n",
       "      <td>First</td>\n",
       "      <td>5.0</td>\n",
       "      <td>4.50</td>\n",
       "      <td>88.70</td>\n",
       "      <td>1199.0</td>\n",
       "      <td>18.20</td>\n",
       "      <td>8.61</td>\n",
       "    </tr>\n",
       "    <tr>\n",
       "      <th>3</th>\n",
       "      <td>Maruti Ertiga VDI</td>\n",
       "      <td>Chennai</td>\n",
       "      <td>2012</td>\n",
       "      <td>87000</td>\n",
       "      <td>Diesel</td>\n",
       "      <td>Manual</td>\n",
       "      <td>First</td>\n",
       "      <td>7.0</td>\n",
       "      <td>6.00</td>\n",
       "      <td>88.76</td>\n",
       "      <td>1248.0</td>\n",
       "      <td>20.77</td>\n",
       "      <td>NaN</td>\n",
       "    </tr>\n",
       "    <tr>\n",
       "      <th>4</th>\n",
       "      <td>Audi A4 New 2.0 TDI Multitronic</td>\n",
       "      <td>Coimbatore</td>\n",
       "      <td>2013</td>\n",
       "      <td>40670</td>\n",
       "      <td>Diesel</td>\n",
       "      <td>Automatic</td>\n",
       "      <td>Second</td>\n",
       "      <td>5.0</td>\n",
       "      <td>17.74</td>\n",
       "      <td>140.80</td>\n",
       "      <td>1968.0</td>\n",
       "      <td>15.20</td>\n",
       "      <td>NaN</td>\n",
       "    </tr>\n",
       "  </tbody>\n",
       "</table>\n",
       "</div>"
      ],
      "text/plain": [
       "                               Name    Location  Year  Kilometers_Driven  \\\n",
       "0            Maruti Wagon R LXI CNG      Mumbai  2010              72000   \n",
       "1  Hyundai Creta 1.6 CRDi SX Option        Pune  2015              41000   \n",
       "2                      Honda Jazz V     Chennai  2011              46000   \n",
       "3                 Maruti Ertiga VDI     Chennai  2012              87000   \n",
       "4   Audi A4 New 2.0 TDI Multitronic  Coimbatore  2013              40670   \n",
       "\n",
       "  Fuel_Type Transmission Owner_Type  Seats  Price   Power  Engine  Mileage  \\\n",
       "0       CNG       Manual      First    5.0   1.75   58.16   998.0    26.60   \n",
       "1    Diesel       Manual      First    5.0  12.50  126.20  1582.0    19.67   \n",
       "2    Petrol       Manual      First    5.0   4.50   88.70  1199.0    18.20   \n",
       "3    Diesel       Manual      First    7.0   6.00   88.76  1248.0    20.77   \n",
       "4    Diesel    Automatic     Second    5.0  17.74  140.80  1968.0    15.20   \n",
       "\n",
       "   New_Price  \n",
       "0        NaN  \n",
       "1        NaN  \n",
       "2       8.61  \n",
       "3        NaN  \n",
       "4        NaN  "
      ]
     },
     "execution_count": 7,
     "metadata": {},
     "output_type": "execute_result"
    }
   ],
   "source": [
    "car_df.head()"
   ]
  },
  {
   "cell_type": "markdown",
   "id": "76106821-a0fd-47e0-9511-60c0855b12f8",
   "metadata": {},
   "source": [
    "### Generating a subset of the data that doesn't contain any missing values.\n",
    "\n",
    "Before proceeding with any data analysis, it's essential to ensure that the dataset is complete and doesn't contain any null or missing values. Null or missing values in a dataset can significantly impact the accuracy of any statistical analysis or machine learning model. Therefore, it's crucial to identify and address these issues early on in the data cleaning process.\n",
    "\n",
    "To achieve this, one needs to check the dataset for null or missing values. If any null or missing values are found, it's recommended to remove them from the dataset. However, this can depend on the nature and quantity of missing data. `In this particular question`, **it is stated that we don't need to deal with data that has missing values**. Therefore, creating a subset from the current data by dropping the null or missing values is a suitable approach.\n",
    "\n",
    "By doing so, we can create a new subset of the original dataset that contains only the complete data. This subset can be used for further analysis, and any missing data won't hinder our results. In conclusion, it's crucial to address missing data before performing any statistical analysis or machine learning to ensure accurate and reliable results."
   ]
  },
  {
   "cell_type": "code",
   "execution_count": 8,
   "id": "ddea62d8-2703-45f3-b57d-018252ad9bc0",
   "metadata": {},
   "outputs": [
    {
     "data": {
      "text/plain": [
       "Name                    0\n",
       "Location                0\n",
       "Year                    0\n",
       "Kilometers_Driven       0\n",
       "Fuel_Type               0\n",
       "Transmission            0\n",
       "Owner_Type              0\n",
       "Seats                  42\n",
       "Price                   0\n",
       "Power                 143\n",
       "Engine                 36\n",
       "Mileage                 2\n",
       "New_Price            5212\n",
       "dtype: int64"
      ]
     },
     "execution_count": 8,
     "metadata": {},
     "output_type": "execute_result"
    }
   ],
   "source": [
    "car_df.isna().sum()"
   ]
  },
  {
   "cell_type": "code",
   "execution_count": 9,
   "id": "d6c0d824-e287-4555-a77a-a1bb924c68cb",
   "metadata": {},
   "outputs": [
    {
     "data": {
      "text/plain": [
       "Name                 0\n",
       "Location             0\n",
       "Year                 0\n",
       "Kilometers_Driven    0\n",
       "Fuel_Type            0\n",
       "Transmission         0\n",
       "Owner_Type           0\n",
       "Seats                0\n",
       "Price                0\n",
       "Power                0\n",
       "Engine               0\n",
       "Mileage              0\n",
       "New_Price            0\n",
       "dtype: int64"
      ]
     },
     "execution_count": 9,
     "metadata": {},
     "output_type": "execute_result"
    }
   ],
   "source": [
    "car_df=car_df.dropna()\n",
    "car_df.isna().sum()"
   ]
  },
  {
   "cell_type": "code",
   "execution_count": 10,
   "id": "e27b38eb-614c-4466-932b-2ae180c2c66b",
   "metadata": {},
   "outputs": [
    {
     "name": "stdout",
     "output_type": "stream",
     "text": [
      "New Dataset Shape:  (806, 13)\n"
     ]
    }
   ],
   "source": [
    "print('New Dataset Shape: ', car_df.shape)"
   ]
  },
  {
   "cell_type": "code",
   "execution_count": 11,
   "id": "e4f3d267-e536-45c4-99c5-55fa779db89e",
   "metadata": {},
   "outputs": [
    {
     "name": "stdout",
     "output_type": "stream",
     "text": [
      "<class 'pandas.core.frame.DataFrame'>\n",
      "Int64Index: 806 entries, 2 to 6014\n",
      "Data columns (total 13 columns):\n",
      " #   Column             Non-Null Count  Dtype  \n",
      "---  ------             --------------  -----  \n",
      " 0   Name               806 non-null    object \n",
      " 1   Location           806 non-null    object \n",
      " 2   Year               806 non-null    int64  \n",
      " 3   Kilometers_Driven  806 non-null    int64  \n",
      " 4   Fuel_Type          806 non-null    object \n",
      " 5   Transmission       806 non-null    object \n",
      " 6   Owner_Type         806 non-null    object \n",
      " 7   Seats              806 non-null    float64\n",
      " 8   Price              806 non-null    float64\n",
      " 9   Power              806 non-null    float64\n",
      " 10  Engine             806 non-null    float64\n",
      " 11  Mileage            806 non-null    float64\n",
      " 12  New_Price          806 non-null    float64\n",
      "dtypes: float64(6), int64(2), object(5)\n",
      "memory usage: 88.2+ KB\n"
     ]
    }
   ],
   "source": [
    "car_df.info()"
   ]
  },
  {
   "cell_type": "markdown",
   "id": "f0567039-5558-4787-a073-57e7dd816962",
   "metadata": {},
   "source": [
    "### Remove categorical columns\n",
    "\n",
    "**In order to process the data as required by the question**, it is necessary to `exclude the categorical column` from the dataset. Only the numeric columns are relevant for the analysis, and therefore, it is recommended to remove the categorical column from the dataset. By doing so, we can focus our analysis on the relevant numeric data and avoid any potential confusion or errors that may arise from processing the categorical column."
   ]
  },
  {
   "cell_type": "code",
   "execution_count": 12,
   "id": "344ba049-488c-4f30-979a-488105e3f3fd",
   "metadata": {},
   "outputs": [
    {
     "data": {
      "text/html": [
       "<div>\n",
       "<style scoped>\n",
       "    .dataframe tbody tr th:only-of-type {\n",
       "        vertical-align: middle;\n",
       "    }\n",
       "\n",
       "    .dataframe tbody tr th {\n",
       "        vertical-align: top;\n",
       "    }\n",
       "\n",
       "    .dataframe thead th {\n",
       "        text-align: right;\n",
       "    }\n",
       "</style>\n",
       "<table border=\"1\" class=\"dataframe\">\n",
       "  <thead>\n",
       "    <tr style=\"text-align: right;\">\n",
       "      <th></th>\n",
       "      <th>Kilometers_Driven</th>\n",
       "      <th>Seats</th>\n",
       "      <th>Price</th>\n",
       "      <th>Power</th>\n",
       "      <th>Engine</th>\n",
       "      <th>Mileage</th>\n",
       "      <th>New_Price</th>\n",
       "    </tr>\n",
       "  </thead>\n",
       "  <tbody>\n",
       "    <tr>\n",
       "      <th>2</th>\n",
       "      <td>46000</td>\n",
       "      <td>5.0</td>\n",
       "      <td>4.50</td>\n",
       "      <td>88.70</td>\n",
       "      <td>1199.0</td>\n",
       "      <td>18.20</td>\n",
       "      <td>8.61</td>\n",
       "    </tr>\n",
       "    <tr>\n",
       "      <th>7</th>\n",
       "      <td>36000</td>\n",
       "      <td>8.0</td>\n",
       "      <td>17.50</td>\n",
       "      <td>171.50</td>\n",
       "      <td>2755.0</td>\n",
       "      <td>11.36</td>\n",
       "      <td>21.00</td>\n",
       "    </tr>\n",
       "    <tr>\n",
       "      <th>10</th>\n",
       "      <td>25692</td>\n",
       "      <td>5.0</td>\n",
       "      <td>9.95</td>\n",
       "      <td>103.25</td>\n",
       "      <td>1462.0</td>\n",
       "      <td>21.56</td>\n",
       "      <td>10.65</td>\n",
       "    </tr>\n",
       "    <tr>\n",
       "      <th>15</th>\n",
       "      <td>110000</td>\n",
       "      <td>7.0</td>\n",
       "      <td>15.00</td>\n",
       "      <td>175.56</td>\n",
       "      <td>2477.0</td>\n",
       "      <td>13.50</td>\n",
       "      <td>32.01</td>\n",
       "    </tr>\n",
       "    <tr>\n",
       "      <th>20</th>\n",
       "      <td>32982</td>\n",
       "      <td>5.0</td>\n",
       "      <td>18.55</td>\n",
       "      <td>190.00</td>\n",
       "      <td>1995.0</td>\n",
       "      <td>22.69</td>\n",
       "      <td>47.87</td>\n",
       "    </tr>\n",
       "  </tbody>\n",
       "</table>\n",
       "</div>"
      ],
      "text/plain": [
       "    Kilometers_Driven  Seats  Price   Power  Engine  Mileage  New_Price\n",
       "2               46000    5.0   4.50   88.70  1199.0    18.20       8.61\n",
       "7               36000    8.0  17.50  171.50  2755.0    11.36      21.00\n",
       "10              25692    5.0   9.95  103.25  1462.0    21.56      10.65\n",
       "15             110000    7.0  15.00  175.56  2477.0    13.50      32.01\n",
       "20              32982    5.0  18.55  190.00  1995.0    22.69      47.87"
      ]
     },
     "execution_count": 12,
     "metadata": {},
     "output_type": "execute_result"
    }
   ],
   "source": [
    "car_df = car_df.drop(columns=['Name', 'Location', 'Year', 'Fuel_Type', 'Transmission', 'Owner_Type'], axis=1)\n",
    "car_df.head()"
   ]
  },
  {
   "cell_type": "markdown",
   "id": "f0d3b5b2-eccc-48ef-bc92-49f525d9e50c",
   "metadata": {},
   "source": [
    "## Splitting Data into Train and Test\n",
    "\n",
    "To ensure the accuracy and generalizability of a machine learning model, it's important to split the data into training and test sets. The `training set is used to train the model`, while the `test set is used to evaluate the model's performance`. The process of splitting the data involves randomly dividing the dataset into two separate subsets: the training set and the test set. The training set is typically a larger portion of the dataset, while the test set is a smaller portion. The model is trained on the training set, and its performance is evaluated on the test set. This approach helps to `avoid overfitting`, which occurs when a model performs well on the training data but fails to generalize to new data. It's important to note that the data should be split randomly, and the split should be representative of the overall dataset. The common split ratios are `70:30`, `80:20`, or `90:10`, depending on the size of the dataset and the complexity of the model.\n",
    "\n",
    "**For the given dataset we divide it in the ratio 80:20**."
   ]
  },
  {
   "cell_type": "code",
   "execution_count": 13,
   "id": "0ba1f9c6-8a83-4083-9f49-bba034af1cc9",
   "metadata": {},
   "outputs": [],
   "source": [
    "import pandas as pd\n",
    "from sklearn.model_selection import train_test_split\n",
    "\n",
    "#Split 80:20\n",
    "train_x, test_x, train_y, test_y = train_test_split(car_df.drop(columns=['Price'], axis=1), car_df[['Price']], test_size=0.2, random_state=1300)"
   ]
  },
  {
   "cell_type": "code",
   "execution_count": 14,
   "id": "dbd6276b-9f92-490a-89f9-6abf488c53e8",
   "metadata": {},
   "outputs": [
    {
     "name": "stdout",
     "output_type": "stream",
     "text": [
      "(644, 6)\n",
      "(644, 1)\n",
      "(162, 6)\n",
      "(162, 1)\n"
     ]
    }
   ],
   "source": [
    "print(train_x.shape)\n",
    "print(train_y.shape)\n",
    "print(test_x.shape)\n",
    "print(test_y.shape)"
   ]
  },
  {
   "cell_type": "code",
   "execution_count": 15,
   "id": "8d88b662-96ba-488c-964f-3568bc75c990",
   "metadata": {},
   "outputs": [
    {
     "name": "stdout",
     "output_type": "stream",
     "text": [
      "<class 'pandas.core.frame.DataFrame'>\n",
      "Int64Index: 644 entries, 3747 to 1369\n",
      "Data columns (total 6 columns):\n",
      " #   Column             Non-Null Count  Dtype  \n",
      "---  ------             --------------  -----  \n",
      " 0   Kilometers_Driven  644 non-null    int64  \n",
      " 1   Seats              644 non-null    float64\n",
      " 2   Power              644 non-null    float64\n",
      " 3   Engine             644 non-null    float64\n",
      " 4   Mileage            644 non-null    float64\n",
      " 5   New_Price          644 non-null    float64\n",
      "dtypes: float64(5), int64(1)\n",
      "memory usage: 35.2 KB\n"
     ]
    }
   ],
   "source": [
    "train_x.info()"
   ]
  },
  {
   "cell_type": "markdown",
   "id": "7552880f-ac62-4c3f-a8cc-8ea2580829e4",
   "metadata": {
    "tags": []
   },
   "source": [
    "## Multicollinearity Check\n",
    "\n",
    "To detect multicollinearity among the features in the property training data, we can compute the sample correlation matrix. This will help us to identify any strong correlations between the features that may indicate multicollinearity.."
   ]
  },
  {
   "cell_type": "code",
   "execution_count": 16,
   "id": "387afca1-f870-4ddb-a66a-7946493f03a8",
   "metadata": {
    "tags": []
   },
   "outputs": [
    {
     "data": {
      "text/html": [
       "<div>\n",
       "<style scoped>\n",
       "    .dataframe tbody tr th:only-of-type {\n",
       "        vertical-align: middle;\n",
       "    }\n",
       "\n",
       "    .dataframe tbody tr th {\n",
       "        vertical-align: top;\n",
       "    }\n",
       "\n",
       "    .dataframe thead th {\n",
       "        text-align: right;\n",
       "    }\n",
       "</style>\n",
       "<table border=\"1\" class=\"dataframe\">\n",
       "  <thead>\n",
       "    <tr style=\"text-align: right;\">\n",
       "      <th></th>\n",
       "      <th>Kilometers_Driven</th>\n",
       "      <th>Seats</th>\n",
       "      <th>Power</th>\n",
       "      <th>Engine</th>\n",
       "      <th>Mileage</th>\n",
       "      <th>New_Price</th>\n",
       "    </tr>\n",
       "  </thead>\n",
       "  <tbody>\n",
       "    <tr>\n",
       "      <th>Kilometers_Driven</th>\n",
       "      <td>1.0000</td>\n",
       "      <td>0.1982</td>\n",
       "      <td>0.0118</td>\n",
       "      <td>0.1407</td>\n",
       "      <td>0.0424</td>\n",
       "      <td>-0.0017</td>\n",
       "    </tr>\n",
       "    <tr>\n",
       "      <th>Seats</th>\n",
       "      <td>0.1982</td>\n",
       "      <td>1.0000</td>\n",
       "      <td>0.1035</td>\n",
       "      <td>0.4399</td>\n",
       "      <td>-0.4112</td>\n",
       "      <td>-0.0335</td>\n",
       "    </tr>\n",
       "    <tr>\n",
       "      <th>Power</th>\n",
       "      <td>0.0118</td>\n",
       "      <td>0.1035</td>\n",
       "      <td>1.0000</td>\n",
       "      <td>0.8477</td>\n",
       "      <td>-0.5369</td>\n",
       "      <td>0.8888</td>\n",
       "    </tr>\n",
       "    <tr>\n",
       "      <th>Engine</th>\n",
       "      <td>0.1407</td>\n",
       "      <td>0.4399</td>\n",
       "      <td>0.8477</td>\n",
       "      <td>1.0000</td>\n",
       "      <td>-0.6332</td>\n",
       "      <td>0.7071</td>\n",
       "    </tr>\n",
       "    <tr>\n",
       "      <th>Mileage</th>\n",
       "      <td>0.0424</td>\n",
       "      <td>-0.4112</td>\n",
       "      <td>-0.5369</td>\n",
       "      <td>-0.6332</td>\n",
       "      <td>1.0000</td>\n",
       "      <td>-0.3572</td>\n",
       "    </tr>\n",
       "    <tr>\n",
       "      <th>New_Price</th>\n",
       "      <td>-0.0017</td>\n",
       "      <td>-0.0335</td>\n",
       "      <td>0.8888</td>\n",
       "      <td>0.7071</td>\n",
       "      <td>-0.3572</td>\n",
       "      <td>1.0000</td>\n",
       "    </tr>\n",
       "  </tbody>\n",
       "</table>\n",
       "</div>"
      ],
      "text/plain": [
       "                   Kilometers_Driven   Seats   Power  Engine  Mileage  \\\n",
       "Kilometers_Driven             1.0000  0.1982  0.0118  0.1407   0.0424   \n",
       "Seats                         0.1982  1.0000  0.1035  0.4399  -0.4112   \n",
       "Power                         0.0118  0.1035  1.0000  0.8477  -0.5369   \n",
       "Engine                        0.1407  0.4399  0.8477  1.0000  -0.6332   \n",
       "Mileage                       0.0424 -0.4112 -0.5369 -0.6332   1.0000   \n",
       "New_Price                    -0.0017 -0.0335  0.8888  0.7071  -0.3572   \n",
       "\n",
       "                   New_Price  \n",
       "Kilometers_Driven    -0.0017  \n",
       "Seats                -0.0335  \n",
       "Power                 0.8888  \n",
       "Engine                0.7071  \n",
       "Mileage              -0.3572  \n",
       "New_Price             1.0000  "
      ]
     },
     "execution_count": 16,
     "metadata": {},
     "output_type": "execute_result"
    }
   ],
   "source": [
    "train_x_corr = train_x.corr().round(4)\n",
    "train_x_corr"
   ]
  },
  {
   "cell_type": "markdown",
   "id": "f4aff022-08d7-4b76-9862-1b87b1bc235b",
   "metadata": {},
   "source": [
    "### Generate a visual representation of the data using a heatmap."
   ]
  },
  {
   "cell_type": "code",
   "execution_count": 17,
   "id": "d639cfc9-dc15-4278-809f-fe815fa8fc8f",
   "metadata": {},
   "outputs": [
    {
     "data": {
      "image/png": "[encoded data removed]",
      "text/plain": [
       "<Figure size 720x288 with 2 Axes>"
      ]
     },
     "metadata": {
      "needs_background": "light"
     },
     "output_type": "display_data"
    }
   ],
   "source": [
    "# generate heatmap\n",
    "# import libraries\n",
    "import matplotlib.pyplot as plt\n",
    "import seaborn as sns\n",
    "\n",
    "# set figure size\n",
    "plt.rcParams['figure.figsize'] = [10, 4]\n",
    "\n",
    "# generate heatmap\n",
    "\n",
    "sns.heatmap(train_x_corr, cmap='coolwarm', annot=True, vmin=-1, vmax=1)\n",
    "plt.title('Heatmap of Correlation Matrix')\n",
    "plt.show();"
   ]
  },
  {
   "cell_type": "markdown",
   "id": "a8f4f76a-93f0-4ca3-ac4e-13010c5fa3c7",
   "metadata": {},
   "source": [
    "- The `correlation matrix` shows the strength of relationships between variables.\n",
    "- The `highest positive correlation` in the matrix is between `Power and Engine (0.8477)`, indicating a strong positive association.\n",
    "- `Positive correlations` also exist between `Seats and Engine (0.4399)`, and `Kilometers_Driven and Engine (0.1407)`, but these are weaker correlations.\n",
    "- There are `negative correlations` as well, such as between `Mileage and Seats (-0.4112)`, indicating an inverse relationship.\n",
    "- Correlations do not necessarily imply causation, and further analysis may be needed to determine the nature of these relationships.\n",
    "- `New_Price` shows a relatively `strong correlation with Power and Engine`, suggesting that these variables may be important factors in determining the price of a car.\n",
    "\n",
    "Overall, the heatmap provides a useful visual representation of the correlation matrix and can help identify patterns and trends within the data.\n",
    "\n",
    "#### **To calculate the variance inflation factor, an intercept with a value of 1 is added to the data.**\n",
    "\n",
    "Adding an intercept with a value of 1 when calculating the variance inflation factor is important to account for the constant term or the intercept in the linear regression equation. This term represents the value of the dependent variable when all independent variables are zero, and including it ensures that the model includes the intercept term in the regression equation. Without an intercept term, the VIF values may be biased and inaccurate. Therefore, including the intercept term is crucial for accurately calculating the variance inflation factor for each independent variable."
   ]
  },
  {
   "cell_type": "code",
   "execution_count": 18,
   "id": "ada483b4-2e28-4c51-9dd7-8801c819f0b7",
   "metadata": {},
   "outputs": [
    {
     "data": {
      "text/html": [
       "<div>\n",
       "<style scoped>\n",
       "    .dataframe tbody tr th:only-of-type {\n",
       "        vertical-align: middle;\n",
       "    }\n",
       "\n",
       "    .dataframe tbody tr th {\n",
       "        vertical-align: top;\n",
       "    }\n",
       "\n",
       "    .dataframe thead th {\n",
       "        text-align: right;\n",
       "    }\n",
       "</style>\n",
       "<table border=\"1\" class=\"dataframe\">\n",
       "  <thead>\n",
       "    <tr style=\"text-align: right;\">\n",
       "      <th></th>\n",
       "      <th>feature</th>\n",
       "    </tr>\n",
       "  </thead>\n",
       "  <tbody>\n",
       "    <tr>\n",
       "      <th>0</th>\n",
       "      <td>Kilometers_Driven</td>\n",
       "    </tr>\n",
       "    <tr>\n",
       "      <th>1</th>\n",
       "      <td>Seats</td>\n",
       "    </tr>\n",
       "    <tr>\n",
       "      <th>2</th>\n",
       "      <td>Power</td>\n",
       "    </tr>\n",
       "    <tr>\n",
       "      <th>3</th>\n",
       "      <td>Engine</td>\n",
       "    </tr>\n",
       "    <tr>\n",
       "      <th>4</th>\n",
       "      <td>Mileage</td>\n",
       "    </tr>\n",
       "    <tr>\n",
       "      <th>5</th>\n",
       "      <td>New_Price</td>\n",
       "    </tr>\n",
       "    <tr>\n",
       "      <th>6</th>\n",
       "      <td>intercept</td>\n",
       "    </tr>\n",
       "  </tbody>\n",
       "</table>\n",
       "</div>"
      ],
      "text/plain": [
       "             feature\n",
       "0  Kilometers_Driven\n",
       "1              Seats\n",
       "2              Power\n",
       "3             Engine\n",
       "4            Mileage\n",
       "5          New_Price\n",
       "6          intercept"
      ]
     },
     "execution_count": 18,
     "metadata": {},
     "output_type": "execute_result"
    }
   ],
   "source": [
    "from statsmodels.stats.outliers_influence import variance_inflation_factor\n",
    "\n",
    "train_x[\"intercept\"]=1 \n",
    "vif_df = pd.DataFrame() \n",
    "vif_df[\"feature\"] = train_x.columns \n",
    "vif_df"
   ]
  },
  {
   "cell_type": "code",
   "execution_count": 19,
   "id": "bffe7f66-974d-4e3e-ab2e-61deb991b818",
   "metadata": {},
   "outputs": [
    {
     "name": "stdout",
     "output_type": "stream",
     "text": [
      "             feature         VIF\n",
      "6          intercept  165.728404\n",
      "2              Power   10.181168\n",
      "3             Engine    6.850098\n",
      "5          New_Price    5.421894\n",
      "1              Seats    1.986607\n",
      "4            Mileage    1.926204\n",
      "0  Kilometers_Driven    1.107863\n"
     ]
    }
   ],
   "source": [
    "vif_df[\"VIF\"] = [variance_inflation_factor(train_x.values, i) for i in range(len(train_x.columns))]  #list comprehension \n",
    "vif_df.sort_values('VIF', ascending=False, inplace=True) #ignore intercept row  in the below table\n",
    "print(vif_df)"
   ]
  },
  {
   "cell_type": "markdown",
   "id": "745f4235-afe1-478d-aef0-410d96cf1a5e",
   "metadata": {},
   "source": [
    "To prepare the data for regression analysis, it is recommended to `exclude the intercept row` and `remove the Power feature` since it has the `highest variance inflation factor value`. This will help to reduce multicollinearity in the data and improve the accuracy of the regression model."
   ]
  },
  {
   "cell_type": "code",
   "execution_count": 20,
   "id": "91519169-dc0d-4745-bb0b-6577d6c7d5a8",
   "metadata": {},
   "outputs": [],
   "source": [
    "train_x_new = train_x.drop(columns=[\"Power\"], axis=1)"
   ]
  },
  {
   "cell_type": "markdown",
   "id": "1d68d4ac-ff21-4974-9a55-e286b8816503",
   "metadata": {},
   "source": [
    "<br>\n",
    "Calculate the variance inflation factor (VIF) again for the remaining features in the dataset."
   ]
  },
  {
   "cell_type": "code",
   "execution_count": 21,
   "id": "bd6b9ab8-9ca5-4a7c-8057-f5ae1f8d6ebd",
   "metadata": {},
   "outputs": [
    {
     "name": "stdout",
     "output_type": "stream",
     "text": [
      "             feature         VIF\n",
      "5          intercept  136.217238\n",
      "2             Engine    4.376064\n",
      "4          New_Price    2.874090\n",
      "3            Mileage    1.825831\n",
      "1              Seats    1.808553\n",
      "0  Kilometers_Driven    1.100829\n"
     ]
    }
   ],
   "source": [
    "vifnew_df = pd.DataFrame() # create an empty data frame\n",
    "vifnew_df[\"feature\"] = train_x_new.columns  # attach a column of involving feature names\n",
    "\n",
    "vifnew_df[\"VIF\"] = [variance_inflation_factor(train_x_new.values, i) for i in range(len(train_x_new.columns))]  #list comprehension \n",
    "vifnew_df.sort_values('VIF', ascending=False, inplace=True) #ignore intercept row  in the below table\n",
    "print(vifnew_df)"
   ]
  },
  {
   "cell_type": "markdown",
   "id": "565c24c8-37b7-41e0-aadd-d9937519bfa0",
   "metadata": {},
   "source": [
    "<br>\n",
    "Note that the intercept row has been excluded from this summary, and the Power feature with the highest VIF value has been removed from the data. `The VIF values for the remaining features are relatively low`, indicating that there is `no significant multicollinearity` among them.\n",
    "\n",
    "`VIF measures the degree of correlation` between independent variables in a regression model, and a `high VIF indicates high multicollinearity`, which can lead to inaccurate or unstable coefficient estimates. Therefore, a `VIF less than 5` is generally considered `acceptable` and indicates that there is `no significant multicollinearity` present in the data."
   ]
  },
  {
   "cell_type": "markdown",
   "id": "227bf153-0469-4c84-8da4-15dc34ddac42",
   "metadata": {},
   "source": [
    "- After `removing the previously added intercept`, the next step is to `drop the feature with the highest VIF from both the test and training data` for further analysis. This ensures that the remaining features have low multicollinearity and can be used to build an accurate linear regression model. \n",
    "- This step helps identify the most significant features that contribute to the model's accuracy and reduces the potential for errors caused by multicollinearity."
   ]
  },
  {
   "cell_type": "code",
   "execution_count": 22,
   "id": "dec65520-2f90-42da-84e3-7db2d25970a5",
   "metadata": {},
   "outputs": [],
   "source": [
    "# Generate the new subsets based on the selected features\n",
    "\n",
    "#remove intercept\n",
    "train_x = train_x.drop(columns=['intercept'], axis=1)\n",
    "\n",
    "train_x_fs = train_x.drop(columns=['Power'], axis=1)   \n",
    "test_x_fs = test_x.drop(columns=['Power'], axis=1)    "
   ]
  },
  {
   "cell_type": "markdown",
   "id": "c380556b-6f48-477f-bc25-9823acd7d87e",
   "metadata": {},
   "source": [
    "#### **Assessing the Performance of Data Before and After Addressing Multicollinearity Issues**\n",
    "\n",
    "We can evaluate the performance of the data before and after addressing the issue of multicollinearity. First, we can assess the performance of the data without removing the problem of multicollinearity, and then we can evaluate the performance of the data after removing the problematic feature with the highest VIF value.\n",
    "\n",
    "By comparing the performance of the data before and after addressing the issue of multicollinearity, we can determine the extent to which multicollinearity affects the accuracy and reliability of the linear regression model.\n",
    "\n",
    "##### **1. Performance Before Addressing Multicollinearity Issues**"
   ]
  },
  {
   "cell_type": "code",
   "execution_count": 23,
   "id": "faa00dd2-35bd-4fd3-9ca3-a2e42ae9c954",
   "metadata": {},
   "outputs": [
    {
     "name": "stdout",
     "output_type": "stream",
     "text": [
      "Training Data with full features \n",
      "\n",
      "       Kilometers_Driven  Seats  Power  Engine  Mileage  New_Price\n",
      "3747              35299    5.0   88.5  1248.0    24.30      10.14\n",
      "1094              35000    5.0   88.5  1248.0    24.30       9.46\n",
      "4887              57078    5.0   88.5  1248.0    24.30      11.58\n",
      "3584              42203    5.0  170.0  1956.0    17.10      21.72\n",
      "102               32851    7.0   67.0  1198.0    19.83       6.45 \n",
      "\n",
      "\n",
      "Test Data with full features \n",
      "\n",
      "       Kilometers_Driven  Seats   Power  Engine  Mileage  New_Price\n",
      "3451              61325    5.0   81.86  1197.0    18.90       8.10\n",
      "1146              40448    7.0   62.10  2523.0    15.96      11.01\n",
      "2239              42700    5.0   84.00  1199.0    23.84       5.61\n",
      "67                15369    5.0  194.00  1950.0     0.00      49.14\n",
      "3572              36824    5.0  187.74  1968.0    18.53      69.37 \n",
      " \n",
      "\n"
     ]
    }
   ],
   "source": [
    "print('Training Data with full features \\n\\n',train_x.head(),'\\n\\n')\n",
    "print('Test Data with full features \\n\\n',test_x.head(), '\\n \\n')"
   ]
  },
  {
   "cell_type": "code",
   "execution_count": 24,
   "id": "a23c3d05-d844-4b92-b0e2-24ccea4058a8",
   "metadata": {},
   "outputs": [
    {
     "name": "stdout",
     "output_type": "stream",
     "text": [
      "R2 on Training Data Before Addressing Multicollinearity Problem: 0.862\n",
      "R2 on Test Data Before Addressing Multicollinearity Problem: 0.893\n"
     ]
    }
   ],
   "source": [
    "from sklearn.linear_model import LinearRegression\n",
    "\n",
    "regr = LinearRegression()\n",
    "\n",
    "regr.fit(train_x, train_y) \n",
    "pred_test_y = regr.predict(test_x)\n",
    "\n",
    "print('R2 on Training Data Before Addressing Multicollinearity Problem: %.3f' % regr.score(train_x,train_y))\n",
    "print('R2 on Test Data Before Addressing Multicollinearity Problem: %.3f' % regr.score(test_x,test_y))"
   ]
  },
  {
   "cell_type": "markdown",
   "id": "51073103-f94e-4243-990b-3515ee1bd5b9",
   "metadata": {},
   "source": [
    "- The `R2 score` on the `training data` before addressing multicollinearity problem is `0.862`.\n",
    "- This score indicates that **86.16% of the variation in the dependent variable is explained by the independent variables in the model**.\n",
    "- The `R2 score` on the `test data` before addressing multicollinearity problem is `0.893`.\n",
    "- This score indicates that **89.31% of the variation in the dependent variable is explained by the independent variables in the model**.\n",
    "- These scores suggest that the full model without addressing multicollinearity problem was also performing reasonably well in predicting the dependent variable.\n",
    "- However, addressing multicollinearity is essential to build a more accurate model that can better explain the variation in the dependent variable."
   ]
  },
  {
   "cell_type": "code",
   "execution_count": 25,
   "id": "65e92eff-7fd3-4391-8f7c-eb392e60af47",
   "metadata": {},
   "outputs": [
    {
     "name": "stdout",
     "output_type": "stream",
     "text": [
      "Performance on Test Data Before Addressing Multicollinearity Problem\n",
      "\n",
      "Mean Squared Error: 21.13\n",
      "R2: 0.89\n"
     ]
    }
   ],
   "source": [
    "from sklearn.metrics import mean_squared_error, r2_score\n",
    "\n",
    "print(\"Performance on Test Data Before Addressing Multicollinearity Problem\\n\")\n",
    "print('Mean Squared Error: %.2f' % mean_squared_error(test_y, pred_test_y))\n",
    "print('R2: %.2f'% r2_score(test_y, pred_test_y))"
   ]
  },
  {
   "cell_type": "markdown",
   "id": "77fda27f-7bfb-4e7c-8020-16b9076b5579",
   "metadata": {},
   "source": [
    "- The performance of the model on the test set Before Addressing Multicollinearity Problem can be evaluated by examining the mean squared error and R2 score.\n",
    "- The `mean squared error` for the model is `21.13`, indicating that the average squared difference between the predicted and actual values is 21.13.\n",
    "- The `R2 score` for the model is `0.89`, suggesting that the independent variables in the model can explain around **89% of the variation in the dependent variable**.\n",
    "- This performance can be considered as a baseline for comparison when evaluating the performance of the model after addressing the multicollinearity problem and performing feature selection."
   ]
  },
  {
   "cell_type": "markdown",
   "id": "b5a71bf0-82b4-4b66-b375-e52f31a08232",
   "metadata": {},
   "source": [
    "##### **2. Performance After Addressing Multicollinearity Issues**\n",
    "\n",
    "The model's performance can be assessed after addressing multicollinearity issues by removing the Power feature from the dataset."
   ]
  },
  {
   "cell_type": "code",
   "execution_count": 26,
   "id": "e459cc21-53cf-47bb-8c8c-143a2006e33d",
   "metadata": {},
   "outputs": [
    {
     "name": "stdout",
     "output_type": "stream",
     "text": [
      "Training Data after remeding Multicollinearity Problem \n",
      "\n",
      "       Kilometers_Driven  Seats  Engine  Mileage  New_Price\n",
      "3747              35299    5.0  1248.0    24.30      10.14\n",
      "1094              35000    5.0  1248.0    24.30       9.46\n",
      "4887              57078    5.0  1248.0    24.30      11.58\n",
      "3584              42203    5.0  1956.0    17.10      21.72\n",
      "102               32851    7.0  1198.0    19.83       6.45 \n",
      "\n",
      "\n",
      "Test Data after remeding Multicollinearity Problem \n",
      "\n",
      "       Kilometers_Driven  Seats  Engine  Mileage  New_Price\n",
      "3451              61325    5.0  1197.0    18.90       8.10\n",
      "1146              40448    7.0  2523.0    15.96      11.01\n",
      "2239              42700    5.0  1199.0    23.84       5.61\n",
      "67                15369    5.0  1950.0     0.00      49.14\n",
      "3572              36824    5.0  1968.0    18.53      69.37\n"
     ]
    }
   ],
   "source": [
    "print('Training Data after remeding Multicollinearity Problem \\n\\n',train_x_fs.head(),'\\n\\n')\n",
    "print('Test Data after remeding Multicollinearity Problem \\n\\n',test_x_fs.head())"
   ]
  },
  {
   "cell_type": "code",
   "execution_count": 27,
   "id": "a2e76378-4136-4816-8c26-74cfc8cafd77",
   "metadata": {},
   "outputs": [
    {
     "name": "stdout",
     "output_type": "stream",
     "text": [
      "Training R2 after addressing multicollinearity Problem: 0.86\n",
      "Test R2 after addressing multicollinearity Problem: 0.89\n"
     ]
    }
   ],
   "source": [
    "regr_m = LinearRegression()\n",
    "\n",
    "regr_m.fit(train_x_fs,train_y)           \n",
    "pred_test_y_fs = regr_m.predict(test_x_fs)\n",
    "\n",
    "print('Training R2 after addressing multicollinearity Problem: %.2f' % regr_m.score(train_x_fs,train_y))\n",
    "print('Test R2 after addressing multicollinearity Problem: %.2f' % regr_m.score(test_x_fs,test_y))"
   ]
  },
  {
   "cell_type": "markdown",
   "id": "1b121a6a-8fbf-433c-a97f-eade7cbd2ae8",
   "metadata": {},
   "source": [
    "- The `R2 score` on the training data after addressing the multicollinearity problem is `0.86`, indicating that **85% of the variation in the dependent variable is explained by the independent variables in the model**.\n",
    "- The `R2 score` on the test data after addressing the multicollinearity problem is `0.89`, suggesting that **the independent variables in the model can explain around 88% of the variation in the dependent variable**.\n",
    "- These scores show that **addressing the multicollinearity problem has improved the model's performance slightly**, with a slightly higher R2 score on the test data indicating better prediction accuracy."
   ]
  },
  {
   "cell_type": "code",
   "execution_count": 28,
   "id": "9612c692-062b-4f0e-b3e3-e3871afdc11f",
   "metadata": {},
   "outputs": [
    {
     "name": "stdout",
     "output_type": "stream",
     "text": [
      "Performance Test Data after addressing the multicollinearity problem\n",
      "\n",
      "Mean Squared Error: 22.14\n",
      "R2: 0.89\n"
     ]
    }
   ],
   "source": [
    "print(\"Performance Test Data after addressing the multicollinearity problem\\n\")\n",
    "print('Mean Squared Error: %.2f' % mean_squared_error(test_y, pred_test_y_fs))\n",
    "print('R2: %.2f'% r2_score(test_y, pred_test_y_fs))"
   ]
  },
  {
   "cell_type": "markdown",
   "id": "34d7df1c-456c-4c15-9e7f-4532f1945701",
   "metadata": {},
   "source": [
    "- The `mean squared error` in this case is `22.14`, indicating that the average squared difference between the predicted and actual values is 22.14.\n",
    "- The `R2 score` is `0.89`, suggesting that the independent variables in the **model can explain around 89% of the variation in the dependent variable**.\n",
    "- Compared to the performance before addressing multicollinearity problem, there is a `slight decrease in R2 score` but the difference is not significant. Overall, the model is performing reasonably well in predicting the dependent variable after addressing multicollinearity problem."
   ]
  },
  {
   "cell_type": "markdown",
   "id": "06c76543-c1f4-4cd1-8637-064953d4fbbd",
   "metadata": {},
   "source": [
    "## Feature Selection\n",
    "\n",
    "### 1. Applying Exhaustive Feature Selection Method\n",
    "\n",
    "The dataset obtained after addressing multicollinearity will undergo both Exhaustive Feature Selection and Sequential Feature Selection.\n",
    "\n",
    "- Perform feature selection using exhaustive feature selection (EFS).\n",
    "- Transform both the training and test data using the selected features.\n",
    "- Train a new linear regression model using the transformed training data.\n",
    "- Use the trained model to predict the dependent variable for both the training and test data.\n",
    "- Store the predicted values in the variables pred_train_y_efs and pred_test_y_efs, respectively."
   ]
  },
  {
   "cell_type": "code",
   "execution_count": 29,
   "id": "dd053419-aedd-4668-8c04-ed17d4c33a2b",
   "metadata": {},
   "outputs": [],
   "source": [
    "from mlxtend.feature_selection import ExhaustiveFeatureSelector as EFS"
   ]
  },
  {
   "cell_type": "code",
   "execution_count": 30,
   "id": "f594b0d2-3ed1-429e-9a1b-ab6eb7d6aad9",
   "metadata": {},
   "outputs": [
    {
     "name": "stderr",
     "output_type": "stream",
     "text": [
      "Features: 31/31"
     ]
    },
    {
     "name": "stdout",
     "output_type": "stream",
     "text": [
      "Best R2: 0.8564022245088899 \n",
      "Best Subset indicies: (0, 1, 2, 3, 4) \n",
      "Best Subset Names: ('Kilometers_Driven', 'Seats', 'Engine', 'Mileage', 'New_Price')\n"
     ]
    }
   ],
   "source": [
    "regr = LinearRegression()\n",
    "efs = EFS(regr, \n",
    "          min_features=1,\n",
    "          max_features=5, \n",
    "          scoring='r2',\n",
    "          print_progress = True, \n",
    "          cv = None).fit(train_x_fs, train_y)\n",
    "\n",
    "print('Best R2: {0} \\nBest Subset indicies: {1} \\nBest Subset Names: {2}'\n",
    "      .format(efs.best_score_, efs.best_idx_, efs.best_feature_names_))"
   ]
  },
  {
   "cell_type": "code",
   "execution_count": 31,
   "id": "249a9396-f9bc-4f9d-90b3-a9271b28d4db",
   "metadata": {
    "tags": []
   },
   "outputs": [
    {
     "data": {
      "text/plain": [
       "{0: {'feature_idx': (0,),\n",
       "  'cv_scores': array([0.03317145]),\n",
       "  'avg_score': 0.03317145288309398,\n",
       "  'feature_names': ('Kilometers_Driven',)},\n",
       " 1: {'feature_idx': (1,),\n",
       "  'cv_scores': array([0.00102943]),\n",
       "  'avg_score': 0.0010294285678290604,\n",
       "  'feature_names': ('Seats',)},\n",
       " 2: {'feature_idx': (2,),\n",
       "  'cv_scores': array([0.4775655]),\n",
       "  'avg_score': 0.4775655018256445,\n",
       "  'feature_names': ('Engine',)},\n",
       " 3: {'feature_idx': (3,),\n",
       "  'cv_scores': array([0.18266679]),\n",
       "  'avg_score': 0.18266679441823097,\n",
       "  'feature_names': ('Mileage',)},\n",
       " 4: {'feature_idx': (4,),\n",
       "  'cv_scores': array([0.80732463]),\n",
       "  'avg_score': 0.807324632528903,\n",
       "  'feature_names': ('New_Price',)},\n",
       " 5: {'feature_idx': (0, 1),\n",
       "  'cv_scores': array([0.03801019]),\n",
       "  'avg_score': 0.03801019442414799,\n",
       "  'feature_names': ('Kilometers_Driven', 'Seats')},\n",
       " 6: {'feature_idx': (0, 2),\n",
       "  'cv_scores': array([0.55718803]),\n",
       "  'avg_score': 0.5571880275029835,\n",
       "  'feature_names': ('Kilometers_Driven', 'Engine')},\n",
       " 7: {'feature_idx': (0, 3),\n",
       "  'cv_scores': array([0.20961024]),\n",
       "  'avg_score': 0.20961024281106833,\n",
       "  'feature_names': ('Kilometers_Driven', 'Mileage')},\n",
       " 8: {'feature_idx': (0, 4),\n",
       "  'cv_scores': array([0.8399509]),\n",
       "  'avg_score': 0.8399508991187656,\n",
       "  'feature_names': ('Kilometers_Driven', 'New_Price')},\n",
       " 9: {'feature_idx': (1, 2),\n",
       "  'cv_scores': array([0.56921588]),\n",
       "  'avg_score': 0.5692158821808728,\n",
       "  'feature_names': ('Seats', 'Engine')},\n",
       " 10: {'feature_idx': (1, 3),\n",
       "  'cv_scores': array([0.20750303]),\n",
       "  'avg_score': 0.2075030273208215,\n",
       "  'feature_names': ('Seats', 'Mileage')},\n",
       " 11: {'feature_idx': (1, 4),\n",
       "  'cv_scores': array([0.81119201]),\n",
       "  'avg_score': 0.8111920083844417,\n",
       "  'feature_names': ('Seats', 'New_Price')},\n",
       " 12: {'feature_idx': (2, 3),\n",
       "  'cv_scores': array([0.47773953]),\n",
       "  'avg_score': 0.47773953273421055,\n",
       "  'feature_names': ('Engine', 'Mileage')},\n",
       " 13: {'feature_idx': (2, 4),\n",
       "  'cv_scores': array([0.8135344]),\n",
       "  'avg_score': 0.8135343971684471,\n",
       "  'feature_names': ('Engine', 'New_Price')},\n",
       " 14: {'feature_idx': (3, 4),\n",
       "  'cv_scores': array([0.82030318]),\n",
       "  'avg_score': 0.8203031783622508,\n",
       "  'feature_names': ('Mileage', 'New_Price')},\n",
       " 15: {'feature_idx': (0, 1, 2),\n",
       "  'cv_scores': array([0.6261393]),\n",
       "  'avg_score': 0.6261392985598933,\n",
       "  'feature_names': ('Kilometers_Driven', 'Seats', 'Engine')},\n",
       " 16: {'feature_idx': (0, 1, 3),\n",
       "  'cv_scores': array([0.2245443]),\n",
       "  'avg_score': 0.2245442992919363,\n",
       "  'feature_names': ('Kilometers_Driven', 'Seats', 'Mileage')},\n",
       " 17: {'feature_idx': (0, 1, 4),\n",
       "  'cv_scores': array([0.84994715]),\n",
       "  'avg_score': 0.8499471529463468,\n",
       "  'feature_names': ('Kilometers_Driven', 'Seats', 'New_Price')},\n",
       " 18: {'feature_idx': (0, 2, 3),\n",
       "  'cv_scores': array([0.56110129]),\n",
       "  'avg_score': 0.5611012852829971,\n",
       "  'feature_names': ('Kilometers_Driven', 'Engine', 'Mileage')},\n",
       " 19: {'feature_idx': (0, 2, 4),\n",
       "  'cv_scores': array([0.853742]),\n",
       "  'avg_score': 0.8537420018737869,\n",
       "  'feature_names': ('Kilometers_Driven', 'Engine', 'New_Price')},\n",
       " 20: {'feature_idx': (0, 3, 4),\n",
       "  'cv_scores': array([0.85117422]),\n",
       "  'avg_score': 0.8511742197908578,\n",
       "  'feature_names': ('Kilometers_Driven', 'Mileage', 'New_Price')},\n",
       " 21: {'feature_idx': (1, 2, 3),\n",
       "  'cv_scores': array([0.5712791]),\n",
       "  'avg_score': 0.5712791026454146,\n",
       "  'feature_names': ('Seats', 'Engine', 'Mileage')},\n",
       " 22: {'feature_idx': (1, 2, 4),\n",
       "  'cv_scores': array([0.81372803]),\n",
       "  'avg_score': 0.8137280290439356,\n",
       "  'feature_names': ('Seats', 'Engine', 'New_Price')},\n",
       " 23: {'feature_idx': (1, 3, 4),\n",
       "  'cv_scores': array([0.82044319]),\n",
       "  'avg_score': 0.8204431949095664,\n",
       "  'feature_names': ('Seats', 'Mileage', 'New_Price')},\n",
       " 24: {'feature_idx': (2, 3, 4),\n",
       "  'cv_scores': array([0.82056195]),\n",
       "  'avg_score': 0.8205619476488814,\n",
       "  'feature_names': ('Engine', 'Mileage', 'New_Price')},\n",
       " 25: {'feature_idx': (0, 1, 2, 3),\n",
       "  'cv_scores': array([0.62615596]),\n",
       "  'avg_score': 0.6261559571178034,\n",
       "  'feature_names': ('Kilometers_Driven', 'Seats', 'Engine', 'Mileage')},\n",
       " 26: {'feature_idx': (0, 1, 2, 4),\n",
       "  'cv_scores': array([0.85477334]),\n",
       "  'avg_score': 0.8547733414110517,\n",
       "  'feature_names': ('Kilometers_Driven', 'Seats', 'Engine', 'New_Price')},\n",
       " 27: {'feature_idx': (0, 1, 3, 4),\n",
       "  'cv_scores': array([0.85438788]),\n",
       "  'avg_score': 0.8543878794045884,\n",
       "  'feature_names': ('Kilometers_Driven', 'Seats', 'Mileage', 'New_Price')},\n",
       " 28: {'feature_idx': (0, 2, 3, 4),\n",
       "  'cv_scores': array([0.85572698]),\n",
       "  'avg_score': 0.8557269792368094,\n",
       "  'feature_names': ('Kilometers_Driven', 'Engine', 'Mileage', 'New_Price')},\n",
       " 29: {'feature_idx': (1, 2, 3, 4),\n",
       "  'cv_scores': array([0.82057571]),\n",
       "  'avg_score': 0.8205757096996643,\n",
       "  'feature_names': ('Seats', 'Engine', 'Mileage', 'New_Price')},\n",
       " 30: {'feature_idx': (0, 1, 2, 3, 4),\n",
       "  'cv_scores': array([0.85640222]),\n",
       "  'avg_score': 0.8564022245088899,\n",
       "  'feature_names': ('Kilometers_Driven',\n",
       "   'Seats',\n",
       "   'Engine',\n",
       "   'Mileage',\n",
       "   'New_Price')}}"
      ]
     },
     "execution_count": 31,
     "metadata": {},
     "output_type": "execute_result"
    }
   ],
   "source": [
    "efs.subsets_"
   ]
  },
  {
   "cell_type": "code",
   "execution_count": 32,
   "id": "394f7b51-45fd-410a-a88a-b675e8f15906",
   "metadata": {},
   "outputs": [],
   "source": [
    "train_x_efs = efs.transform(train_x_fs)\n",
    "test_x_efs = efs.transform(test_x_fs)\n",
    "\n",
    "regr = LinearRegression()\n",
    "regr.fit(train_x_efs, train_y)\n",
    "\n",
    "pred_train_y_efs = regr.predict(train_x_efs)\n",
    "pred_test_y_efs = regr.predict(test_x_efs)"
   ]
  },
  {
   "cell_type": "markdown",
   "id": "7316d63b-e885-4a94-83c4-6cdf0d188ebb",
   "metadata": {},
   "source": [
    "##### **Mean Square Error and R2 Score for after Feature Selection using Exhaustive Feature Selection**"
   ]
  },
  {
   "cell_type": "code",
   "execution_count": 33,
   "id": "1336ee49-0db6-478b-aaea-27dbe9451d60",
   "metadata": {},
   "outputs": [
    {
     "name": "stdout",
     "output_type": "stream",
     "text": [
      "Mean Square Error for Training Data after Exhaustive Feature Selection: 20.99\n",
      "R2 for Training Data after Exhaustive Feature Selection: 0.86\n",
      "\n",
      "Mean square Error for Test Data after Exhaustive Feature Selection: 22.14\n",
      "R2 for Test Data after Exhaustive Feature Selection: 0.89\n"
     ]
    }
   ],
   "source": [
    "print('Mean Square Error for Training Data after Exhaustive Feature Selection: %.2f' % mean_squared_error(train_y, pred_train_y_efs))\n",
    "print('R2 for Training Data after Exhaustive Feature Selection: %.2f' % r2_score(train_y, pred_train_y_efs))\n",
    "\n",
    "print('\\nMean square Error for Test Data after Exhaustive Feature Selection: %.2f' % mean_squared_error(test_y, pred_test_y_efs))\n",
    "print('R2 for Test Data after Exhaustive Feature Selection: %.2f' % r2_score(test_y, pred_test_y_efs))"
   ]
  },
  {
   "cell_type": "markdown",
   "id": "37064689-b6b4-4d76-b168-d45b42fae99d",
   "metadata": {},
   "source": [
    "##### **After Exhaustive Feature selection**\n",
    "\n",
    "- The `MSE` for the training data `decreased to 20.99` from `22.14`, indicating improved performance.\n",
    "- The `R2 score` for the training data slightly `decreased to 0.86` from `89`, indicating a slight reduction in the independent variables' ability to explain the variation in the dependent variable.\n",
    "- The `MSE` for the test data increased to `22.14`, indicating that feature selection did not improve the model's performance. \n",
    "- The `R2 score` for the test data increased to `0.89`, indicating that feature selection improved the independent variables' ability to explain the variation in the dependent variable on the test data. "
   ]
  },
  {
   "cell_type": "markdown",
   "id": "97d9d0a1-6417-42d4-9100-e5cea5d88e2d",
   "metadata": {},
   "source": [
    "### 2. Applying Selective Feature Selection Method\n",
    "\n",
    "The process of selecting features involves utilizing a linear regression model and Sequential Backward Selection (SBS) algorithm. The SBS technique eliminates one feature at a time from the dataset until the specified number of features is attained, or the model's performance worsens. The chosen features are then utilized to train a new linear regression model.\n",
    "\n",
    "- The `fit()` method trains the feature selector and selects the best k_features based on the scoring metric."
   ]
  },
  {
   "cell_type": "code",
   "execution_count": 34,
   "id": "7aa726b8-6a62-4cd9-b8fb-1cafcc3d83e3",
   "metadata": {},
   "outputs": [],
   "source": [
    "from mlxtend.feature_selection import SequentialFeatureSelector as SFS"
   ]
  },
  {
   "cell_type": "code",
   "execution_count": 35,
   "id": "9e6b93f8-e8c3-4fad-8ee9-8878af9a33f7",
   "metadata": {},
   "outputs": [
    {
     "name": "stdout",
     "output_type": "stream",
     "text": [
      "Best R2 on Training set: 0.86\n",
      "Best Column:  ('Kilometers_Driven', 'Seats', 'Engine', 'Mileage', 'New_Price')\n",
      "Best Column index:  (0, 1, 2, 3, 4)\n"
     ]
    }
   ],
   "source": [
    "sbs = SFS(regr,\n",
    "          k_features=(1,len(train_x_fs.columns)), \n",
    "          forward=False, #Backward Selection\n",
    "          floating=False, \n",
    "          scoring='r2',\n",
    "          cv=None)\n",
    "sbs = sbs.fit(train_x_fs,train_y)\n",
    "\n",
    "print('Best R2 on Training set: %.2f' %sbs.k_score_)\n",
    "print('Best Column: ',sbs.k_feature_names_)\n",
    "print('Best Column index: ', sbs.k_feature_idx_)"
   ]
  },
  {
   "cell_type": "markdown",
   "id": "79e93a55-ee59-483f-9c91-81339ac985c2",
   "metadata": {},
   "source": [
    "\n",
    "<br>\n",
    "\n",
    "The `optimal R2 score` and corresponding features selected by the Sequential Backward Selection (by setting forward = False ) algorithm for a `linear regression` model trained on the transformed `training data` are calculated. \n",
    "- The `best R2 score` achieved on the training set is `0.86`, and the selected columns that led to the optimal performance are `Kilometers_Driven, Seats, Engine, Mileage, and New_Price`."
   ]
  },
  {
   "cell_type": "code",
   "execution_count": 36,
   "id": "71080b5e-a8a7-4add-812b-6e46166639f3",
   "metadata": {},
   "outputs": [
    {
     "data": {
      "text/plain": [
       "{5: {'feature_idx': (0, 1, 2, 3, 4),\n",
       "  'cv_scores': array([0.85640222]),\n",
       "  'avg_score': 0.8564022245088899,\n",
       "  'feature_names': ('Kilometers_Driven',\n",
       "   'Seats',\n",
       "   'Engine',\n",
       "   'Mileage',\n",
       "   'New_Price')},\n",
       " 4: {'feature_idx': (0, 2, 3, 4),\n",
       "  'cv_scores': array([0.85572698]),\n",
       "  'avg_score': 0.8557269792368094,\n",
       "  'feature_names': ('Kilometers_Driven', 'Engine', 'Mileage', 'New_Price')},\n",
       " 3: {'feature_idx': (0, 2, 4),\n",
       "  'cv_scores': array([0.853742]),\n",
       "  'avg_score': 0.8537420018737869,\n",
       "  'feature_names': ('Kilometers_Driven', 'Engine', 'New_Price')},\n",
       " 2: {'feature_idx': (0, 4),\n",
       "  'cv_scores': array([0.8399509]),\n",
       "  'avg_score': 0.8399508991187656,\n",
       "  'feature_names': ('Kilometers_Driven', 'New_Price')},\n",
       " 1: {'feature_idx': (4,),\n",
       "  'cv_scores': array([0.80732463]),\n",
       "  'avg_score': 0.807324632528903,\n",
       "  'feature_names': ('New_Price',)}}"
      ]
     },
     "execution_count": 36,
     "metadata": {},
     "output_type": "execute_result"
    }
   ],
   "source": [
    "sbs.subsets_"
   ]
  },
  {
   "cell_type": "markdown",
   "id": "deb6f55e-9dcd-4c8a-a073-d7c8b45968ac",
   "metadata": {},
   "source": [
    "- The above subset details reveal that the new SFS instance (sbs4) has been initialized to identify the top `4 features`. Despite having a subset with 5 features that yields a similar R2 value, it is considered more optimal to choose the subset with only 4 features.\n",
    "- The `fit()` method is then called on sbs4 using the training data."
   ]
  },
  {
   "cell_type": "code",
   "execution_count": 37,
   "id": "b88bf37e-38c4-47c4-98e4-a2eb16a133eb",
   "metadata": {},
   "outputs": [
    {
     "name": "stdout",
     "output_type": "stream",
     "text": [
      "Best R2 score on training data: 0.86\n",
      "Best subset (column names): ('Kilometers_Driven', 'Engine', 'Mileage', 'New_Price')\n",
      "Best subset index: (0, 2, 3, 4)\n"
     ]
    }
   ],
   "source": [
    "sbs4 = SFS(regr, \n",
    "          k_features=4, \n",
    "          forward=False, \n",
    "          floating=False, \n",
    "          scoring='r2',\n",
    "          cv=None)\n",
    "\n",
    "sbs4 = sbs4.fit(train_x_fs,train_y)\n",
    "\n",
    "print('Best R2 score on training data: %.2f' % sbs4.k_score_)\n",
    "print('Best subset (column names):', sbs4.k_feature_names_)\n",
    "print('Best subset index:', sbs4.k_feature_idx_)"
   ]
  },
  {
   "cell_type": "markdown",
   "id": "304fe37f-ecb0-435f-8aba-542f82666ca2",
   "metadata": {},
   "source": [
    "- The best subset of features selected by SFS contains the `Kilometers_Driven`, `Engine`, `Mileage`, and `New_Price` columns. After selecting the best subset of features, the training and testing data are transformed to include only these features.\n",
    "- Finally, a `Linear Regression` model is fit on the transformed training data, and the model's performance is evaluated on both the transformed training and testing data by predicting the dependent variable values."
   ]
  },
  {
   "cell_type": "code",
   "execution_count": 38,
   "id": "a591930f-a736-44bb-bbe4-050166236025",
   "metadata": {},
   "outputs": [],
   "source": [
    "train_x_sbs4 = sbs4.transform(train_x_fs)\n",
    "test_x_sbs4 = sbs4.transform(test_x_fs)\n",
    "\n",
    "regr = LinearRegression()\n",
    "regr.fit(train_x_sbs4, train_y)\n",
    "\n",
    "pred_train_y_sbs4 = regr.predict(train_x_sbs4)\n",
    "pred_test_y_sbs4 = regr.predict(test_x_sbs4)"
   ]
  },
  {
   "cell_type": "markdown",
   "id": "a8f95909-83eb-4313-8661-4a225b28ec92",
   "metadata": {},
   "source": [
    "##### **Mean Square Error and R2 Score after Feature Selection using Selective Feature Selection**"
   ]
  },
  {
   "cell_type": "code",
   "execution_count": 39,
   "id": "d954a37f-2a0e-44fc-a002-ab0f0ef23f9c",
   "metadata": {},
   "outputs": [
    {
     "name": "stdout",
     "output_type": "stream",
     "text": [
      "Mean Square Error for Training Data after Selective Feature Selection: 21.09\n",
      "R2 for Training Data after Selective Feature Selection: 0.86\n",
      "\n",
      "Mean square Error for Test Data after Selective Feature Selection: 22.63\n",
      "R2 for Test Data after Selective Feature Selection: 0.89\n"
     ]
    }
   ],
   "source": [
    "print('Mean Square Error for Training Data after Selective Feature Selection: %.2f' % mean_squared_error(train_y, pred_train_y_sbs4))\n",
    "print('R2 for Training Data after Selective Feature Selection: %.2f' % r2_score(train_y, pred_train_y_sbs4))\n",
    "\n",
    "print('\\nMean square Error for Test Data after Selective Feature Selection: %.2f' % mean_squared_error(test_y, pred_test_y_sbs4))\n",
    "print('R2 for Test Data after Selective Feature Selection: %.2f' % r2_score(test_y, pred_test_y_sbs4))\n"
   ]
  },
  {
   "cell_type": "markdown",
   "id": "6d3a4a21-c759-4a06-b8a9-6887a3318861",
   "metadata": {},
   "source": [
    "##### **After Selective Feature selection**\n",
    "\n",
    "- The `MSE` for training data after selective feature selection is `21.09`, indicating an average difference of 21.09 units between the predicted and actual values.\n",
    "- The `R2` value for training data after selective feature selection is `0.86`, indicating that **the model explains 86% of the variance in the target variable.**\n",
    "- The `MSE` for test data after selective feature selection is `22.63`, indicating a slightly worse performance on unseen data.\n",
    "- The `R2` value for test data after selective feature selection is `0.89`, indicating that **the model explains 89% of the variance in the target variable on the test data.**\n",
    "- Overall, the model has a good fit to the training data and generalizes reasonably well to the test data."
   ]
  },
  {
   "cell_type": "markdown",
   "id": "08274702-6c41-451a-8feb-924adddce9c1",
   "metadata": {},
   "source": [
    "## Conclusion\n",
    "\n",
    "- Multicollinearity can cause errors in linear regression models and dropping highly correlated features can improve the accuracy of the model.\n",
    "- The full model without addressing multicollinearity performed reasonably well, but addressing multicollinearity is essential to build a more accurate model.\n",
    "- The performance of the model before addressing multicollinearity can be used as a baseline for comparison when evaluating the performance of the model after addressing multicollinearity and performing feature selection.\n",
    "- Addressing multicollinearity improved the model's performance slightly, with a slightly higher R2 score on the test data indicating better prediction accuracy.\n",
    "- Feature selection improved the independent variables' ability to explain the variation in the dependent variable on the test data, but did not significantly improve the mean squared error on the test data.\n",
    "- The model after selective feature selection has a good fit to the training data and generalizes reasonably well to the test data.\n",
    "\n",
    "- There is still some room for improvement in the model's performance on the test data.\n",
    "- Alternative feature selection methods or tweaking the model parameters may help to improve the performance of the model further."
   ]
  }
 ],
 "metadata": {
  "kernelspec": {
   "display_name": "Python 3 (ipykernel)",
   "language": "python",
   "name": "python3"
  },
  "language_info": {
   "codemirror_mode": {
    "name": "ipython",
    "version": 3
   },
   "file_extension": ".py",
   "mimetype": "text/x-python",
   "name": "python",
   "nbconvert_exporter": "python",
   "pygments_lexer": "ipython3",
   "version": "3.10.4"
  }
 },
 "nbformat": 4,
 "nbformat_minor": 5
}
